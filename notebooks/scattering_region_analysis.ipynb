{
 "cells": [
  {
   "cell_type": "code",
   "execution_count": 58,
   "id": "e73df184-39b1-4378-9c87-3d88e89ed4a1",
   "metadata": {},
   "outputs": [],
   "source": [
    "import sys\n",
    "sys.path.append('../scripts') \n",
    "\n",
    "import numpy as np\n",
    "import pandas as pd\n",
    "from scipy.fft import fft, ifft, fftfreq\n",
    "import qutip\n",
    "from qutip_tools import *\n",
    "\n",
    "import matplotlib.pyplot as plt\n",
    "import matplotlib.gridspec as gridspec\n",
    "import seaborn as sns\n",
    "import h5py\n",
    "import json\n",
    "import matplotlib \n",
    "from mpl_toolkits.axes_grid1 import make_axes_locatable\n",
    "\n",
    "import os\n",
    "import sys  \n",
    "from ast import literal_eval"
   ]
  },
  {
   "cell_type": "code",
   "execution_count": 2,
   "id": "d7e0d6da-25c9-40c1-b6bc-53150e35e44a",
   "metadata": {},
   "outputs": [],
   "source": [
    "# define basic figure sizes\n",
    "bwidth=7\n",
    "bheight=5\n",
    "base_font = 20\n",
    "\n",
    "matplotlib.rcParams.update({'font.size': base_font,\"legend.fontsize\":base_font-4 ,\"font.family\": \"serif\", \n",
    "                            \"font.serif\": \"CMU Serif, Times New Roman\",\n",
    "                           'text.usetex' : True })\n",
    "\n",
    "sns.set_palette(\"colorblind\")\n",
    "\n",
    "fig_route = \"../plots/perturbative/\"\n",
    "data_route = \"../data/sims/L=21/\"\n"
   ]
  },
  {
   "cell_type": "markdown",
   "id": "e7f2e038-f519-4170-ac36-48b19b349e48",
   "metadata": {
    "jp-MarkdownHeadingCollapsed": true
   },
   "source": [
    "# Functions"
   ]
  },
  {
   "cell_type": "code",
   "execution_count": 3,
   "id": "5bfe836a-186d-4ab1-b569-de0d23d5592f",
   "metadata": {},
   "outputs": [],
   "source": [
    "def kth_diag_indices(a, k):\n",
    "    # negative numbers go below the diagonal, 0 is the main diagonal and positive nums go above\n",
    "    rows, cols = np.diag_indices_from(a)\n",
    "    if k < 0:\n",
    "        return rows[-k:], cols[:k]\n",
    "    elif k > 0:\n",
    "        return rows[:-k], cols[k:]\n",
    "    else:\n",
    "        return rows, cols\n",
    "    \n",
    "# Find index of the closest value\n",
    "def find_nearest(arr, target):\n",
    "    idx = np.abs(arr - target).argmin()\n",
    "    return arr[idx], idx\n",
    "\n",
    "def mag_sort(en_array, vec_array):\n",
    "    # sorts the energies and eigenvectors by energy magnitude\n",
    "    sort_idx = np.argsort(en_array)\n",
    "    en_array = en_array[sort_idx]\n",
    "    vec_array = vec_array[:,sort_idx]\n",
    "\n",
    "    return en_array, vec_array\n",
    "    \n",
    "\n",
    "def xhi(K,P, B):\n",
    "    # the matrix elements for perturbation\n",
    "    return np.sin(B*P+P)*np.sin(B*K) + np.sin(B*K+K)*np.sin(B*P)"
   ]
  },
  {
   "cell_type": "code",
   "execution_count": 4,
   "id": "aedd8007-2b7f-4c7a-840b-0245ccc420e2",
   "metadata": {},
   "outputs": [],
   "source": [
    "def sort_by_projection(energy_list,eigen_list, Proj):\n",
    "    # sorts the eigenvectors from numpy diagonalize into bands by their projection onto Proj\n",
    "    P_elements = []\n",
    "    # separate into bands accordin to their projection\n",
    "    for i in range(0,len(energy_list)):\n",
    "        # for plus states\n",
    "        ev = eigen_list[:,i]\n",
    "        ev_proj = np.matmul(Proj,ev)\n",
    "        # here we round off to nearest integer only for the separation\n",
    "        P_elements.append(round(np.dot(np.conj(ev), ev_proj)))\n",
    "        \n",
    "    P_elements = np.asarray(P_elements)\n",
    "    \n",
    "    # the symmetric states will be those with 1\n",
    "    p_sort_idx = np.argwhere(P_elements==1)[:,0]\n",
    "    \n",
    "    # the antisymmetric states will be those with 0\n",
    "    m_sort_idx = np.argwhere(P_elements==0)[:,0]\n",
    "\n",
    "    return m_sort_idx, p_sort_idx\n",
    "\n",
    "def separate_band(eigen_array, energy_array):\n",
    "    # since linalg spits out eigenvalues is some weird order se\n",
    "    # organize them in the proper band corresponding to the qubit states\n",
    "    band_list = []\n",
    "    index_list = []\n",
    "    for target_ in energy_array:\n",
    "        closest, index_c = find_nearest(eigen_array, target_)\n",
    "        band_list.append(closest)\n",
    "        index_list.append(index_c)\n",
    "    \n",
    "    return np.asarray(band_list), index_list\n",
    "    \n",
    "\n",
    "def get_projection_colors(state_list, Proj):\n",
    "    # get the colors for the band in staet list\n",
    "    # acording to the matrix element of the projection Proj\n",
    "    colors_ = []\n",
    "    # calculate the colors\n",
    "    for i in range(0,np.shape(state_list)[1]):\n",
    "        # for plus states\n",
    "        ev = state_list[:,i]\n",
    "        ev_proj = np.matmul(Proj,ev)\n",
    "        colors_.append(np.dot(np.conj(ev), ev_proj))\n",
    "        \n",
    "    return np.asarray(colors_)\n"
   ]
  },
  {
   "cell_type": "code",
   "execution_count": 5,
   "id": "6ad58e46-8586-43c4-bee4-3b1738542ecd",
   "metadata": {},
   "outputs": [],
   "source": [
    "def separate_by_proximity(numeric_energy, numeric_states):\n",
    "    # sorts numeric energy in accordance to the proximity to the two decoupled bands em0 ep0\n",
    "    sort_idx = np.argsort(numeric_energy)\n",
    "    sorted_energies = numeric_energy[sort_idx]\n",
    "    sorted_states = numeric_states[:,sort_idx]\n",
    "\n",
    "    marker_list = []\n",
    "\n",
    "    ep_copy = ep0\n",
    "    em_copy = em0\n",
    "    \n",
    "    for i in range(0, len(sorted_energies)):\n",
    "        # find the closest state in the plus band\n",
    "        ep_close, p_idx = find_nearest(ep_copy, sorted_energies[i])\n",
    "        # find the closest state in the minus band\n",
    "        em_close, m_idx = find_nearest(em_copy, sorted_energies[i])\n",
    "        \n",
    "        # get the difference and sort according to which is the smallest\n",
    "        dif_plus = abs(sorted_energies[i] - ep_close)\n",
    "        dif_minus = abs(sorted_energies[i] - em_close)\n",
    "\n",
    "        # accept in the minus band\n",
    "        if dif_plus>=dif_minus:\n",
    "            marker_list.append(0)\n",
    "            # remove to avoid double counting\n",
    "            # np.delete(ep_copy, p_idx)\n",
    "        else:\n",
    "            marker_list.append(1)\n",
    "            # np.delete(em_copy, m_idx)\n",
    "            \n",
    "    marker_list = np.asarray(marker_list)\n",
    "    \n",
    "    idx = np.argwhere(marker_list==1)[:,0]\n",
    "    plus_energies = sorted_energies[idx]\n",
    "    plus_states = sorted_states[:,idx]\n",
    "\n",
    "    idx = np.argwhere(marker_list==0)[:,0]\n",
    "    minus_energies = sorted_energies[idx]\n",
    "    minus_states = sorted_states[:,idx]\n",
    "\n",
    "    return minus_energies, minus_states, plus_energies, plus_states, "
   ]
  },
  {
   "cell_type": "code",
   "execution_count": 6,
   "id": "12bc2806-61cc-4e70-bcdf-0b9779c90a57",
   "metadata": {},
   "outputs": [],
   "source": [
    "\n",
    "def plot_2_bands(Em_correct, Ep_correct, Energies_m, Energies_p, Colors_m, Colors_p, Figuresize=(13,5)):\n",
    "    # Em_correct, Ep_correct are the perturbatively corrected energies \n",
    "    # Energies_m, Energies_p are the numpy eigenvalues\n",
    "    fig, ax = plt.subplots(1,2, figsize=Figuresize)\n",
    "    c_norm = (-0.2,1.2)\n",
    "\n",
    "    ax[0].plot(k_single_band, Em_correct, c= \"red\")\n",
    "    ax[0].plot(k_single_band, Ep_correct, c= \"blue\")\n",
    "    # zoomed in \n",
    "    ax[1].plot(k_single_band[cut1:cut2], Em_correct[cut1:cut2], c= \"red\")\n",
    "    ax[1].plot(k_single_band[cut1:cut2], Ep_correct[cut1:cut2], c= \"blue\")\n",
    "    \n",
    "    # Diagonalized \n",
    "    sns.scatterplot(x=k_single_band, y=Energies_p, hue= Colors_p, hue_norm= c_norm, palette=\"RdBu\", \n",
    "                    edgecolor=\"black\", legend=None,ax=ax[0])\n",
    "    \n",
    "    img = sns.scatterplot(x=k_single_band, y=Energies_m, hue= Colors_m, hue_norm= c_norm, palette=\"RdBu\" , \n",
    "                    edgecolor=\"black\", legend=None,ax=ax[0])\n",
    "    \n",
    "    # zoomed\n",
    "    sns.scatterplot(x=k_single_band[cut1:cut2], y=Energies_p[cut1:cut2], hue= Colors_p[cut1:cut2], hue_norm= c_norm, palette=\"RdBu\", \n",
    "                    edgecolor=\"black\", legend=None,ax=ax[1])\n",
    "    \n",
    "    img = sns.scatterplot(x=k_single_band[cut1:cut2], y=Energies_m[cut1:cut2], hue= Colors_m[cut1:cut2], hue_norm= c_norm, palette=\"RdBu\" , \n",
    "                    edgecolor=\"black\", legend=None,ax=ax[1],)\n",
    "\n",
    "    # Get the scatter object and attach colorbar\n",
    "    norm = plt.Normalize(c_norm[0], c_norm[1])\n",
    "    sm = plt.cm.ScalarMappable(cmap='RdBu', norm=norm)\n",
    "    sm.set_array([])  # Required for ScalarMappable with no mappable object\n",
    "    plt.colorbar(sm, ax=ax)\n",
    "    \n",
    "    # write x axis in units of pi\n",
    "    ax[0].xaxis.set_major_formatter(matplotlib.ticker.FuncFormatter(lambda val,pos: \n",
    "                                                                 r'{:.0g}$\\pi$'.format(val/np.pi) if val !=0 \n",
    "                                                                 else '0'))\n",
    "    \n",
    "    ax[1].xaxis.set_major_formatter(matplotlib.ticker.FuncFormatter(lambda val,pos: \n",
    "                                                                 r'{:.0g}$\\pi$'.format(val/np.pi) if val !=0 \n",
    "                                                                 else '0'))\n",
    "    ax[0].set_xlabel(r\"$k$\")\n",
    "    ax[0].set_ylabel(r\"$E$\")\n",
    "    ax[1].set_xlabel(r\"$k$\")\n",
    "\n",
    "    return ax"
   ]
  },
  {
   "cell_type": "code",
   "execution_count": 7,
   "id": "12b9fa39-25b4-4376-b064-ec5a18b7c137",
   "metadata": {},
   "outputs": [],
   "source": [
    "def plot_2_bands_2sorts(Em_correct, Ep_correct, Energies_m, Energies_p, \n",
    "                        Energies_prox_m, Energies_prox_p,Colors_m, Colors_p, \n",
    "                        Over_Colors_m, Over_Colors_p, Figuresize=(12,8)):\n",
    "    # Em_correct, Ep_correct are the perturbatively corrected energies for the proximity and projection sorting\n",
    "    # Energies_m, Energies_p are the numpy eigenvalues\n",
    "    fig, ax = plt.subplots(2,2, figsize=Figuresize)\n",
    "\n",
    "    # -------- For the Projection sorting-------------\n",
    "\n",
    "    ax[0,0].plot(k_single_band, Em_correct, c= \"red\")\n",
    "    ax[0,0].plot(k_single_band, Ep_correct, c= \"blue\")\n",
    "    sns.scatterplot(x=k_single_band, y=Energies_p, hue= Colors_p, hue_norm= c_norm, palette=\"RdBu\", \n",
    "                    edgecolor=\"black\", legend=None,ax=ax[0,0])\n",
    "    img = sns.scatterplot(x=k_single_band, y=Energies_m, hue= Colors_m, hue_norm= c_norm, palette=\"RdBu\" , \n",
    "                    edgecolor=\"black\", legend=None,ax=ax[0,0])\n",
    "    \n",
    "    # zoomed in \n",
    "    ax[0,1].plot(k_single_band[cut1:cut2], Em_correct[cut1:cut2], c= \"red\")\n",
    "    ax[0,1].plot(k_single_band[cut1:cut2], Ep_correct[cut1:cut2], c= \"blue\")\n",
    "    sns.scatterplot(x=k_single_band[cut1:cut2], y=Energies_p[cut1:cut2], hue= Colors_p[cut1:cut2], hue_norm= c_norm, palette=\"RdBu\", \n",
    "                    edgecolor=\"black\", legend=None,ax=ax[0,1])\n",
    "    img = sns.scatterplot(x=k_single_band[cut1:cut2], y=Energies_m[cut1:cut2], hue= Colors_m[cut1:cut2], hue_norm= c_norm, palette=\"RdBu\" , \n",
    "                    edgecolor=\"black\", legend=None,ax=ax[0,1],)\n",
    "    \n",
    "    # -------- For the overlap sorting-------------\n",
    "    ax[1,0].plot(k_single_band, Em_correct, c= \"red\")\n",
    "    ax[1,0].plot(k_single_band, Ep_correct, c= \"blue\")\n",
    "    sns.scatterplot(x=k_single_band, y=Energies_prox_p, hue= Over_Colors_p, hue_norm= c_norm, palette=\"RdBu\", \n",
    "                    edgecolor=\"black\", legend=None,ax=ax[1,0])\n",
    "    img = sns.scatterplot(x=k_single_band, y=Energies_prox_m, hue= Over_Colors_m, hue_norm= c_norm, palette=\"RdBu\" , \n",
    "                    edgecolor=\"black\", legend=None,ax=ax[1,0])\n",
    "    \n",
    "    # zoomed in \n",
    "    ax[1,1].plot(k_single_band[cut1:cut2], Em_correct[cut1:cut2], c= \"red\")\n",
    "    ax[1,1].plot(k_single_band[cut1:cut2], Ep_correct[cut1:cut2], c= \"blue\")\n",
    "    sns.scatterplot(x=k_single_band[cut1:cut2], y=Energies_prox_p[cut1:cut2], hue= Over_Colors_p[cut1:cut2], hue_norm= c_norm,\n",
    "                    palette=\"RdBu\", edgecolor=\"black\", legend=None,ax=ax[1,1])\n",
    "    img = sns.scatterplot(x=k_single_band[cut1:cut2], y=Energies_prox_m[cut1:cut2], hue= Over_Colors_m[cut1:cut2], hue_norm= c_norm, \n",
    "                          palette=\"RdBu\" , edgecolor=\"black\", legend=None,ax=ax[1,1],)\n",
    "    \n",
    "    # ------ aesthetical things ---------------\n",
    "    # Get the scatter object and attach colorbar to one of the plots\n",
    "    norm = plt.Normalize(c_norm[0], c_norm[1])\n",
    "    sm = plt.cm.ScalarMappable(cmap='RdBu', norm=norm)\n",
    "    sm.set_array([])  # Required for ScalarMappable with no mappable object\n",
    "    plt.colorbar(sm, ax=ax)\n",
    "    \n",
    "    # write x axis in units of pi\n",
    "    ax[0,0].set_title(r\"Sorted by Projection\")\n",
    "    ax[0,0].set_xticks([],[])\n",
    "    ax[0,0].set_ylabel(r\"$E$\")\n",
    "    ax[0,1].set_xticks([],[])\n",
    "    ax[1,0].set_title(r\"Sorted by Overlaps\")\n",
    "    ax[1,0].set_xlabel(r\"$k$\")\n",
    "    ax[1,0].set_ylabel(r\"$E$\")\n",
    "    ax[1,1].set_xlabel(r\"$k$\")\n",
    "\n",
    "    ax[1,0].xaxis.set_major_formatter(matplotlib.ticker.FuncFormatter(lambda val,pos: \n",
    "                                                                 r'{:.0g}$\\pi$'.format(val/np.pi) if val !=0 \n",
    "                                                                 else '0'))\n",
    "    \n",
    "    ax[1,1].xaxis.set_major_formatter(matplotlib.ticker.FuncFormatter(lambda val,pos: \n",
    "                                                                 r'{:.0g}$\\pi$'.format(val/np.pi) if val !=0 \n",
    "                                                                 else '0'))\n",
    "\n",
    "    return ax \n"
   ]
  },
  {
   "cell_type": "markdown",
   "id": "d809eb9c-051b-4a10-a5e1-8c102c41ffa3",
   "metadata": {},
   "source": [
    "# Perturbations to the energy\n",
    "\n",
    "we compared to the exact diagonalization"
   ]
  },
  {
   "cell_type": "markdown",
   "id": "4512471f-f786-4cc5-a947-407b8c10554d",
   "metadata": {},
   "source": [
    "## Initialize the System"
   ]
  },
  {
   "cell_type": "code",
   "execution_count": 8,
   "id": "e25e1349-8671-4929-b067-0667bdf40539",
   "metadata": {},
   "outputs": [
    {
     "name": "stdout",
     "output_type": "stream",
     "text": [
      "0.1\n"
     ]
    },
    {
     "data": {
      "text/plain": [
       "0.13659098493868665"
      ]
     },
     "execution_count": 8,
     "metadata": {},
     "output_type": "execute_result"
    }
   ],
   "source": [
    "L_qpc = 22\n",
    "L = L_qpc + 2\n",
    "Omega = 0.3\n",
    "t = 0.1 # 0.04 0.05 0.1 0.3 0.9\n",
    "J_prime = 1\n",
    "bond_index = 8 #int(L_qpc/2)\n",
    "J = np.ones(L_qpc) # QPC hopping\n",
    "J[bond_index] = J_prime  \n",
    "\n",
    "print(t)\n",
    "# create the fermion operator list\n",
    "np.pi/(L_qpc+1)"
   ]
  },
  {
   "cell_type": "code",
   "execution_count": 9,
   "id": "61adf45b-bd2b-48d9-9894-6633d53e8c19",
   "metadata": {},
   "outputs": [
    {
     "name": "stdout",
     "output_type": "stream",
     "text": [
      "Bond at:  16\n"
     ]
    },
    {
     "data": {
      "text/plain": [
       "<AxesSubplot:>"
      ]
     },
     "execution_count": 9,
     "metadata": {},
     "output_type": "execute_result"
    },
    {
     "data": {
      "image/png": "[encoded data removed]",
      "text/plain": [
       "<Figure size 432x288 with 2 Axes>"
      ]
     },
     "metadata": {
      "needs_background": "light"
     },
     "output_type": "display_data"
    }
   ],
   "source": [
    "H_matrix = np.zeros((2*L_qpc,2*L_qpc))\n",
    "# fill in the dd hopping \n",
    "d_indices= kth_diag_indices(H_matrix,1)\n",
    "H_matrix[d_indices] = -t\n",
    "\n",
    "# fill in the QPC hopping\n",
    "d_indices= kth_diag_indices(H_matrix,2)\n",
    "H_matrix[d_indices] = -J[0]\n",
    "\n",
    "# when qpc and qubit hop a the same time there is no contribution\n",
    "d_indices= kth_diag_indices(H_matrix,1)\n",
    "odd_inds = (d_indices[0][1::2], d_indices[1][1::2])\n",
    "H_matrix[odd_inds] = 0\n",
    "\n",
    "# save the free hamiltonian for later use\n",
    "Hdeco = H_matrix.copy()\n",
    "\n",
    "# Fill in the interaction at the bond\n",
    "H_matrix[2*bond_index,2*(bond_index+1)] = H_matrix[2*bond_index,2*(bond_index+1)]+ Omega\n",
    "\n",
    "# Now the elemets below the diagonal\n",
    "for i in range(0,2*L_qpc):\n",
    "    for j in range(i + 1, 2*L_qpc):\n",
    "        H_matrix[j, i] = H_matrix[i, j]\n",
    "        Hdeco[j, i] = Hdeco[i, j]\n",
    "\n",
    "print(\"Bond at: \", 2*bond_index)\n",
    "sns.heatmap(H_matrix)"
   ]
  },
  {
   "cell_type": "code",
   "execution_count": 10,
   "id": "e3b21005",
   "metadata": {},
   "outputs": [
    {
     "data": {
      "text/plain": [
       "array([1.57079633, 2.27765467, 2.98451302, 3.69137137, 4.39822972])"
      ]
     },
     "execution_count": 10,
     "metadata": {},
     "output_type": "execute_result"
    }
   ],
   "source": [
    "# Calculate the energies and eigenvectors\n",
    "energies, eigen_vecs = np.linalg.eig(H_matrix)\n",
    "# normalize\n",
    "eigen_vecs = eigen_vecs/ np.linalg.norm(eigen_vecs, axis=0)\n",
    "\n",
    "# calculate the decoupled system analytic eigenenergies (zeroth order correction)\n",
    "k_single_band = np.arange(1,L_qpc+1)*np.pi/(L_qpc+1)\n",
    "em0 = -2*J[0]*np.cos(k_single_band) - t \n",
    "ep0 = -2*J[0]*np.cos(k_single_band) + t \n",
    "\n",
    "# find the momenta that we are mostly interested in (far from the edges of the brillouin zone)\n",
    "_, cut1 = find_nearest(k_single_band, 0.2*np.pi)\n",
    "_, cut2 = find_nearest(k_single_band, 0.8*np.pi)\n",
    "\n",
    "np.linspace(0.5*np.pi,1.4*np.pi,5)"
   ]
  },
  {
   "cell_type": "markdown",
   "id": "f290e61c",
   "metadata": {},
   "source": [
    "## Sorting into bands\n",
    "Here we expect two bands, however we have to be carefull because **linalg spits the eigenvectors and states all mixed up instead of in neat bands**. So what we have to do is construct a projection operator and apply it to the eigenstates from numpy. Their values will be either 1 or 0 and with that we will be able to sort them into the proper symmetry bands"
   ]
  },
  {
   "cell_type": "markdown",
   "id": "3132ab16-9637-4c40-bbe0-348aa4c7cd47",
   "metadata": {},
   "source": [
    "### Sorting by Projection"
   ]
  },
  {
   "cell_type": "code",
   "execution_count": 11,
   "id": "da7d8cbb-3cfa-401c-87ef-ee0979ab50cc",
   "metadata": {},
   "outputs": [],
   "source": [
    "# build the projection opeartor to the qubit-symmetric sector of the hilbert space\n",
    "Id_qpc = np.eye(L_qpc)\n",
    "plusket = np.asarray([1/np.sqrt(2),1/np.sqrt(2)])\n",
    "p_ketbra = np.outer(plusket,plusket)\n",
    "Psym = np.eye(2*L_qpc) - np.kron(Id_qpc, p_ketbra) # tensor product\n"
   ]
  },
  {
   "cell_type": "code",
   "execution_count": 12,
   "id": "8e7fa708-7b63-4a22-bccd-c8575c3960c0",
   "metadata": {},
   "outputs": [],
   "source": [
    "mindices, pindices = sort_by_projection(energies,eigen_vecs, Psym)\n",
    "\n",
    "# minus band\n",
    "energies_m = energies[mindices]\n",
    "states_m = eigen_vecs[:,mindices]\n",
    "# sort by magnitude\n",
    "energies_m, states_m = mag_sort(energies_m, states_m)\n",
    "\n",
    "# plus band\n",
    "energies_p = energies[pindices]\n",
    "states_p = eigen_vecs[:,pindices]\n",
    "energies_p, states_p = mag_sort(energies_p, states_p)\n",
    "\n",
    "\n",
    "# get the colors for each band \n",
    "colors_p = get_projection_colors(states_p, Psym)\n",
    "colors_m = get_projection_colors(states_m, Psym)"
   ]
  },
  {
   "cell_type": "markdown",
   "id": "0eecf9fc-73a9-4f26-a2f9-ee929345512e",
   "metadata": {},
   "source": [
    "### sorting by proximity"
   ]
  },
  {
   "cell_type": "markdown",
   "id": "3682d179-aad7-4e37-b831-e103493f35b4",
   "metadata": {},
   "source": [
    "Separating with proximity to decoupled energies: **This will not work because sometimes I have eigenvaleus that are very far away annd they wont get assigned at all. Try this one out:**\n",
    "\n",
    "https://scicomp.stackexchange.com/questions/10708/sorting-eigenvalues-by-the-dominant-contribution "
   ]
  },
  {
   "cell_type": "code",
   "execution_count": 13,
   "id": "62b77955-cc3a-4673-b33b-6ba356c51dcd",
   "metadata": {},
   "outputs": [],
   "source": [
    "\n",
    "proximity_m, prox_state_m, proximity_p, prox_state_p = separate_by_proximity(energies, eigen_vecs)\n",
    "\n",
    "pro_colors_p = get_projection_colors(prox_state_p, Psym)\n",
    "pro_colors_m = get_projection_colors(prox_state_m, Psym)\n"
   ]
  },
  {
   "cell_type": "markdown",
   "id": "58b7e9e4-9baf-448b-a5e6-e9c917f35d19",
   "metadata": {},
   "source": [
    "### Sorting by Overlap matrix\n",
    "\n",
    "So the idea is that we grab the eigenvectors of the free system calculated with python and calculate the overlap with those of the coupled system. Coupled vector with the largest overlap will correspond to the $k$ of the free system. Since gor the free system we can perfectly find each $k$ we can therefore also sort the interacting one from that.\n",
    "\n"
   ]
  },
  {
   "cell_type": "code",
   "execution_count": 14,
   "id": "b8c0894b-eae4-4d48-af32-02dfcbf54f3a",
   "metadata": {},
   "outputs": [],
   "source": [
    "# Calculate the energies and eigenvectors\n",
    "free_energies, free_eigen_vecs = np.linalg.eig(Hdeco)\n",
    "# normalize\n",
    "free_eigen_vecs = free_eigen_vecs/ np.linalg.norm(free_eigen_vecs, axis=0)\n"
   ]
  },
  {
   "cell_type": "code",
   "execution_count": 15,
   "id": "242b4f2f-db59-4dd7-b42f-02dc23c59c3d",
   "metadata": {},
   "outputs": [
    {
     "data": {
      "text/plain": [
       "Text(0.5, 1.0, 'Overlap Matrix')"
      ]
     },
     "execution_count": 15,
     "metadata": {},
     "output_type": "execute_result"
    },
    {
     "data": {
      "image/png": "[encoded data removed]",
      "text/plain": [
       "<Figure size 432x288 with 2 Axes>"
      ]
     },
     "metadata": {
      "needs_background": "light"
     },
     "output_type": "display_data"
    }
   ],
   "source": [
    "# calculate the overlaps between the eigenvectors of H0 and\n",
    "sorted_indices = []\n",
    "over_matrix = np.zeros((len(energies),len(energies)))\n",
    "for i in range(0,len(energies)):\n",
    "    for j in range(0,len(energies)):\n",
    "        overlap = (np.dot(free_eigen_vecs[:,i].conj(), eigen_vecs[:,j]))**2\n",
    "        over_matrix[i,j] = overlap\n",
    "    # now in the current ith row grab the j index of the maximum overlap\n",
    "    sorted_indices.append(np.argmax(over_matrix[i,:]))\n",
    "        \n",
    "sns.heatmap(over_matrix,cmap=\"crest\")\n",
    "plt.xlabel(\"Coupled eigenstates\")\n",
    "plt.ylabel(\"Free eigenstates\")\n",
    "plt.title(\"Overlap Matrix\")"
   ]
  },
  {
   "cell_type": "code",
   "execution_count": 16,
   "id": "0f7a099f-7fec-4c57-afa2-7cc8703e5485",
   "metadata": {},
   "outputs": [],
   "source": [
    "# now sort the freee case into bands according to projection\n",
    "mindices, pindices = sort_by_projection(free_energies,free_eigen_vecs, Psym)\n",
    "\n",
    "# minus band\n",
    "free_energies_m = free_energies[mindices]\n",
    "free_states_m = free_eigen_vecs[:,mindices]\n",
    "# sort by magnitude\n",
    "free_energies_m, free_states_m = mag_sort(free_energies_m, free_states_m)\n",
    "\n",
    "# plus band\n",
    "free_energies_p = free_energies[pindices]\n",
    "free_states_p = free_eigen_vecs[:,pindices]\n",
    "# sort by magnitude\n",
    "free_energies_p, free_states_p = mag_sort(free_energies_p, free_states_p)\n"
   ]
  },
  {
   "cell_type": "code",
   "execution_count": 17,
   "id": "253c037e-343b-4192-9f84-b918944e5a88",
   "metadata": {},
   "outputs": [],
   "source": [
    "# now sort the coupled eigenvectors and values according to max overlaps so they match with the free case\n",
    "sorted_e = energies[sorted_indices]\n",
    "sorted_vecs = eigen_vecs[:,sorted_indices]\n",
    "\n",
    "# minus band\n",
    "over_energies_m = sorted_e[mindices]\n",
    "over_states_m = sorted_vecs[:,mindices]\n",
    "# sort by magnitude\n",
    "over_energies_m, over_states_m = mag_sort(over_energies_m, over_states_m)\n",
    "\n",
    "# plus band\n",
    "over_energies_p = sorted_e[pindices]\n",
    "over_states_p = sorted_vecs[:,pindices]\n",
    "# sort by magnitude\n",
    "over_energies_p, over_states_p = mag_sort(over_energies_p, over_states_p)\n",
    "\n",
    "# get the colors for each band \n",
    "over_colors_p = get_projection_colors(over_states_p, Psym)\n",
    "over_colors_m = get_projection_colors(over_states_m, Psym)\n"
   ]
  },
  {
   "cell_type": "markdown",
   "id": "3aa0bb7f-7e55-4dc6-8fb3-3216eac421a9",
   "metadata": {},
   "source": [
    "### Comparing the methods"
   ]
  },
  {
   "cell_type": "code",
   "execution_count": 18,
   "id": "59cc1304-e6d3-4723-aeb4-ff7f2bc1fa1b",
   "metadata": {},
   "outputs": [
    {
     "data": {
      "image/png": "[encoded data removed]",
      "text/plain": [
       "<Figure size 1368x360 with 4 Axes>"
      ]
     },
     "metadata": {
      "needs_background": "light"
     },
     "output_type": "display_data"
    }
   ],
   "source": [
    "fig, ax = plt.subplots(1,3, figsize=(19,5))\n",
    "\n",
    "c_norm = (-0.2,1.2)\n",
    "cmap = \"RdBu\"\n",
    "# zeroth order analytic stuff\n",
    "ax[0].plot(k_single_band, em0, c= \"red\",zorder=0)\n",
    "ax[0].plot(k_single_band, ep0, c= \"blue\",zorder=0)\n",
    "\n",
    "ax[1].plot(k_single_band, em0, c= \"red\",zorder=0)\n",
    "ax[1].plot(k_single_band, ep0, c= \"blue\",zorder=0)\n",
    "\n",
    "ax[2].plot(k_single_band, em0, c= \"red\", zorder=0)\n",
    "ax[2].plot(k_single_band, ep0, c= \"blue\",zorder=0)\n",
    "\n",
    "# projection\n",
    "sns.scatterplot(x=k_single_band, y=energies_p, hue= colors_p, hue_norm= c_norm, palette=cmap ,\n",
    "                edgecolor=\"black\",legend=None, ax=ax[0])\n",
    "sns.scatterplot(x=k_single_band, y=energies_m, hue= colors_m, hue_norm= c_norm, palette=cmap ,\n",
    "                edgecolor=\"black\", legend=None,ax=ax[0])\n",
    "\n",
    "# proximity \n",
    "sns.scatterplot(x=k_single_band, y=proximity_p, hue= pro_colors_p, hue_norm= c_norm, palette=cmap, \n",
    "                edgecolor=\"black\", legend=None,ax=ax[1])\n",
    "\n",
    "sns.scatterplot(x=k_single_band, y=proximity_m, hue= pro_colors_m, hue_norm= c_norm, palette=cmap, \n",
    "                edgecolor=\"black\", legend=None,ax=ax[1])\n",
    "\n",
    "# overlaps\n",
    "sns.scatterplot(x=k_single_band, y=over_energies_p, hue= over_colors_p, hue_norm= c_norm, palette=cmap ,\n",
    "                edgecolor=\"black\",legend=None, ax=ax[2])\n",
    "\n",
    "img = sns.scatterplot(x=k_single_band, y=over_energies_m, hue= over_colors_m, palette=cmap ,hue_norm= c_norm,\n",
    "                edgecolor=\"black\", legend=None,ax=ax[2])\n",
    "\n",
    "ax[0].set_xlabel(r\"$k$\")\n",
    "ax[0].set_ylabel(r\"$E$\")\n",
    "ax[0].set_title(r\"Sorted by Projection\")\n",
    "\n",
    "ax[1].set_xlabel(r\"$k$\")\n",
    "ax[1].set_title(r\"Sorted by Proximity\")\n",
    "\n",
    "ax[2].set_xlabel(r\"$k$\")\n",
    "ax[2].set_title(r\"Sorted by Overlaps\")\n",
    "\n",
    "\n",
    "# Get the scatter object and attach colorbar\n",
    "norm = plt.Normalize(c_norm[0], c_norm[1])\n",
    "sm = plt.cm.ScalarMappable(cmap=cmap, norm=norm)\n",
    "sm.set_array([])  # Required for ScalarMappable with no mappable object\n",
    "plt.colorbar(sm, ax=ax)\n",
    "\n",
    "# write x axis in units of pi\n",
    "ax[0].xaxis.set_major_formatter(matplotlib.ticker.FuncFormatter(lambda val,pos: \n",
    "                                                             r'{:.0g}$\\pi$'.format(val/np.pi) if val !=0 \n",
    "                                                             else '0'))\n",
    "\n",
    "ax[1].xaxis.set_major_formatter(matplotlib.ticker.FuncFormatter(lambda val,pos: \n",
    "                                                             r'{:.0g}$\\pi$'.format(val/np.pi) if val !=0 \n",
    "                                                             else '0'))\n",
    "\n",
    "ax[2].xaxis.set_major_formatter(matplotlib.ticker.FuncFormatter(lambda val,pos: \n",
    "                                                             r'{:.0g}$\\pi$'.format(val/np.pi) if val !=0 \n",
    "                                                             else '0'))\n",
    "\n",
    "# plt.savefig(fig_route+\"sorting_compare_Lqpc={}_Omega={}_t={}.pdf\".format(L_qpc, Omega,t),bbox_inches='tight')\n"
   ]
  },
  {
   "cell_type": "markdown",
   "id": "106761fb-197a-4d16-b5f5-20cd52c6734c",
   "metadata": {},
   "source": [
    "Compare energy gaps wrt the decoiupled case"
   ]
  },
  {
   "cell_type": "code",
   "execution_count": 19,
   "id": "0ba30efa-cf0e-46ed-9213-f81d1438bf20",
   "metadata": {},
   "outputs": [
    {
     "data": {
      "image/png": "[encoded data removed]",
      "text/plain": [
       "<Figure size 792x360 with 2 Axes>"
      ]
     },
     "metadata": {
      "needs_background": "light"
     },
     "output_type": "display_data"
    }
   ],
   "source": [
    "fig, ax = plt.subplots(1,2, figsize=(11,5))\n",
    "\n",
    "\n",
    "ax[0].plot(k_single_band, energies_p-energies_m)\n",
    "ax[0].plot(k_single_band, ep0-em0, c=\"black\", linewidth=3, linestyle=\"dashed\", label=\"0th\")\n",
    "\n",
    "ax[1].plot(k_single_band, ep0-em0, c=\"black\", linewidth=3, linestyle=\"dashed\", label=\"0th\")\n",
    "ax[1].plot(k_single_band, over_energies_p-over_energies_m)\n",
    "\n",
    "ax[0].set_xlabel(r\"$k$\")\n",
    "ax[0].set_ylabel(r\"Inter-Band Gap\")\n",
    "ax[0].set_title(r\"Sorted by Projection\")\n",
    "ax[1].set_xlabel(r\"$k$\")\n",
    "ax[1].set_title(r\"Sorted by Overlaps\")\n",
    "\n",
    "\n",
    "# write x axis in units of pi\n",
    "ax[0].xaxis.set_major_formatter(matplotlib.ticker.FuncFormatter(lambda val,pos: \n",
    "                                                             r'{:.0g}$\\pi$'.format(val/np.pi) if val !=0 \n",
    "                                                             else '0'))\n",
    "\n",
    "ax[1].xaxis.set_major_formatter(matplotlib.ticker.FuncFormatter(lambda val,pos: \n",
    "                                                             r'{:.0g}$\\pi$'.format(val/np.pi) if val !=0 \n",
    "                                                             else '0'))\n",
    "ax[0].legend()\n",
    "plt.tight_layout()\n"
   ]
  },
  {
   "cell_type": "code",
   "execution_count": 20,
   "id": "9e459a88-9de1-4b87-a363-806398c23689",
   "metadata": {},
   "outputs": [
    {
     "data": {
      "image/png": "[encoded data removed]",
      "text/plain": [
       "<Figure size 792x360 with 2 Axes>"
      ]
     },
     "metadata": {
      "needs_background": "light"
     },
     "output_type": "display_data"
    }
   ],
   "source": [
    "fig, ax = plt.subplots(1,2, figsize=(11,5))\n",
    "ax[0].plot(k_single_band[:-1], np.diff(ep0) , c=\"black\",linewidth=3, linestyle=\"dashed\",label=\"0th\")\n",
    "ax[0].plot(k_single_band[:-1], np.diff(energies_p) , c=\"blue\")\n",
    "ax[0].plot(k_single_band[:-1], np.diff(energies_m) , c=\"red\")\n",
    "\n",
    "\n",
    "ax[1].plot(k_single_band[:-1], np.diff(ep0) , c=\"black\",linewidth=3, linestyle=\"dashed\",)\n",
    "ax[1].plot(k_single_band[:-1], np.diff(over_energies_p) , c=\"blue\")\n",
    "ax[1].plot(k_single_band[:-1], np.diff(over_energies_m) , c=\"red\")\n",
    "\n",
    "\n",
    "ax[0].set_xlabel(r\"$k$\")\n",
    "ax[0].set_ylabel(r\"Intra-Band Gap\")\n",
    "ax[0].set_title(r\"Sorted by Projection\")\n",
    "ax[1].set_xlabel(r\"$k$\")\n",
    "ax[1].set_title(r\"Sorted by Overlaps\")\n",
    "ax[0].legend()\n",
    "\n",
    "ax[0].axhline(t, linewidth=2)\n",
    "ax[1].axhline(t, linewidth=2)\n",
    "\n",
    "\n",
    "# write x axis in units of pi\n",
    "ax[0].xaxis.set_major_formatter(matplotlib.ticker.FuncFormatter(lambda val,pos: \n",
    "                                                             r'{:.0g}$\\pi$'.format(val/np.pi) if val !=0 \n",
    "                                                             else '0'))\n",
    "\n",
    "ax[1].xaxis.set_major_formatter(matplotlib.ticker.FuncFormatter(lambda val,pos: \n",
    "                                                             r'{:.0g}$\\pi$'.format(val/np.pi) if val !=0 \n",
    "                                                             else '0'))\n"
   ]
  },
  {
   "cell_type": "markdown",
   "id": "a6266833-4a53-4936-84bc-9815716ad75c",
   "metadata": {},
   "source": [
    "## First Order\n",
    "\n",
    "here, both bands have the same correction. Notice how the perturbation is zero at some momenta namely **the perturbation is very small around $\\pi/2$** and larger at the edges of the brillouin zone."
   ]
  },
  {
   "cell_type": "code",
   "execution_count": 21,
   "id": "7facfa45-46e8-4e41-a5d3-1bc970ba7918",
   "metadata": {},
   "outputs": [
    {
     "name": "stderr",
     "output_type": "stream",
     "text": [
      "/var/folders/0k/k5cgw5hd6js31gjfdv_v8h7m0000gr/T/ipykernel_1059/2265177395.py:1: RuntimeWarning: invalid value encountered in arccos\n",
      "  kp = np.arccos(t/J[0] + np.cos(k_single_band))\n"
     ]
    }
   ],
   "source": [
    "kp = np.arccos(t/J[0] + np.cos(k_single_band))\n",
    " \n",
    "E1_degenpp = 0.5/(L_qpc+1)*( xhi(k_single_band,k_single_band,bond_index) + xhi(kp,kp,bond_index) \n",
    "                           + np.sqrt((xhi(k_single_band,k_single_band,bond_index) - xhi(kp,kp,bond_index))**2 + \n",
    "                                     4*xhi(k_single_band,kp,bond_index)**2 ) ) \n",
    "\n",
    "E1_degenpm = 0.5/(L_qpc+1)*( xhi(k_single_band,k_single_band,bond_index) + xhi(kp,kp,bond_index) \n",
    "                           - np.sqrt((xhi(k_single_band,k_single_band,bond_index) - xhi(kp,kp,bond_index))**2 + \n",
    "                                     4*xhi(k_single_band,kp,bond_index)**2 ) ) \n",
    "\n",
    "# the nans are where the momenta go out of the band so they do not affect the degeneracies\n",
    "ind_nan = np.where(np.isnan(E1_degenpp))[0]\n",
    "E1_degenpp[ind_nan] = 1/(L_qpc+1)*(xhi(k_single_band[ind_nan],k_single_band[ind_nan],bond_index))\n",
    "E1_degenpm[ind_nan] = 1/(L_qpc+1)*(xhi(k_single_band[ind_nan],k_single_band[ind_nan],bond_index))"
   ]
  },
  {
   "cell_type": "code",
   "execution_count": 35,
   "id": "df5fb865",
   "metadata": {},
   "outputs": [
    {
     "data": {
      "text/plain": [
       "Text(0, 0.5, '$E(k)^{(1)}$')"
      ]
     },
     "execution_count": 35,
     "metadata": {},
     "output_type": "execute_result"
    },
    {
     "data": {
      "image/png": "[encoded data removed]",
      "text/plain": [
       "<Figure size 504x360 with 1 Axes>"
      ]
     },
     "metadata": {
      "needs_background": "light"
     },
     "output_type": "display_data"
    }
   ],
   "source": [
    "fig, ax = plt.subplots(1,1, figsize=(7,5))\n",
    "\n",
    "# First order corrections\n",
    "e1 = (1/(L_qpc+1))*np.sin(bond_index*k_single_band)*np.sin(bond_index*k_single_band+k_single_band)\n",
    "\n",
    "plt.plot(k_single_band, e1,linestyle=\"dashed\")\n",
    "#plt.plot(k_single_band,E1_degenpp, label=\"Degen\")\n",
    "#plt.plot(k_single_band,E1_degenpm, label=\"Degen\")\n",
    "\n",
    "\n",
    "ax.xaxis.set_major_formatter(matplotlib.ticker.FuncFormatter(lambda val,\n",
    "                                                             pos: r'{:.0g}$\\pi$'.format(val/np.pi)\n",
    "                                                             if val !=0 else '0'))\n",
    "\n",
    "#plt.legend()\n",
    "plt.xlabel(r\"$k$\")\n",
    "plt.ylabel(r\"$E(k)^{(1)}$\")\n",
    "\n",
    "# plt.savefig(fig_route+\"E1_corr={}_Omega={}_t={}.pdf\".format(L_qpc, Omega,t),bbox_inches='tight')\n"
   ]
  },
  {
   "cell_type": "markdown",
   "id": "be1c22fc",
   "metadata": {},
   "source": [
    "## Second Order\n",
    "\n",
    "Due to the normalization factor these corrections are super small nad the longer the chain the smaller they become"
   ]
  },
  {
   "cell_type": "code",
   "execution_count": 36,
   "id": "32f41047-fb34-4273-b851-a32f1873f6f9",
   "metadata": {},
   "outputs": [],
   "source": [
    "def get_second_order(krange, eta, Bond):\n",
    "    # eta is +-t depemndeing on the qubit states\n",
    "    E2 = []\n",
    "\n",
    "    for k in krange:\n",
    "        # remove k so the sums don't blow up\n",
    "        p_range = np.asarray([x for x in krange if x != k])\n",
    "        A_N = 1/(L_qpc+1)**2\n",
    "    \n",
    "        T1 = A_N*np.sum( (xhi(k, p_range, Bond)**2)/(-2*J[0]*(np.cos(k)-np.cos(p_range))) )\n",
    "        T2 = A_N*(1/(2*eta))*xhi(k,k,bond_index)**2\n",
    "        T3 = A_N*np.sum( (xhi(k, p_range, Bond)**2)/(-2*J[0]*(np.cos(k)-np.cos(p_range))+2*eta) )\n",
    "    \n",
    "        E2.append(T1 + T2 + T3) \n",
    "        \n",
    "    E2 = np.asarray(E2)\n",
    "    \n",
    "    return E2\n",
    "    "
   ]
  },
  {
   "cell_type": "code",
   "execution_count": 37,
   "id": "1c637c19-d1b2-494d-b590-d0f2697c082f",
   "metadata": {},
   "outputs": [],
   "source": [
    "e2p_correction = get_second_order(k_single_band, t, bond_index)\n",
    "e2m_correction = get_second_order(k_single_band, -t, bond_index)"
   ]
  },
  {
   "cell_type": "markdown",
   "id": "b5d4503d-c2e0-41be-9127-e2d17f21fb51",
   "metadata": {},
   "source": [
    "# Testing where the degeneracies appear\n",
    "\n",
    "There is a competition between two terms when we look at the perturbative corredctions between the states: the typical one from tight-binding model that is degenerate at the edges of the band, and a new one that mixes up the bands and seems to be dominating around the pi/2. _I think this second term is the one that is making both bands hiridize towards the middle_.\n",
    "\n",
    "**If we taylor expand the denominator of the perturbative corrections around some point in k, we will see thatm, the condition for the perturbative series being well behaved is that $t<\\Delta k$. Since $\\Delta k$ is not constant, then the degeneracies will appear at different point of the band, depending on where we place $t$. This is the reason why the hibridization term wins sometimes** "
   ]
  },
  {
   "cell_type": "code",
   "execution_count": 38,
   "id": "4cd4ebd3-c1bf-4303-8d2b-26b570bbf057",
   "metadata": {},
   "outputs": [
    {
     "name": "stdout",
     "output_type": "stream",
     "text": [
      "[2.6905658417935308, 0.45102681179626236]\n"
     ]
    }
   ],
   "source": [
    "accos_bounds = [np.arccos(-1 + t) , np.arccos(1 - t)]\n",
    "print(accos_bounds)\n",
    "\n",
    "# for the upper band\n",
    "# k_acos = k_single_band[(k_single_band<=accos_bounds[0]) & (k_single_band>=accos_bounds[1])] \n",
    "\n",
    "k_acos = k_single_band[k_single_band<=accos_bounds[0]] \n",
    "    \n",
    "kupper = k_acos\n",
    "E_upper = -2*J[0]*np.cos(kupper) + t\n",
    "\n",
    "# momenta where the lower band is degenerate ~\n",
    "k_acos = k_single_band[k_single_band>=accos_bounds[1]] \n",
    "klower = k_acos\n",
    "E_lower = -2*J[0]*np.cos(klower) - t\n",
    "\n",
    "# for the well behaved region\n",
    "DeltaEk = np.diff(-2*J[0]*np.cos(k_single_band)) \n",
    "\n",
    "nondegen_indices = np.asarray([ind[0] for ind in np.argwhere(DeltaEk>2*t)])\n",
    "if nondegen_indices.size == 0:\n",
    "    nondegen_indices = [0,0]\n"
   ]
  },
  {
   "cell_type": "code",
   "execution_count": 39,
   "id": "549e9591-7d08-4d49-b64d-514e563f857a",
   "metadata": {},
   "outputs": [
    {
     "data": {
      "image/png": "[encoded data removed]",
      "text/plain": [
       "<Figure size 468x360 with 2 Axes>"
      ]
     },
     "metadata": {
      "needs_background": "light"
     },
     "output_type": "display_data"
    }
   ],
   "source": [
    "fig, ax = plt.subplots(1,1, figsize=(6.5,5))\n",
    "# overlaps\n",
    "sns.scatterplot(x=k_single_band, y=over_energies_p, hue= over_colors_p, hue_norm= c_norm, palette=cmap ,\n",
    "                edgecolor=\"black\",legend=None, ax=ax)\n",
    "\n",
    "img = sns.scatterplot(x=k_single_band, y=over_energies_m, hue= over_colors_m, palette=cmap ,hue_norm= c_norm,\n",
    "                edgecolor=\"black\", legend=None,ax=ax)\n",
    "\n",
    "\n",
    "plt.fill_between(kupper,E_upper, 2.5, color=\"blue\", edgecolor=None,alpha=0.2 ,zorder=0)\n",
    "plt.fill_between(klower,E_lower, -2.5, color=\"red\", edgecolor=None,alpha=0.2 ,zorder=0)\n",
    "\n",
    "ax.axvspan(k_single_band[nondegen_indices[0]], k_single_band[nondegen_indices[-1]], facecolor='white',zorder=0)\n",
    "\n",
    "\n",
    "# Get the scatter object and attach colorbar\n",
    "norm = plt.Normalize(c_norm[0], c_norm[1])\n",
    "sm = plt.cm.ScalarMappable(cmap=cmap, norm=norm)\n",
    "sm.set_array([])  # Required for ScalarMappable with no mappable object\n",
    "plt.colorbar(sm, ax=ax)\n",
    "\n",
    "ax.set_xlabel(r\"$k$\")\n",
    "ax.set_ylabel(r\"$E_{\\nu}(k)$\")\n",
    "ax.set_ylim(-2.2,2.2)\n",
    "\n",
    "# write x axis in units of pi\n",
    "ax.xaxis.set_major_formatter(matplotlib.ticker.FuncFormatter(lambda val,pos: \n",
    "                                                             r'{:.0g}$\\pi$'.format(val/np.pi) if val !=0 \n",
    "                                                             else '0'))\n",
    "plt.tight_layout()\n",
    "# plt.savefig(fig_route+\"exact_energies_Lqpc={}_Omega={}_t={}.pdf\".format(L_qpc, Omega,t),bbox_inches='tight')\n"
   ]
  },
  {
   "cell_type": "markdown",
   "id": "e497a8ff",
   "metadata": {},
   "source": [
    "# Time evolution with perturbative eigenstates"
   ]
  },
  {
   "cell_type": "code",
   "execution_count": 41,
   "id": "991936eb-7a12-499f-92f3-c63675f12f55",
   "metadata": {},
   "outputs": [],
   "source": [
    "def get_DD_init_for_fixed_k(k_prime):\n",
    "    # calculated the initial conditions of the DD such that, when the QPC hits the bond\n",
    "    # its state is the same as that of a DD initialized localized in the first site when \n",
    "    # the QPC for that case hits the bond with an average momentum k0=pi/2\n",
    "    # k_prime: float. The momentum of the qpc particle\n",
    "     \n",
    "    alpha0 = np.cos( (t*bond_index)/(2*J[0])*(1/np.sin(k_prime) - 1) )\n",
    "    beta0 = - 1j*np.sin( (t*bond_index)/(2*J[0])*(1/np.sin(k_prime) - 1) )\n",
    "                        \n",
    "    return alpha0, beta0"
   ]
  },
  {
   "cell_type": "code",
   "execution_count": 60,
   "id": "c3ff44e8",
   "metadata": {},
   "outputs": [],
   "source": [
    "phi = -np.pi/2\n",
    "k_c = np.pi/2\n",
    "lattice_index = np.arange(0,L_qpc)\n",
    "\n",
    "# get zeroth order eigenstates\n",
    "qpcs_state = np.sqrt(1/(L_qpc+1))*np.sin(k_single_band)\n",
    "\n",
    "basis_0 = np.asarray([1,0])\n",
    "basis_1 = np.asarray([0,1])\n",
    "\n",
    "qubit_p =  np.sqrt(1/2)*(basis_0 + np.exp(1j*phi)*basis_1)\n",
    "qubit_m =  np.sqrt(1/2)*(basis_0 - np.exp(1j*phi)*basis_1)\n",
    "# Tensor them\n",
    "phik_p0 = np.kron(qpcs_state, qubit_p)\n",
    "phik_m0 = np.kron(qpcs_state, qubit_m)"
   ]
  },
  {
   "cell_type": "code",
   "execution_count": 61,
   "id": "dbf24910",
   "metadata": {},
   "outputs": [],
   "source": [
    "# first order corrections"
   ]
  },
  {
   "cell_type": "code",
   "execution_count": 71,
   "id": "fad385aa",
   "metadata": {},
   "outputs": [
    {
     "name": "stderr",
     "output_type": "stream",
     "text": [
      "/Users/rasputin/opt/anaconda3/lib/python3.9/site-packages/matplotlib/cbook/__init__.py:1298: ComplexWarning: Casting complex values to real discards the imaginary part\n",
      "  return np.asarray(x, float)\n"
     ]
    },
    {
     "data": {
      "text/plain": [
       "[<matplotlib.lines.Line2D at 0x7fd7c136d2e0>]"
      ]
     },
     "execution_count": 71,
     "metadata": {},
     "output_type": "execute_result"
    },
    {
     "data": {
      "image/png": "[encoded data removed]",
      "text/plain": [
       "<Figure size 432x288 with 1 Axes>"
      ]
     },
     "metadata": {
      "needs_background": "light"
     },
     "output_type": "display_data"
    }
   ],
   "source": [
    "# time evolve of the occupations\n",
    "phik_p0"
   ]
  },
  {
   "cell_type": "code",
   "execution_count": null,
   "id": "ab659232",
   "metadata": {},
   "outputs": [],
   "source": [
    "phi_p0 = ifft(phik_p0)\n",
    "\n",
    "mags = np.conj(phi_p0)*phi_p0\n",
    "plt.plot(mags)\n"
   ]
  },
  {
   "cell_type": "markdown",
   "id": "fb883e63",
   "metadata": {},
   "source": [
    "# Entanglement\n",
    "\n",
    "Since the eigenstates are properl sorted into bands, we see how much entanglement each of the k-eigenstates contributes by doing a schmidt decomposition. This is super easy because our eigenstates are pretty much in MPS form already "
   ]
  },
  {
   "cell_type": "code",
   "execution_count": 72,
   "id": "13557582",
   "metadata": {},
   "outputs": [],
   "source": [
    "\n",
    "def schmidt_qubit_qpc(c_eigs,dimQPC, dimqubit):\n",
    "    # calculates the schmidt decomposition between the QPC and qubit for some stae\n",
    "    # given how we build our hamiltonian, the 0qubit-eigenstates are in the even indices\n",
    "    # while the 1qubit ones are in the odd indices\n",
    "    # c_eigs is the state vector\n",
    "\n",
    "    # arange in MPS form for S\n",
    "    U, S, Vh = np.linalg.svd(c_eigs.reshape(dimQPC, dimqubit))\n",
    "\n",
    "    return U, S, Vh"
   ]
  },
  {
   "cell_type": "code",
   "execution_count": 73,
   "id": "7490a64d",
   "metadata": {},
   "outputs": [],
   "source": [
    "Svn_p = np.zeros(L_qpc)\n",
    "Svn_m = np.zeros(L_qpc)\n",
    "\n",
    "for kind in range(0, L_qpc):\n",
    "    # choose some eigenstate in the symmetric band\n",
    "    U, S, Vh = schmidt_qubit_qpc(over_states_p[:,kind],L_qpc, 2)\n",
    "    schmis = S**2\n",
    "    # calculate the entropy\n",
    "    Svn_p[kind] = -1*np.sum(schmis*np.log(schmis))\n",
    "    # choose some eigenstate in the anti-symetric band\n",
    "    U, S, Vh = schmidt_qubit_qpc(over_states_m[:,kind],L_qpc, 2)\n",
    "    schmis = S**2\n",
    "    # calculate the entropy\n",
    "    Svn_m[kind] = -1*np.sum(schmis*np.log(schmis))\n"
   ]
  },
  {
   "cell_type": "code",
   "execution_count": 74,
   "id": "14b707fd",
   "metadata": {},
   "outputs": [
    {
     "data": {
      "image/png": "[encoded data removed]",
      "text/plain": [
       "<Figure size 504x432 with 3 Axes>"
      ]
     },
     "metadata": {
      "needs_background": "light"
     },
     "output_type": "display_data"
    }
   ],
   "source": [
    "c_norm = (0,1)\n",
    "\n",
    "fig, ax = plt.subplots(2,1,figsize=(7,6), sharex=True ,gridspec_kw={'height_ratios': [0.55, 1]})\n",
    "\n",
    "# entropy\n",
    "ax[0].plot(k_single_band, Svn_p, c = \"navy\", linewidth=2, alpha = 0.5)\n",
    "ax[0].plot(k_single_band, Svn_m, c = \"red\", linewidth=2,alpha = 0.5)\n",
    "\n",
    "# bands\n",
    "sns.scatterplot(x=k_single_band, y=over_energies_p, hue= over_colors_p, hue_norm= c_norm, palette=cmap ,\n",
    "                edgecolor=\"black\",legend=None, ax=ax[1], alpha=1.0)\n",
    "\n",
    "img = sns.scatterplot(x=k_single_band, y=over_energies_m, hue= over_colors_m, palette=cmap ,hue_norm= c_norm,\n",
    "                edgecolor=\"black\", legend=None,ax=ax[1],alpha=1.0)\n",
    "\n",
    "\n",
    "ax[1].fill_between(kupper,E_upper, 2.5, color=\"blue\", edgecolor=None,alpha=0.2 ,zorder=0)\n",
    "ax[1].fill_between(klower,E_lower, -2.5, color=\"red\", edgecolor=None,alpha=0.2 ,zorder=0)\n",
    "\n",
    "ax[1].axvspan(k_single_band[nondegen_indices[0]], k_single_band[nondegen_indices[-1]], facecolor='white',zorder=0)\n",
    "\n",
    "\n",
    "# Get the scatter object and attach colorbar\n",
    "norm = plt.Normalize(c_norm[0], c_norm[1])\n",
    "sm = plt.cm.ScalarMappable(cmap=cmap, norm=norm)\n",
    "sm.set_array([])  # Required for ScalarMappable with no mappable object\n",
    "\n",
    "plt.subplots_adjust(hspace=0.0)  # reduce spacing\n",
    "plt.colorbar(sm, ax=ax)\n",
    "\n",
    "ax[0].set_ylabel(r\"$S_{\\rm{VN}}$\")\n",
    "ax[1].set_xlabel(r\"$k$\")\n",
    "ax[1].set_ylabel(r\"$E_{\\nu}(k)$\")\n",
    "ax[1].set_ylim(-2.2 - t,2.2 + t)\n",
    "\n",
    "# write x axis in units of pi\n",
    "ax[1].xaxis.set_major_formatter(matplotlib.ticker.FuncFormatter(lambda val,pos: \n",
    "                                                             r'{:.0g}$\\pi$'.format(val/np.pi) if val !=0 \n",
    "                                                             else '0'))\n",
    "\n",
    "plt.savefig(fig_route+\"exact_energies_Lqpc={}_Omega={}_t={}.pdf\".format(L_qpc, Omega,t),bbox_inches='tight')\n"
   ]
  },
  {
   "cell_type": "markdown",
   "id": "a07f66f4-6bff-4880-8857-b4f2addf7779",
   "metadata": {},
   "source": [
    "Now  If we do the **schmidt decomposition** for a state that is a super position of states, we will get the total entropy of a given systems. The initial conditions are the initial coefficients (probabilities) of the superposition. Here we consider a gaussian wavepacket+qubit"
   ]
  },
  {
   "cell_type": "code",
   "execution_count": 97,
   "id": "e4c01319-0c3d-4b67-8d8a-46832dccd827",
   "metadata": {},
   "outputs": [],
   "source": [
    "def schmidt_qubit_qpc(c_eigs):\n",
    "    # calculates the schmidt decomposition between the QPC and qubit for some stae\n",
    "    # given how we build our hamiltonian, the 0qubit-eigenstates are in the even indices\n",
    "    # while the 1qubit ones are in the odd indices\n",
    "    # c_eigs is the state vector\n",
    "\n",
    "    # arange in MPS form for SVD\n",
    "    col_1 = np.asarray(c_eigs[0::2]).reshape(-1,1)\n",
    "    col_2 =  np.asarray(c_eigs[1::2]).reshape(-1,1)\n",
    "    psi_mat = np.concatenate((col_1, col_2), axis=1)\n",
    "    U, S, Vh = np.linalg.svd(psi_mat)\n",
    "\n",
    "    return U, S, Vh\n"
   ]
  },
  {
   "cell_type": "code",
   "execution_count": 101,
   "id": "99448a16-1b36-4d9f-a50b-de6c7e89993f",
   "metadata": {},
   "outputs": [
    {
     "data": {
      "text/plain": [
       "-0.04853239151775499"
      ]
     },
     "execution_count": 101,
     "metadata": {},
     "output_type": "execute_result"
    }
   ],
   "source": [
    "# build the lattice basis\n",
    "# qpc\n",
    "q0 = np.asarray([1,0])\n",
    "q1 = np.asarray([0,1])\n",
    "\n",
    "# tensor product with each of the qpc basis vectors\n",
    "lattice_basis = []\n",
    "for j_site in range(0,L_qpc):\n",
    "    jv = np.zeros(L_qpc)\n",
    "    jv[j_site] = 1\n",
    "    lattice_basis.append(np.kron(jv,q0))\n",
    "    lattice_basis.append(np.kron(jv,q1))\n",
    "\n",
    "np.dot(lattice_basis[2], over_states_m[:,0])"
   ]
  },
  {
   "cell_type": "code",
   "execution_count": 102,
   "id": "cdfd5936-c18f-45a0-b751-f75256a1dbcd",
   "metadata": {},
   "outputs": [],
   "source": [
    "Delta = 2.0\n",
    "K0_list = np.linspace(0.35,np.pi/2) #np.linspace(0.35,np.pi/2) # np.linspace(0,np.pi)\n",
    "centered_at = 0 # initial position\n",
    "phi = -np.pi/2\n",
    "Tau = 0\n"
   ]
  },
  {
   "cell_type": "code",
   "execution_count": 106,
   "id": "f73c21b5-b4a6-48df-b369-ae5469428bf8",
   "metadata": {},
   "outputs": [],
   "source": [
    "entropies = []\n",
    "for K0 in K0_list:\n",
    "    # calculate the spread of the wave packet based on the time it takes the particle to hit the bond\n",
    "    alphas = np.exp(-(0.5*(Delta)**2)*(k_single_band-K0)**2 + 1j*k_single_band*centered_at)\n",
    "    norm_ = np.linalg.norm(alphas)\n",
    "    alphas = alphas/norm_\n",
    "    \n",
    "    # this is so we get the same qubit state when the qpc hits the bond\n",
    "    beta0, beta1 = get_DD_init_for_fixed_k(K0)\n",
    "    # express it in the eigenbasis of the qubit\n",
    "    betap = 1/np.sqrt(2)*(beta0+np.exp(-1j*phi)*beta1)\n",
    "    betam = 1/np.sqrt(2)*(beta0-np.exp(-1j*phi)*beta1)\n",
    "    \n",
    "    # put the probabilities and energies in the correct order\n",
    "    \"\"\"lambda0 = np.zeros(2*L_qpc) + 0j\n",
    "    all_energies = np.zeros(2*L_qpc)\n",
    "\n",
    "    lambda0[0::2] = alphas*betap\n",
    "    lambda0[1::2] = alphas*betam\n",
    "\n",
    "    all_energies[0::2] = over_energies_p\n",
    "    all_energies[1::2] = over_energies_m\n",
    "\n",
    "    psi_t = lambda0*np.exp(-1j*Tau*all_energies)\"\"\"\n",
    "\n",
    "    all_energies = np.zeros(2*L_qpc)\n",
    "    all_energies[0::2] = over_energies_m\n",
    "    all_energies[1::2] = over_energies_p\n",
    "\n",
    "    psi_m = [alphas[i]*betam*over_states_m[:,i]  for i in range(0,L_qpc)]\n",
    "    psi_m = np.sum(psi_m,axis=0)\n",
    "    \n",
    "    psi_p = [alphas[i]*betap*over_states_p[:,i]  for i in range(0,L_qpc)]\n",
    "    psi_p = np.sum(psi_p,axis=0)\n",
    "    \n",
    "    psi_t = psi_m + psi_p\n",
    "    \n",
    "    U, S, Vh = schmidt_qubit_qpc(psi_t.reshape(-1))\n",
    "    schmis = S**2\n",
    "    entropies.append(-1*np.sum(schmis*np.log(schmis)))\n",
    "\n"
   ]
  },
  {
   "cell_type": "code",
   "execution_count": 116,
   "id": "1e987c12",
   "metadata": {},
   "outputs": [],
   "source": [
    "np.shape(psi_t)\n",
    "\n",
    "psi_matrix = psi_t.reshape((L_qpc, 2))\n",
    "\n",
    "# Step 3: SVD → Schmidt coefficients\n",
    "_, S, _ = np.linalg.svd(psi_matrix, full_matrices=False)\n",
    "\n",
    "probs = S**2\n",
    "S_entropy = -np.sum(probs * np.log(probs)) "
   ]
  },
  {
   "cell_type": "code",
   "execution_count": 119,
   "id": "6e975dd1-e289-4c27-87e7-b58d415440d4",
   "metadata": {},
   "outputs": [
    {
     "data": {
      "text/plain": [
       "[<matplotlib.lines.Line2D at 0x7fd7aae9d130>]"
      ]
     },
     "execution_count": 119,
     "metadata": {},
     "output_type": "execute_result"
    },
    {
     "data": {
      "image/png": "[encoded data removed]",
      "text/plain": [
       "<Figure size 432x288 with 1 Axes>"
      ]
     },
     "metadata": {
      "needs_background": "light"
     },
     "output_type": "display_data"
    }
   ],
   "source": [
    "plt.plot(k_single_band, np.abs(alphas))"
   ]
  },
  {
   "cell_type": "code",
   "execution_count": 109,
   "id": "bc04ffca-ac39-4f4f-9447-8fd5de512c42",
   "metadata": {},
   "outputs": [
    {
     "data": {
      "image/png": "[encoded data removed]",
      "text/plain": [
       "<Figure size 504x360 with 1 Axes>"
      ]
     },
     "metadata": {
      "needs_background": "light"
     },
     "output_type": "display_data"
    }
   ],
   "source": [
    "fig, ax = plt.subplots(1,1,figsize=(7,5))\n",
    "\n",
    "plt.plot(K0_list, entropies)\n",
    "\n",
    "ax.set_ylabel(r\"$S_{\\rm{VN}}$\")\n",
    "ax.set_xlabel(r\"$k_0$\")\n",
    "#sns.scatterplot(data=curr_df,x=\"k0\",y=\"max_VN_entropy\")\n",
    "# write x axis in units of pi\n",
    "ax.xaxis.set_major_formatter(matplotlib.ticker.FuncFormatter(lambda val,pos: \n",
    "                                                             r'{:.0g}$\\pi$'.format(val/np.pi) if val !=0 \n",
    "                                                             else '0'))\n"
   ]
  },
  {
   "cell_type": "code",
   "execution_count": 88,
   "id": "b02f79d4-e231-49d2-8002-c239ceb97213",
   "metadata": {},
   "outputs": [
    {
     "data": {
      "text/plain": [
       "[<matplotlib.lines.Line2D at 0x7fd7c0f78940>]"
      ]
     },
     "execution_count": 88,
     "metadata": {},
     "output_type": "execute_result"
    },
    {
     "data": {
      "image/png": "[encoded data removed]",
      "text/plain": [
       "<Figure size 432x288 with 1 Axes>"
      ]
     },
     "metadata": {
      "needs_background": "light"
     },
     "output_type": "display_data"
    }
   ],
   "source": [
    "def time_evolve_entropy(Init_cond, Eigen_en, Deltat, Tsteps):\n",
    "    S_list = []\n",
    "    # calculates the entropy as a function of time the timestep Deltat for n iterations \n",
    "    state = Init_cond\n",
    "    for i in range(0,Tsteps):\n",
    "        state = state*np.exp(-1j*Deltat*Eigen_en)       \n",
    "        U, S, Vh = schmidt_qubit_qpc(state)\n",
    "        schmis = S**2\n",
    "        S_list.append(-1*np.sum(schmis*np.log(schmis)))\n",
    "        \n",
    "    return S_list\n",
    "\n",
    "K0=np.pi/2\n",
    "\n",
    "# calculate the spread of the wave packet based on the time it takes the particle to hit the bond\n",
    "alphas = np.exp(-(0.5*(Delta)**2)*(k_single_band-K0)**2 + 1j*k_single_band*centered_at)\n",
    "norm_ = np.linalg.norm(alphas)\n",
    "alphas = alphas/norm_\n",
    "\n",
    "# this is so we get the same qubit state when the qpc hits the bond\n",
    "beta0, beta1 = get_DD_init_for_fixed_k(K0)\n",
    "# express it in the eigenbasis of the qubit\n",
    "betap = 1/np.sqrt(2)*(beta0+np.exp(-1j*phi)*beta1)\n",
    "betam = 1/np.sqrt(2)*(beta0-np.exp(-1j*phi)*beta1)\n",
    "\n",
    "# put the probabilities and energies in the correct order\n",
    "lambda0 = np.zeros(2*L_qpc) + 0j\n",
    "all_energies = np.zeros(2*L_qpc)\n",
    "\n",
    "lambda0[0::2] = alphas*betap\n",
    "lambda0[1::2] = alphas*betam\n",
    "\n",
    "all_energies[0::2] = over_energies_p\n",
    "all_energies[1::2] = over_energies_m\n",
    "\n",
    "St = time_evolve_entropy(lambda0, all_energies, 0.1, 1000)\n",
    "\n",
    "plt.plot(St)"
   ]
  },
  {
   "cell_type": "markdown",
   "id": "789a567d-f54d-4537-8fd3-aec30d6ae138",
   "metadata": {},
   "source": [
    "Compare with qtip"
   ]
  },
  {
   "cell_type": "code",
   "execution_count": 89,
   "id": "1d8cab57-2612-4431-9346-5f8442c68b77",
   "metadata": {},
   "outputs": [
    {
     "data": {
      "text/plain": [
       "Index(['L_qpc', 'max_time', 'tsteps', 'bond_index', 'x_spread', 'k0',\n",
       "       'J_prime', 't', 'Omega', 'vg', 'time_at_bond', 'bond_fit_error',\n",
       "       'time_f_free', 'time_f_int', 'xf_avg_free', 'xf_avg_int',\n",
       "       'Transmision_tot', 'Transmission_k0', 'r_density_free', 'r_density_int',\n",
       "       'last_density_free', 'last_density_int', 'last_density_max',\n",
       "       'time_last_density_max', 'bond_density_max', 'min_purity',\n",
       "       'max_VN_entropy', 'entanglement_timeskip', 'T_mean', 'ddot0', 'kick',\n",
       "       'theta_f', 'phi_f', 'delta_phi', 'dd_density_hit'],\n",
       "      dtype='object')"
      ]
     },
     "execution_count": 89,
     "metadata": {},
     "output_type": "execute_result"
    }
   ],
   "source": [
    "data_df = pd.read_csv('../data/exp_pro/exploration_data_L=21.csv')\n",
    "data_df.rename(columns={\"band_width\": \"x_spread\"}, inplace=True)\n",
    "data_df = data_df.drop([\"Unnamed: 0\"], axis=1).drop_duplicates()\n",
    "\n",
    "data_df.columns"
   ]
  },
  {
   "cell_type": "code",
   "execution_count": 90,
   "id": "4d875c08-540f-4cc6-a528-c0a7072e8dc9",
   "metadata": {},
   "outputs": [
    {
     "data": {
      "text/html": [
       "<div>\n",
       "<style scoped>\n",
       "    .dataframe tbody tr th:only-of-type {\n",
       "        vertical-align: middle;\n",
       "    }\n",
       "\n",
       "    .dataframe tbody tr th {\n",
       "        vertical-align: top;\n",
       "    }\n",
       "\n",
       "    .dataframe thead th {\n",
       "        text-align: right;\n",
       "    }\n",
       "</style>\n",
       "<table border=\"1\" class=\"dataframe\">\n",
       "  <thead>\n",
       "    <tr style=\"text-align: right;\">\n",
       "      <th></th>\n",
       "      <th>L_qpc</th>\n",
       "      <th>max_time</th>\n",
       "      <th>tsteps</th>\n",
       "      <th>bond_index</th>\n",
       "      <th>x_spread</th>\n",
       "      <th>k0</th>\n",
       "      <th>J_prime</th>\n",
       "      <th>t</th>\n",
       "      <th>Omega</th>\n",
       "      <th>vg</th>\n",
       "      <th>...</th>\n",
       "      <th>min_purity</th>\n",
       "      <th>max_VN_entropy</th>\n",
       "      <th>entanglement_timeskip</th>\n",
       "      <th>T_mean</th>\n",
       "      <th>ddot0</th>\n",
       "      <th>kick</th>\n",
       "      <th>theta_f</th>\n",
       "      <th>phi_f</th>\n",
       "      <th>delta_phi</th>\n",
       "      <th>dd_density_hit</th>\n",
       "    </tr>\n",
       "  </thead>\n",
       "  <tbody>\n",
       "    <tr>\n",
       "      <th>134</th>\n",
       "      <td>21</td>\n",
       "      <td>18.0</td>\n",
       "      <td>400</td>\n",
       "      <td>7</td>\n",
       "      <td>2.0</td>\n",
       "      <td>1.413717</td>\n",
       "      <td>1.0</td>\n",
       "      <td>0.1</td>\n",
       "      <td>0.3</td>\n",
       "      <td>1.975377</td>\n",
       "      <td>...</td>\n",
       "      <td>0.953778</td>\n",
       "      <td>0.112002</td>\n",
       "      <td>10</td>\n",
       "      <td>0.832030</td>\n",
       "      <td>fixed</td>\n",
       "      <td>0.347969</td>\n",
       "      <td>2.007987</td>\n",
       "      <td>1.226659</td>\n",
       "      <td>0.344137</td>\n",
       "      <td>0.881579</td>\n",
       "    </tr>\n",
       "    <tr>\n",
       "      <th>216</th>\n",
       "      <td>21</td>\n",
       "      <td>18.0</td>\n",
       "      <td>400</td>\n",
       "      <td>7</td>\n",
       "      <td>2.0</td>\n",
       "      <td>1.178097</td>\n",
       "      <td>1.0</td>\n",
       "      <td>0.1</td>\n",
       "      <td>0.3</td>\n",
       "      <td>1.847759</td>\n",
       "      <td>...</td>\n",
       "      <td>0.949747</td>\n",
       "      <td>0.119794</td>\n",
       "      <td>10</td>\n",
       "      <td>0.830174</td>\n",
       "      <td>fixed</td>\n",
       "      <td>0.361427</td>\n",
       "      <td>2.041246</td>\n",
       "      <td>1.196068</td>\n",
       "      <td>0.374729</td>\n",
       "      <td>0.883002</td>\n",
       "    </tr>\n",
       "    <tr>\n",
       "      <th>255</th>\n",
       "      <td>21</td>\n",
       "      <td>18.0</td>\n",
       "      <td>400</td>\n",
       "      <td>7</td>\n",
       "      <td>2.0</td>\n",
       "      <td>1.374447</td>\n",
       "      <td>1.0</td>\n",
       "      <td>0.1</td>\n",
       "      <td>0.3</td>\n",
       "      <td>1.961571</td>\n",
       "      <td>...</td>\n",
       "      <td>0.953536</td>\n",
       "      <td>0.112474</td>\n",
       "      <td>10</td>\n",
       "      <td>0.829135</td>\n",
       "      <td>fixed</td>\n",
       "      <td>0.349297</td>\n",
       "      <td>2.002557</td>\n",
       "      <td>1.225632</td>\n",
       "      <td>0.345164</td>\n",
       "      <td>0.883203</td>\n",
       "    </tr>\n",
       "    <tr>\n",
       "      <th>417</th>\n",
       "      <td>21</td>\n",
       "      <td>18.0</td>\n",
       "      <td>400</td>\n",
       "      <td>7</td>\n",
       "      <td>2.0</td>\n",
       "      <td>1.099557</td>\n",
       "      <td>1.0</td>\n",
       "      <td>0.1</td>\n",
       "      <td>0.3</td>\n",
       "      <td>1.782013</td>\n",
       "      <td>...</td>\n",
       "      <td>0.947633</td>\n",
       "      <td>0.123821</td>\n",
       "      <td>10</td>\n",
       "      <td>0.830521</td>\n",
       "      <td>fixed</td>\n",
       "      <td>0.368262</td>\n",
       "      <td>2.096665</td>\n",
       "      <td>1.171308</td>\n",
       "      <td>0.399489</td>\n",
       "      <td>0.883376</td>\n",
       "    </tr>\n",
       "    <tr>\n",
       "      <th>442</th>\n",
       "      <td>21</td>\n",
       "      <td>18.0</td>\n",
       "      <td>400</td>\n",
       "      <td>7</td>\n",
       "      <td>2.0</td>\n",
       "      <td>1.570796</td>\n",
       "      <td>1.0</td>\n",
       "      <td>0.1</td>\n",
       "      <td>0.3</td>\n",
       "      <td>2.000000</td>\n",
       "      <td>...</td>\n",
       "      <td>0.955062</td>\n",
       "      <td>0.109488</td>\n",
       "      <td>10</td>\n",
       "      <td>0.831857</td>\n",
       "      <td>fixed</td>\n",
       "      <td>0.345388</td>\n",
       "      <td>1.931847</td>\n",
       "      <td>1.244586</td>\n",
       "      <td>0.326210</td>\n",
       "      <td>0.881641</td>\n",
       "    </tr>\n",
       "    <tr>\n",
       "      <th>760</th>\n",
       "      <td>21</td>\n",
       "      <td>18.0</td>\n",
       "      <td>400</td>\n",
       "      <td>7</td>\n",
       "      <td>2.0</td>\n",
       "      <td>1.492257</td>\n",
       "      <td>1.0</td>\n",
       "      <td>0.1</td>\n",
       "      <td>0.3</td>\n",
       "      <td>1.993835</td>\n",
       "      <td>...</td>\n",
       "      <td>0.954915</td>\n",
       "      <td>0.109777</td>\n",
       "      <td>10</td>\n",
       "      <td>0.830184</td>\n",
       "      <td>fixed</td>\n",
       "      <td>0.345950</td>\n",
       "      <td>1.929584</td>\n",
       "      <td>1.243863</td>\n",
       "      <td>0.326933</td>\n",
       "      <td>0.882337</td>\n",
       "    </tr>\n",
       "    <tr>\n",
       "      <th>1121</th>\n",
       "      <td>21</td>\n",
       "      <td>18.0</td>\n",
       "      <td>400</td>\n",
       "      <td>7</td>\n",
       "      <td>2.0</td>\n",
       "      <td>1.256637</td>\n",
       "      <td>1.0</td>\n",
       "      <td>0.1</td>\n",
       "      <td>0.3</td>\n",
       "      <td>1.902113</td>\n",
       "      <td>...</td>\n",
       "      <td>0.952004</td>\n",
       "      <td>0.115449</td>\n",
       "      <td>10</td>\n",
       "      <td>0.831755</td>\n",
       "      <td>fixed</td>\n",
       "      <td>0.355631</td>\n",
       "      <td>1.979252</td>\n",
       "      <td>1.219413</td>\n",
       "      <td>0.351383</td>\n",
       "      <td>0.881790</td>\n",
       "    </tr>\n",
       "    <tr>\n",
       "      <th>1200</th>\n",
       "      <td>21</td>\n",
       "      <td>18.0</td>\n",
       "      <td>400</td>\n",
       "      <td>7</td>\n",
       "      <td>2.0</td>\n",
       "      <td>0.981748</td>\n",
       "      <td>1.0</td>\n",
       "      <td>0.1</td>\n",
       "      <td>0.3</td>\n",
       "      <td>1.662939</td>\n",
       "      <td>...</td>\n",
       "      <td>0.944597</td>\n",
       "      <td>0.129540</td>\n",
       "      <td>10</td>\n",
       "      <td>0.832665</td>\n",
       "      <td>fixed</td>\n",
       "      <td>0.381253</td>\n",
       "      <td>2.205841</td>\n",
       "      <td>1.118728</td>\n",
       "      <td>0.452069</td>\n",
       "      <td>0.884249</td>\n",
       "    </tr>\n",
       "    <tr>\n",
       "      <th>1337</th>\n",
       "      <td>21</td>\n",
       "      <td>18.0</td>\n",
       "      <td>400</td>\n",
       "      <td>7</td>\n",
       "      <td>2.0</td>\n",
       "      <td>0.785398</td>\n",
       "      <td>1.0</td>\n",
       "      <td>0.1</td>\n",
       "      <td>0.3</td>\n",
       "      <td>1.414214</td>\n",
       "      <td>...</td>\n",
       "      <td>0.939862</td>\n",
       "      <td>0.138312</td>\n",
       "      <td>10</td>\n",
       "      <td>0.843028</td>\n",
       "      <td>fixed</td>\n",
       "      <td>0.413719</td>\n",
       "      <td>2.460037</td>\n",
       "      <td>0.934000</td>\n",
       "      <td>0.636796</td>\n",
       "      <td>0.883220</td>\n",
       "    </tr>\n",
       "    <tr>\n",
       "      <th>1374</th>\n",
       "      <td>21</td>\n",
       "      <td>18.0</td>\n",
       "      <td>400</td>\n",
       "      <td>7</td>\n",
       "      <td>2.0</td>\n",
       "      <td>0.392699</td>\n",
       "      <td>1.0</td>\n",
       "      <td>0.1</td>\n",
       "      <td>0.3</td>\n",
       "      <td>0.765367</td>\n",
       "      <td>...</td>\n",
       "      <td>0.955220</td>\n",
       "      <td>0.109178</td>\n",
       "      <td>10</td>\n",
       "      <td>0.870708</td>\n",
       "      <td>fixed</td>\n",
       "      <td>0.513814</td>\n",
       "      <td>2.259272</td>\n",
       "      <td>1.150380</td>\n",
       "      <td>0.420416</td>\n",
       "      <td>0.875477</td>\n",
       "    </tr>\n",
       "    <tr>\n",
       "      <th>1482</th>\n",
       "      <td>21</td>\n",
       "      <td>18.0</td>\n",
       "      <td>400</td>\n",
       "      <td>7</td>\n",
       "      <td>2.0</td>\n",
       "      <td>1.335177</td>\n",
       "      <td>1.0</td>\n",
       "      <td>0.1</td>\n",
       "      <td>0.3</td>\n",
       "      <td>1.944740</td>\n",
       "      <td>...</td>\n",
       "      <td>0.952951</td>\n",
       "      <td>0.113614</td>\n",
       "      <td>10</td>\n",
       "      <td>0.830462</td>\n",
       "      <td>fixed</td>\n",
       "      <td>0.351094</td>\n",
       "      <td>1.996473</td>\n",
       "      <td>1.223146</td>\n",
       "      <td>0.347650</td>\n",
       "      <td>0.882280</td>\n",
       "    </tr>\n",
       "    <tr>\n",
       "      <th>1738</th>\n",
       "      <td>21</td>\n",
       "      <td>18.0</td>\n",
       "      <td>400</td>\n",
       "      <td>7</td>\n",
       "      <td>2.0</td>\n",
       "      <td>0.523599</td>\n",
       "      <td>1.0</td>\n",
       "      <td>0.1</td>\n",
       "      <td>0.3</td>\n",
       "      <td>1.000000</td>\n",
       "      <td>...</td>\n",
       "      <td>0.940764</td>\n",
       "      <td>0.136654</td>\n",
       "      <td>10</td>\n",
       "      <td>0.849893</td>\n",
       "      <td>fixed</td>\n",
       "      <td>0.490927</td>\n",
       "      <td>2.575374</td>\n",
       "      <td>0.801940</td>\n",
       "      <td>0.768856</td>\n",
       "      <td>0.884427</td>\n",
       "    </tr>\n",
       "  </tbody>\n",
       "</table>\n",
       "<p>12 rows × 35 columns</p>\n",
       "</div>"
      ],
      "text/plain": [
       "      L_qpc  max_time  tsteps  bond_index  x_spread        k0  J_prime    t  \\\n",
       "134      21      18.0     400           7       2.0  1.413717      1.0  0.1   \n",
       "216      21      18.0     400           7       2.0  1.178097      1.0  0.1   \n",
       "255      21      18.0     400           7       2.0  1.374447      1.0  0.1   \n",
       "417      21      18.0     400           7       2.0  1.099557      1.0  0.1   \n",
       "442      21      18.0     400           7       2.0  1.570796      1.0  0.1   \n",
       "760      21      18.0     400           7       2.0  1.492257      1.0  0.1   \n",
       "1121     21      18.0     400           7       2.0  1.256637      1.0  0.1   \n",
       "1200     21      18.0     400           7       2.0  0.981748      1.0  0.1   \n",
       "1337     21      18.0     400           7       2.0  0.785398      1.0  0.1   \n",
       "1374     21      18.0     400           7       2.0  0.392699      1.0  0.1   \n",
       "1482     21      18.0     400           7       2.0  1.335177      1.0  0.1   \n",
       "1738     21      18.0     400           7       2.0  0.523599      1.0  0.1   \n",
       "\n",
       "      Omega        vg  ...  min_purity  max_VN_entropy  entanglement_timeskip  \\\n",
       "134     0.3  1.975377  ...    0.953778        0.112002                     10   \n",
       "216     0.3  1.847759  ...    0.949747        0.119794                     10   \n",
       "255     0.3  1.961571  ...    0.953536        0.112474                     10   \n",
       "417     0.3  1.782013  ...    0.947633        0.123821                     10   \n",
       "442     0.3  2.000000  ...    0.955062        0.109488                     10   \n",
       "760     0.3  1.993835  ...    0.954915        0.109777                     10   \n",
       "1121    0.3  1.902113  ...    0.952004        0.115449                     10   \n",
       "1200    0.3  1.662939  ...    0.944597        0.129540                     10   \n",
       "1337    0.3  1.414214  ...    0.939862        0.138312                     10   \n",
       "1374    0.3  0.765367  ...    0.955220        0.109178                     10   \n",
       "1482    0.3  1.944740  ...    0.952951        0.113614                     10   \n",
       "1738    0.3  1.000000  ...    0.940764        0.136654                     10   \n",
       "\n",
       "        T_mean  ddot0      kick   theta_f     phi_f  delta_phi  dd_density_hit  \n",
       "134   0.832030  fixed  0.347969  2.007987  1.226659   0.344137        0.881579  \n",
       "216   0.830174  fixed  0.361427  2.041246  1.196068   0.374729        0.883002  \n",
       "255   0.829135  fixed  0.349297  2.002557  1.225632   0.345164        0.883203  \n",
       "417   0.830521  fixed  0.368262  2.096665  1.171308   0.399489        0.883376  \n",
       "442   0.831857  fixed  0.345388  1.931847  1.244586   0.326210        0.881641  \n",
       "760   0.830184  fixed  0.345950  1.929584  1.243863   0.326933        0.882337  \n",
       "1121  0.831755  fixed  0.355631  1.979252  1.219413   0.351383        0.881790  \n",
       "1200  0.832665  fixed  0.381253  2.205841  1.118728   0.452069        0.884249  \n",
       "1337  0.843028  fixed  0.413719  2.460037  0.934000   0.636796        0.883220  \n",
       "1374  0.870708  fixed  0.513814  2.259272  1.150380   0.420416        0.875477  \n",
       "1482  0.830462  fixed  0.351094  1.996473  1.223146   0.347650        0.882280  \n",
       "1738  0.849893  fixed  0.490927  2.575374  0.801940   0.768856        0.884427  \n",
       "\n",
       "[12 rows x 35 columns]"
      ]
     },
     "execution_count": 90,
     "metadata": {},
     "output_type": "execute_result"
    }
   ],
   "source": [
    "cond = (data_df[\"t\"] == t) & (data_df[\"x_spread\"] == Delta) & (data_df[\"Omega\"] == Omega)\n",
    "curr_df = data_df[cond]\n",
    "\n",
    "curr_df"
   ]
  },
  {
   "cell_type": "code",
   "execution_count": 91,
   "id": "65475b14-9ecc-4994-8ff4-eb25df5706fe",
   "metadata": {},
   "outputs": [
    {
     "data": {
      "image/png": "[encoded data removed]",
      "text/plain": [
       "<Figure size 504x360 with 1 Axes>"
      ]
     },
     "metadata": {
      "needs_background": "light"
     },
     "output_type": "display_data"
    }
   ],
   "source": [
    "fig, ax = plt.subplots(1,1,figsize=(7,5))\n",
    "\n",
    "plt.plot(K0_list, entropies)\n",
    "\n",
    "ax.set_ylabel(r\"$S_{\\rm{VN}}$\")\n",
    "ax.set_xlabel(r\"$k_0$\")\n",
    "#sns.scatterplot(data=curr_df,x=\"k0\",y=\"max_VN_entropy\")\n",
    "# write x axis in units of pi\n",
    "ax.xaxis.set_major_formatter(matplotlib.ticker.FuncFormatter(lambda val,pos: \n",
    "                                                             r'{:.0g}$\\pi$'.format(val/np.pi) if val !=0 \n",
    "                                                             else '0'))\n"
   ]
  },
  {
   "cell_type": "markdown",
   "id": "3c9473ae-5dc6-4ab9-912f-6935cc1c6656",
   "metadata": {},
   "source": [
    "# Trajectories"
   ]
  },
  {
   "cell_type": "code",
   "execution_count": null,
   "id": "99bcc511-dee3-44fe-b62c-ff76b17f9113",
   "metadata": {},
   "outputs": [],
   "source": [
    "aa = np.dot(over_states_p, alphas)\n",
    "np.shape(aa)"
   ]
  },
  {
   "cell_type": "code",
   "execution_count": null,
   "id": "9150e0c3-7cf4-4de7-888b-525a203aba64",
   "metadata": {},
   "outputs": [],
   "source": [
    "alphas"
   ]
  },
  {
   "cell_type": "code",
   "execution_count": null,
   "id": "1cb03164-8249-4153-b45a-4e247ae923bf",
   "metadata": {},
   "outputs": [],
   "source": []
  },
  {
   "cell_type": "code",
   "execution_count": null,
   "id": "ac617053-9fd8-4c06-bb84-16a9c3cc2d28",
   "metadata": {},
   "outputs": [],
   "source": []
  },
  {
   "cell_type": "code",
   "execution_count": null,
   "id": "f9cb61f1",
   "metadata": {},
   "outputs": [],
   "source": []
  }
 ],
 "metadata": {
  "kernelspec": {
   "display_name": "Python 3 (ipykernel)",
   "language": "python",
   "name": "python3"
  },
  "language_info": {
   "codemirror_mode": {
    "name": "ipython",
    "version": 3
   },
   "file_extension": ".py",
   "mimetype": "text/x-python",
   "name": "python",
   "nbconvert_exporter": "python",
   "pygments_lexer": "ipython3",
   "version": "3.9.7"
  }
 },
 "nbformat": 4,
 "nbformat_minor": 5
}
