{
 "cells": [
  {
   "cell_type": "markdown",
   "id": "158f9772-e391-4084-bc9c-5f7a6992cb91",
   "metadata": {},
   "source": [
    "This is just exact diagonalization from scratch instead of using qutip. **The difference with qpc_qutip_fermionic is that here we are not including the fermionic, redundant degrees of freedom as in that case.  We are just building the basis for spinless fermion in the computational basis.Meaning our hilbert space is of dimension $2L_{qpc}$**\n",
    "\n",
    "These functions are the same I have on the scattering region analysis notebook"
   ]
  },
  {
   "cell_type": "code",
   "execution_count": 1,
   "id": "708073c1-3ac9-487c-91e0-ffb17b5f8404",
   "metadata": {},
   "outputs": [
    {
     "name": "stderr",
     "output_type": "stream",
     "text": [
      "<frozen importlib._bootstrap>:228: RuntimeWarning: scipy._lib.messagestream.MessageStream size changed, may indicate binary incompatibility. Expected 56 from C header, got 64 from PyObject\n"
     ]
    }
   ],
   "source": [
    "import sys\n",
    "sys.path.append('../scripts') \n",
    "\n",
    "import numpy as np\n",
    "import pandas as pd\n",
    "\"\"\"from scipy.fft import fft, ifft, fftfreq\n",
    "from scipy.integrate import simpson\n",
    "from scipy.interpolate import UnivariateSpline\"\"\"\n",
    "\n",
    "import qutip\n",
    "sys.path.append('../../scripts') \n",
    "from qutip_tools import *\n",
    "\n",
    "import matplotlib.pyplot as plt\n",
    "import matplotlib.gridspec as gridspec\n",
    "import seaborn as sns\n",
    "import h5py\n",
    "import json\n",
    "import matplotlib \n",
    "from mpl_toolkits.axes_grid1 import make_axes_locatable\n",
    "\n",
    "import os\n",
    "import sys  \n",
    "from ast import literal_eval"
   ]
  },
  {
   "cell_type": "code",
   "execution_count": 2,
   "id": "cb284ea2-8a77-4a5b-9c71-cf183ceebb40",
   "metadata": {},
   "outputs": [],
   "source": [
    "# define basic figure sizes\n",
    "bwidth=7\n",
    "bheight=5\n",
    "base_font = 20\n",
    "\n",
    "matplotlib.rcParams.update({'font.size': base_font,\"legend.fontsize\":base_font-4 ,\"font.family\": \"serif\", \n",
    "                            \"font.serif\": \"CMU Serif, Times New Roman\",\n",
    "                           'text.usetex' : True })\n",
    "\n",
    "sns.set_palette(\"colorblind\")\n",
    "\n",
    "fig_route = \"../../plots/perturbative/\"\n",
    "data_route = \"../../data/sims/L=21/\"\n"
   ]
  },
  {
   "cell_type": "markdown",
   "id": "824dbf6b-f4a5-4720-a1da-8e2b3857ea43",
   "metadata": {},
   "source": [
    "# Functions"
   ]
  },
  {
   "cell_type": "code",
   "execution_count": 90,
   "id": "36d7b711-1b4c-4f5f-8863-0ce4f8e75a68",
   "metadata": {},
   "outputs": [],
   "source": [
    "def create_hamiltonians(L, T, Bond):\n",
    "    # creates the decoupled and interacting hamiltonians \n",
    "    \n",
    "    # L_qpc = qpc lattice sites\n",
    "    # T = qubit hopping\n",
    "    # BOnd = index for bond locatin\n",
    "    H_matrix = np.zeros((2*L,2*L))\n",
    "    # fill in the dd hopping \n",
    "    d_indices= kth_diag_indices(H_matrix,1)\n",
    "    H_matrix[d_indices] = -T\n",
    "    \n",
    "    # fill in the QPC hopping\n",
    "    d_indices= kth_diag_indices(H_matrix,2)\n",
    "    H_matrix[d_indices] = -J[0]\n",
    "    \n",
    "    # when qpc and qubit hop a the same time there is no contribution\n",
    "    d_indices= kth_diag_indices(H_matrix,1)\n",
    "    odd_inds = (d_indices[0][1::2], d_indices[1][1::2])\n",
    "    H_matrix[odd_inds] = 0\n",
    "    \n",
    "    # save the free hamiltonian for later use\n",
    "    Hdeco = H_matrix.copy()\n",
    "    \n",
    "    # Fill in the interaction at the bond\n",
    "    H_matrix[2*Bond,2*(Bond+1)] = H_matrix[2*Bond,2*(Bond+1)]+ Omega\n",
    "    \n",
    "    # Now the elemets below the diagonal\n",
    "    for i in range(0,2*L):\n",
    "        for j in range(i + 1, 2*L):\n",
    "            H_matrix[j, i] = H_matrix[i, j]\n",
    "            Hdeco[j, i] = Hdeco[i, j]\n",
    "            \n",
    "    return H_matrix, Hdeco\n",
    "\n",
    "    \n",
    "def get_DD_init_for_fixed_k(k_prime):\n",
    "    # calculated the initial conditions of the DD such that, when the QPC hits the bond\n",
    "    # its state is the same as that of a DD initialized localized in the first site when \n",
    "    # the QPC for that case hits the bond with an average momentum k0=pi/2\n",
    "    # k_prime: float. The momentum of the qpc particle\n",
    "     \n",
    "    alpha0 = np.cos( (t*bond_index)/(2*J[0])*(1/np.sin(k_prime) - 1) )\n",
    "    beta0 = - 1j*np.sin( (t*bond_index)/(2*J[0])*(1/np.sin(k_prime) - 1) )\n",
    "                        \n",
    "    return alpha0, beta0\n",
    "\n",
    "def get_bands(Eigen_energies, Eigen_vectors, Minus_indices, Plus_indies):\n",
    "    # separates eigenvectors and eigenvalues into plus/minus enegy bands\n",
    "    # and then sorts by enegy magnitude\n",
    "    \n",
    "    # minus band\n",
    "    Energies_m = Eigen_energies[Minus_indices]\n",
    "    States_m = Eigen_vectors[:,Minus_indices]\n",
    "    # sort by magnitude\n",
    "    Energies_m, States_m = mag_sort(Energies_m, States_m)\n",
    "    \n",
    "    # plus band\n",
    "    Energies_p = Eigen_energies[Plus_indies]\n",
    "    States_p = Eigen_vectors[:,Plus_indies]\n",
    "    # sort by magnitude\n",
    "    Energies_p, States_p = mag_sort(Energies_p, States_p)\n",
    "    \n",
    "    return Energies_m, States_m, Energies_p, States_p\n",
    "\n",
    "def time_evolve(Psi0, Tau, states_m, Energies_m, states_p, Energies_p):\n",
    "    # time evolve a state up psi0 to time Tau with eigenstates states_m for anti-band\n",
    "    # and states_p for symmetric band\n",
    "    psi_t = []\n",
    "\n",
    "    # lattice basis\n",
    "    for i in range(0, 2*L_qpc):\n",
    "        aa = np.zeros(2*L_qpc)+ 0*1j\n",
    "        # energy basis\n",
    "        for k in range(0,len(k_single_band)):\n",
    "            aa += np.exp(-1j*Tau*Energies_m[k])*np.conj(states_m[:,k])*states_m[i,k]+ \\\n",
    "                    np.exp(-1j*Tau*Energies_p[k])*np.conj(states_p[:,k])*states_p[i,k]\n",
    "\n",
    "        psi_t.append(np.dot(Psi0,aa))\n",
    "\n",
    "    return np.asarray(psi_t)"
   ]
  },
  {
   "cell_type": "code",
   "execution_count": 91,
   "id": "475cf066-aa6b-4201-9b58-b58d7f9692a7",
   "metadata": {},
   "outputs": [],
   "source": [
    "\n",
    "def schmidt_qubit_qpc(c_eigs):\n",
    "    # calculates the schmidt decomposition between the QPC and qubit for some stae\n",
    "    # given how we build our hamiltonian, the 0qubit-eigenstates are in the even indices\n",
    "    # while the 1qubit ones are in the odd indices\n",
    "    # c_eigs is the state vector\n",
    "\n",
    "    # arange in MPS form for SVD\n",
    "    col_1 = np.asarray(c_eigs[0::2]).reshape(-1,1)\n",
    "    col_2 =  np.asarray(c_eigs[1::2]).reshape(-1,1)\n",
    "    psi_mat = np.concatenate((col_1, col_2), axis=1)\n",
    "    U, S, Vh = np.linalg.svd(psi_mat)\n",
    "\n",
    "    return U, S, Vh\n",
    "\n",
    "def get_QPC_occupations(Psi):\n",
    "    # apply the density opperator to the full composite Psi and return the\n",
    "    # densities a teach of the QPC sites\n",
    "    occ_list = []\n",
    "\n",
    "    for j in range(0,L_qpc):\n",
    "        basis_j = np.zeros(L_qpc)\n",
    "        basis_j[j] = 1\n",
    "        # create density operator for the jth qoc lattice\n",
    "        ketbra = np.outer(basis_j, np.conj(basis_j))\n",
    "        # tensor with the qubit identity\n",
    "        Nj_op = np.kron(ketbra, np.eye(2))\n",
    "        occ_list.append(np.vdot(Psi, Nj_op @ Psi).real)\n",
    "    return np.asarray(occ_list)\n",
    "\n",
    "def get_qubit_occupations(Psi):\n",
    "    # apply the density opperator to the full composite Psi and return the\n",
    "    # densities a teach of the QPC sites\n",
    "    occ_list = []\n",
    "\n",
    "    # create density operator for the 0th qubit state \n",
    "    ketbra = np.outer([1,0], np.conj([1,0]))\n",
    "    # tensor with the qubit identity\n",
    "    Nj_op = np.kron(np.eye(L_qpc), ketbra)\n",
    "    return np.vdot(Psi, Nj_op @ Psi).real\n",
    "\n",
    "def get_transmision_proba(Om, k0,dot_density, Delta, k_arr ,J, Bond):\n",
    "    # in the limit where we have very localized state the transmision probability is approximately that of the\n",
    "    # one for K0\n",
    "    V0 =  Om*J*dot_density\n",
    "    T0 = 1 / (1 + (V0 / k_arr) ** 2)\n",
    "\n",
    "    # effective mass\n",
    "    m = 2*J*np.cos(k0)\n",
    "\n",
    "    # the momentum distribution\n",
    "    k_arr = np.linspace(-200, 200, 5000)\n",
    "    Psi0k_abs = np.exp(-(Delta** 2)*(k_arr - k0) ** 2)\n",
    "    # now with the wave packet weights\n",
    "    T_k = 1 / (1 + (V0*m/ k_arr) ** 2)\n",
    "    T_tot = simpson(T_k * Psi0k_abs, dx=k_arr[1] - k_arr[0])\n",
    "\n",
    "    return T0, T_tot\n"
   ]
  },
  {
   "cell_type": "markdown",
   "id": "7d31302d-21a3-46d7-878f-732dfab2b819",
   "metadata": {},
   "source": [
    "# Main"
   ]
  },
  {
   "cell_type": "code",
   "execution_count": 98,
   "id": "a9916ed7-d4e7-4131-bc9e-e5876753d211",
   "metadata": {},
   "outputs": [],
   "source": [
    "L_qpc = 21\n",
    "L = L_qpc + 2\n",
    "Omega = 0.3\n",
    "t = 0.1\n",
    "J_prime = 1\n",
    "bond_index =  7 # int(L_qpc/2)\n",
    "J = np.ones(L_qpc) # QPC hopping\n",
    "J[bond_index] = J_prime  \n",
    "K0 = np.pi/2\n",
    "centered_at = 0 # initial position of wavepacket\n",
    "Delta = 2.0 # spread of wavepacket\n",
    "maxt_time = L_qpc/(2 * J[0] * np.sin(K0))\n",
    "N_timepoints = 100\n",
    "x = np.arange(0,L_qpc)  # latice sites\n",
    " "
   ]
  },
  {
   "cell_type": "code",
   "execution_count": 99,
   "id": "f37c629c-3ec9-410a-af63-d6d708b10be2",
   "metadata": {},
   "outputs": [],
   "source": [
    "# build gaussian wavepacket\n",
    "alphas = np.exp(-0.5*(x - centered_at)**2 / (Delta**2)) * np.exp(1j * K0 *(x-centered_at))\n",
    "norm_ = np.linalg.norm(alphas)\n",
    "alphas = alphas/norm_\n",
    "\n",
    "# build the projection opeartor to the qubit-symmetric sector of the hilbert space\n",
    "Id_qpc = np.eye(L_qpc)\n",
    "plusket = np.asarray([1/np.sqrt(2),1/np.sqrt(2)])\n",
    "p_ketbra = np.outer(plusket,plusket)\n",
    "Psym = np.eye(2*L_qpc) - np.kron(Id_qpc, p_ketbra) # tensor product\n",
    "\n",
    "# build the momentum values for the bands\n",
    "k_single_band = np.arange(1,L_qpc+1)*np.pi/(L_qpc+1)\n"
   ]
  },
  {
   "cell_type": "code",
   "execution_count": 101,
   "id": "82003a79-041f-4a44-9923-135384502b8c",
   "metadata": {},
   "outputs": [],
   "source": [
    "# Build the hamiltonian and diagonalize it\n",
    "H_matrix, Hdeco = create_hamiltonians(L_qpc,t, bond_index)\n",
    "\n",
    "# for the interacting hamiltonian\n",
    "energies, eigen_vecs = np.linalg.eig(H_matrix)\n",
    "# normalize\n",
    "eigen_vecs = eigen_vecs/ np.linalg.norm(eigen_vecs, axis=0)\n",
    "# Calculate the non-interacting energies and eigenvectors\n",
    "free_energies, free_eigen_vecs = np.linalg.eig(Hdeco)\n",
    "# normalize\n",
    "free_eigen_vecs = free_eigen_vecs/ np.linalg.norm(free_eigen_vecs, axis=0)\n",
    "sorted_indices, over_matrix = sort_by_overlap_matrix(energies, free_eigen_vecs,eigen_vecs)\n"
   ]
  },
  {
   "cell_type": "code",
   "execution_count": 102,
   "id": "08f85519-b4a2-48f8-9508-f18f19930abb",
   "metadata": {},
   "outputs": [],
   "source": [
    "# now sort the freee case into bands according to projection\n",
    "mindices, pindices = sort_by_projection(free_energies,free_eigen_vecs, Psym)\n",
    "\n",
    "free_energies_m, free_states_m, free_energies_p, free_states_p = get_bands(free_energies, free_eigen_vecs, mindices, pindices)\n",
    "# now sort the coupled eigenvectors and values according to max overlaps so they match with the free case\n",
    "sorted_e = energies[sorted_indices]\n",
    "sorted_vecs = eigen_vecs[:,sorted_indices]\n",
    "over_energies_m, over_states_m, over_energies_p, over_states_p = get_bands(sorted_e, sorted_vecs, mindices, pindices)\n"
   ]
  },
  {
   "cell_type": "code",
   "execution_count": 103,
   "id": "7b63957c-c940-402a-a65d-8503c8fcf6aa",
   "metadata": {},
   "outputs": [],
   "source": [
    "time_range = np.linspace(0, maxt_time, N_timepoints)\n",
    "\n",
    "#this is so we get the same qubit state when the qpc hits the bond\n",
    "beta0, beta1 = get_DD_init_for_fixed_k(K0)\n",
    "psi_0 = np.kron(alphas, [beta1, beta0])\n",
    "\n",
    "trajectories = np.zeros((L_qpc, len(time_range)))\n",
    "qubit_traj = []\n",
    "St = []\n",
    "\n",
    "i = 0\n",
    "for Tau in time_range:\n",
    "    psi_t = time_evolve(psi_0, Tau,over_states_m, over_energies_m, over_states_p, over_energies_p)\n",
    "    occupations = get_QPC_occupations(psi_t)\n",
    "    qubit_traj.append(get_qubit_occupations(psi_t))\n",
    "    \n",
    "    U, S, Vh = schmidt_qubit_qpc(psi_t)\n",
    "    schmis = S**2\n",
    "    trajectories[:,i] = occupations\n",
    "    St.append(-1*np.sum(schmis*np.log(schmis+1e-17))) # avoid log(0)\n",
    "\n",
    "    i += 1"
   ]
  },
  {
   "cell_type": "code",
   "execution_count": null,
   "id": "a14dd31c-ed2a-4931-aa56-e3ea36b68ba5",
   "metadata": {},
   "outputs": [],
   "source": [
    "np.kron()"
   ]
  },
  {
   "cell_type": "markdown",
   "id": "b9cf5597-9194-40b5-b492-cfcf46163110",
   "metadata": {},
   "source": [
    "# comparing with qutip"
   ]
  },
  {
   "cell_type": "code",
   "execution_count": 104,
   "id": "649c1bbd-b8b6-432e-bbe3-9f68a1e4e190",
   "metadata": {},
   "outputs": [
    {
     "data": {
      "text/plain": [
       "['res_L21_maxtim18.0_bw2.0_k1.5708_jp1.0_t0.1_om0.3_dd0fixed.hdf5']"
      ]
     },
     "execution_count": 104,
     "metadata": {},
     "output_type": "execute_result"
    }
   ],
   "source": [
    "file_list = get_file_names_on([\"bw2.0\",\"om{}_\".format(Omega),\"dd0fixed\", \"k1.5708\", \"t{}\".format(t)], data_route)\n",
    "file_list"
   ]
  },
  {
   "cell_type": "code",
   "execution_count": 127,
   "id": "116ee60f-ad11-4781-a0cf-fcabd28cee45",
   "metadata": {},
   "outputs": [],
   "source": [
    "file_name = file_list[0]\n",
    "param_dict, times, n_bond, n_left, n_right, n_d1, n_d2, traject, VN_entropy, purity, dd_theta , dd_phi = load_data(data_route,file_name)\n"
   ]
  },
  {
   "cell_type": "code",
   "execution_count": 138,
   "id": "7482da9b-d42b-4a8f-b2f2-40b2f25e101b",
   "metadata": {},
   "outputs": [
    {
     "data": {
      "text/plain": [
       "100"
      ]
     },
     "execution_count": 138,
     "metadata": {},
     "output_type": "execute_result"
    }
   ],
   "source": [
    "R_new = np.sum(trajectories[:bond_index,:],axis=0)\n",
    "T_new = np.sum(trajectories[bond_index+2:,:],axis=0)\n",
    "B_new = trajectories[bond_index,:] +  trajectories[bond_index+1,:]\n",
    "len(T_new)"
   ]
  },
  {
   "cell_type": "code",
   "execution_count": 139,
   "id": "ae277b3b-0e09-4901-ab77-efc66ccc4577",
   "metadata": {},
   "outputs": [
    {
     "data": {
      "text/plain": [
       "[<matplotlib.lines.Line2D at 0x7fc92c193ca0>]"
      ]
     },
     "execution_count": 139,
     "metadata": {},
     "output_type": "execute_result"
    },
    {
     "data": {
      "image/png": "[encoded data removed]",
      "text/plain": [
       "<Figure size 432x288 with 1 Axes>"
      ]
     },
     "metadata": {
      "needs_background": "light"
     },
     "output_type": "display_data"
    }
   ],
   "source": [
    "plt.plot(times, n_left)\n",
    "plt.plot(times, n_right)\n",
    "plt.plot(times, n_bond)\n",
    "\n",
    "plt.plot(time_range, R_new, linestyle = \"dashed\")\n",
    "plt.plot(time_range, T_new,linestyle = \"dashed\")\n",
    "plt.plot(time_range, B_new,linestyle = \"dashed\")\n"
   ]
  },
  {
   "cell_type": "code",
   "execution_count": 141,
   "id": "3be31422-a064-4f3f-97a7-16d0eb1d18cf",
   "metadata": {},
   "outputs": [
    {
     "data": {
      "text/plain": [
       "[<matplotlib.lines.Line2D at 0x7fc9393c59a0>]"
      ]
     },
     "execution_count": 141,
     "metadata": {},
     "output_type": "execute_result"
    },
    {
     "data": {
      "image/png": "[encoded data removed]",
      "text/plain": [
       "<Figure size 432x288 with 1 Axes>"
      ]
     },
     "metadata": {
      "needs_background": "light"
     },
     "output_type": "display_data"
    }
   ],
   "source": [
    "times_coarse = np.linspace(times[0], times[-1], len(VN_entropy))\n",
    "plt.plot(times_coarse, VN_entropy)\n",
    "plt.plot(time_range, St, linestyle=\"dashed\")"
   ]
  },
  {
   "cell_type": "code",
   "execution_count": null,
   "id": "6a209b81-f452-4a30-8e14-232ef0ff0497",
   "metadata": {},
   "outputs": [],
   "source": []
  }
 ],
 "metadata": {
  "kernelspec": {
   "display_name": "Python 3 (ipykernel)",
   "language": "python",
   "name": "python3"
  },
  "language_info": {
   "codemirror_mode": {
    "name": "ipython",
    "version": 3
   },
   "file_extension": ".py",
   "mimetype": "text/x-python",
   "name": "python",
   "nbconvert_exporter": "python",
   "pygments_lexer": "ipython3",
   "version": "3.9.7"
  }
 },
 "nbformat": 4,
 "nbformat_minor": 5
}
