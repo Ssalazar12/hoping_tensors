{
 "cells": [
  {
   "cell_type": "code",
   "execution_count": 4,
   "id": "035fabb3-761e-4036-a953-281e9a91366c",
   "metadata": {},
   "outputs": [],
   "source": [
    "#import Pkg; Pkg.add(\"Combinatorics\")#"
   ]
  },
  {
   "cell_type": "code",
   "execution_count": 2,
   "id": "2ee3e046-39fc-48f9-b475-16c508125031",
   "metadata": {},
   "outputs": [],
   "source": [
    "using DrWatson\n",
    "using IJulia\n",
    "@quickactivate\n",
    "push!(LOAD_PATH, \"../../src\")\n",
    "using TEBD"
   ]
  },
  {
   "cell_type": "code",
   "execution_count": 3,
   "id": "68af6c68-86a3-4761-8f80-5c3dc47f1346",
   "metadata": {},
   "outputs": [
    {
     "data": {
      "text/plain": [
       "EvolutionSweep"
      ]
     },
     "execution_count": 3,
     "metadata": {},
     "output_type": "execute_result"
    }
   ],
   "source": [
    "EvolutionSweep"
   ]
  },
  {
   "cell_type": "code",
   "execution_count": 7,
   "id": "54e7c6ee-e336-4dda-9a35-fb29db071cd2",
   "metadata": {},
   "outputs": [
    {
     "data": {
      "text/plain": [
       "get_reduced_mpo (generic function with 1 method)"
      ]
     },
     "execution_count": 7,
     "metadata": {},
     "output_type": "execute_result"
    }
   ],
   "source": [
    "get_reduced_mpo"
   ]
  },
  {
   "cell_type": "code",
   "execution_count": null,
   "id": "9e8ed238-bc92-4992-8d75-500b0058e1fb",
   "metadata": {},
   "outputs": [],
   "source": []
  }
 ],
 "metadata": {
  "kernelspec": {
   "display_name": "new kernel 1.11.6",
   "language": "julia",
   "name": "new-kernel-1.11"
  },
  "language_info": {
   "file_extension": ".jl",
   "mimetype": "application/julia",
   "name": "julia",
   "version": "1.11.6"
  }
 },
 "nbformat": 4,
 "nbformat_minor": 5
}
