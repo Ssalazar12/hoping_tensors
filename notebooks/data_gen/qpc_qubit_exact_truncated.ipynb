{
 "cells": [
  {
   "cell_type": "markdown",
   "id": "158f9772-e391-4084-bc9c-5f7a6992cb91",
   "metadata": {},
   "source": [
    "This is just exact diagonalization from scratch instead of using qutip. **The difference with qpc_qutip_fermionic is that here we are not including the fermionic, redundant degrees of freedom as in that case.  We are just building the basis for spinless fermion in the computational basis.Meaning our hilbert space is of dimension $2L_{qpc}$**\n",
    "\n",
    "These functions are the same I have on the scattering region analysis notebook"
   ]
  },
  {
   "cell_type": "code",
   "execution_count": 1,
   "id": "708073c1-3ac9-487c-91e0-ffb17b5f8404",
   "metadata": {},
   "outputs": [],
   "source": [
    "import sys\n",
    "import gc\n",
    "\n",
    "import numpy as np\n",
    "import pandas as pd\n",
    "\n",
    "sys.path.append('../../scripts') \n",
    "import qutip\n",
    "from qutip_tools import *\n",
    "\n",
    "import matplotlib.pyplot as plt\n",
    "import matplotlib.gridspec as gridspec\n",
    "import seaborn as sns\n",
    "import h5py\n",
    "import json\n",
    "import matplotlib \n",
    "from mpl_toolkits.axes_grid1 import make_axes_locatable\n",
    "\n",
    "import os\n",
    "from ast import literal_eval"
   ]
  },
  {
   "cell_type": "code",
   "execution_count": 2,
   "id": "cb284ea2-8a77-4a5b-9c71-cf183ceebb40",
   "metadata": {},
   "outputs": [],
   "source": [
    "# define basic figure sizes\n",
    "bwidth=7\n",
    "bheight=5\n",
    "base_font = 20\n",
    "\n",
    "matplotlib.rcParams.update({'font.size': base_font,\"legend.fontsize\":base_font-4 ,\"font.family\": \"serif\", \n",
    "                            \"font.serif\": \"CMU Serif, Times New Roman\",\n",
    "                           'text.usetex' : True })\n",
    "\n",
    "sns.set_palette(\"colorblind\")\n"
   ]
  },
  {
   "cell_type": "code",
   "execution_count": 3,
   "id": "a9916ed7-d4e7-4131-bc9e-e5876753d211",
   "metadata": {},
   "outputs": [
    {
     "data": {
      "text/plain": [
       "20.0"
      ]
     },
     "execution_count": 3,
     "metadata": {},
     "output_type": "execute_result"
    }
   ],
   "source": [
    "L_qpc = 40\n",
    "L = L_qpc + 2\n",
    "Omega = 0.0\n",
    "t = 0.1\n",
    "J_prime = 1\n",
    "bond_index = 7 # int(L_qpc/2)  # int(L_qpc/2)\n",
    "J = np.ones(L_qpc) # QPC hopping\n",
    "J[bond_index] = J_prime  \n",
    "K0 = np.pi/2\n",
    "centered_at = 5 # initial position of wavepacket\n",
    "Delta = 4.0 # spread of wavepacket\n",
    "maxt_time = 30 # L_qpc/(2 * J[0] * np.sin(K0)) + 1\n",
    "N_timepoints = 300\n",
    "x = np.arange(0,L_qpc)  # latice sites\n",
    "\n",
    "ddot = \"momentum\" # can be free or momentum which is set by k0 based on af, bf\n",
    "phi = 0  #np.pi/2 # initial phase of the qubit\n",
    "# if its \"free\" af, bf will be the initial conditions\n",
    "af = np.sqrt(0.9) # probability of qubit 0 state\n",
    "bf = np.sqrt(1-af**2)*np.exp(-1j*phi)  # probability of qubit 1 state\n",
    "\n",
    "fig_route = \"../../plots/perturbative/\"\n",
    "data_route = \"../../data/exact_diag_new/L={}/\".format(L_qpc)\n",
    "\n",
    "Vg = 2 * J[1]* np.sin(K0)\n",
    "L_qpc/ Vg"
   ]
  },
  {
   "cell_type": "code",
   "execution_count": 4,
   "id": "8e065c15-fee8-4825-a604-f3f13f528916",
   "metadata": {},
   "outputs": [
    {
     "data": {
      "text/plain": [
       "(0.9486832980505138, (0.31622776601683805+0j))"
      ]
     },
     "execution_count": 4,
     "metadata": {},
     "output_type": "execute_result"
    }
   ],
   "source": [
    "af, bf"
   ]
  },
  {
   "cell_type": "markdown",
   "id": "824dbf6b-f4a5-4720-a1da-8e2b3857ea43",
   "metadata": {},
   "source": [
    "# Functions"
   ]
  },
  {
   "cell_type": "code",
   "execution_count": 5,
   "id": "36d7b711-1b4c-4f5f-8863-0ce4f8e75a68",
   "metadata": {},
   "outputs": [],
   "source": [
    "def create_hamiltonians(L, T, Bond):\n",
    "    # creates the decoupled and interacting hamiltonians \n",
    "    \n",
    "    # L_qpc = qpc lattice sites\n",
    "    # T = qubit hopping\n",
    "    # BOnd = index for bond locatin\n",
    "    H_matrix = np.zeros((2*L,2*L))\n",
    "    # fill in the dd hopping \n",
    "    d_indices= kth_diag_indices(H_matrix,1)\n",
    "    H_matrix[d_indices] = -T\n",
    "    \n",
    "    # fill in the QPC hopping\n",
    "    d_indices= kth_diag_indices(H_matrix,2)\n",
    "    H_matrix[d_indices] = -J[0]\n",
    "    \n",
    "    # when qpc and qubit hop a the same time there is no contribution\n",
    "    d_indices= kth_diag_indices(H_matrix,1)\n",
    "    odd_inds = (d_indices[0][1::2], d_indices[1][1::2])\n",
    "    H_matrix[odd_inds] = 0\n",
    "    \n",
    "    # save the free hamiltonian for later use\n",
    "    Hdeco = H_matrix.copy()\n",
    "    \n",
    "    # Fill in the interaction at the bond\n",
    "    H_matrix[2*Bond,2*(Bond+1)] = H_matrix[2*Bond,2*(Bond+1)]+ Omega\n",
    "    \n",
    "    # Now the elemets below the diagonal\n",
    "    for i in range(0,2*L):\n",
    "        for j in range(i + 1, 2*L):\n",
    "            H_matrix[j, i] = H_matrix[i, j]\n",
    "            Hdeco[j, i] = Hdeco[i, j]\n",
    "            \n",
    "    return H_matrix, Hdeco\n",
    "\n",
    "    \n",
    "def get_DD_init_for_fixed_k(k_prime):\n",
    "    # calculated the initial conditions of the DD such that, when the QPC hits the bond\n",
    "    # its state is the same as that of a DD initialized localized in the first site when \n",
    "    # the QPC for that case hits the bond with an average momentum k0=pi/2\n",
    "    # k_prime: float. The momentum of the qpc particle\n",
    "     \n",
    "    alpha0 = np.cos( (t*bond_index)/(2*J[0])*(1/np.sin(k_prime) - 1) )\n",
    "    beta0 = - 1j*np.sin( (t*bond_index)/(2*J[0])*(1/np.sin(k_prime) - 1) )\n",
    "                        \n",
    "    return alpha0, beta0\n",
    "\n",
    "def get_bands(Eigen_energies, Eigen_vectors, Minus_indices, Plus_indies):\n",
    "    # separates eigenvectors and eigenvalues into plus/minus enegy bands\n",
    "    # and then sorts by enegy magnitude\n",
    "    \n",
    "    # minus band\n",
    "    Energies_m = Eigen_energies[Minus_indices]\n",
    "    States_m = Eigen_vectors[:,Minus_indices]\n",
    "    # sort by magnitude\n",
    "    Energies_m, States_m = mag_sort(Energies_m, States_m)\n",
    "    \n",
    "    # plus band\n",
    "    Energies_p = Eigen_energies[Plus_indies]\n",
    "    States_p = Eigen_vectors[:,Plus_indies]\n",
    "    # sort by magnitude\n",
    "    Energies_p, States_p = mag_sort(Energies_p, States_p)\n",
    "    \n",
    "    return Energies_m, States_m, Energies_p, States_p\n",
    "\n",
    "    \n",
    "def get_DD_init_for_momentum(k_prime, alphaf, betaf, ϕ):\n",
    "    # set initial condtions for a given k_prime such that n_f is always the same\n",
    "    # k_prime: float. The momentum of the qpc particle\n",
    "    # nf: The occupations in the qubit 0 state\n",
    "    \n",
    "    Tau_bond = -(bond_index)/(2*J[0]*np.sin(k_prime))\n",
    "    α0 = alphaf*np.cos(Tau_bond*t) + 1j*np.exp(-1j*ϕ)*betaf*np.sin(Tau_bond*t)\n",
    "    β0 = 1j*np.exp(1j*ϕ)*alphaf*np.sin(Tau_bond*t) + betaf*np.cos(Tau_bond*t)\n",
    "    \n",
    "    # dont forget the normalization and other factors\n",
    "    return α0, β0  \n"
   ]
  },
  {
   "cell_type": "code",
   "execution_count": 6,
   "id": "475cf066-aa6b-4201-9b58-b58d7f9692a7",
   "metadata": {},
   "outputs": [],
   "source": [
    "\n",
    "def schmidt_qubit_qpc(c_eigs):\n",
    "    # calculates the schmidt decomposition between the QPC and qubit for some stae\n",
    "    # given how we build our hamiltonian, the 0qubit-eigenstates are in the even indices\n",
    "    # while the 1qubit ones are in the odd indices\n",
    "    # c_eigs is the state vector\n",
    "\n",
    "    # arange in MPS form for SVD\n",
    "    col_1 = np.asarray(c_eigs[0::2]).reshape(-1,1)\n",
    "    col_2 =  np.asarray(c_eigs[1::2]).reshape(-1,1)\n",
    "    psi_mat = np.concatenate((col_1, col_2), axis=1)\n",
    "    U, S, Vh = np.linalg.svd(psi_mat)\n",
    "\n",
    "    return U, S, Vh\n",
    "\n",
    "def get_QPC_occupations(Psi):\n",
    "    # apply the density opperator to the full composite Psi and return the\n",
    "    # densities a teach of the QPC sites\n",
    "    occ_list = []\n",
    "\n",
    "    for j in range(0,L_qpc):\n",
    "        basis_j = np.zeros(L_qpc)\n",
    "        basis_j[j] = 1\n",
    "        # create density operator for the jth qoc lattice\n",
    "        ketbra = np.outer(basis_j, np.conj(basis_j))\n",
    "        # tensor with the qubit identity\n",
    "        Nj_op = np.kron(ketbra, np.eye(2))\n",
    "        occ_list.append(np.vdot(Psi, Nj_op @ Psi).real)\n",
    "    return np.asarray(occ_list)\n",
    "\n",
    "def get_qubit_occupations(Psi):\n",
    "    # apply the density opperator to the full composite Psi and return the\n",
    "    # densities a teach of the QPC sites\n",
    "    occ_list = []\n",
    "\n",
    "    # create density operator for the 0th qubit state \n",
    "    ketbra = np.outer([1,0], np.conj([1,0]))\n",
    "    # tensor with the qubit identity\n",
    "    Nj_op = np.kron(np.eye(L_qpc), ketbra)\n",
    "    return np.vdot(Psi, Nj_op @ Psi).real\n",
    "\n"
   ]
  },
  {
   "cell_type": "code",
   "execution_count": 7,
   "id": "7fcc81f7-0314-4997-aa82-7e719490b458",
   "metadata": {},
   "outputs": [],
   "source": [
    "\n",
    "def time_evolve(Psi0, Tau, states_, energies_):\n",
    "    # time evolve a state up psi0 to time Tau with eigenstates states_m for anti-band\n",
    "    # and states_p for symmetric band\n",
    "    psi_t = np.zeros(len(Psi0)) + 0j\n",
    "    for k in range(0,len(energies_)):\n",
    "        psi_t += np.exp(-1j*Tau*energies_[k])*np.dot( np.conj(states_[:,k]), Psi0)*states_[:,k]\n",
    "\n",
    "    return psi_t\n",
    "\n",
    "def get_reduced_density_matrix(Psi,NN):\n",
    "    # calcualtes the partial trace from a STATEVECTOR Psi\n",
    "    # NOT from the density matrix\n",
    "    # Psi: array with the wavefunction\n",
    "    # NN: integer with the total size of the lattice\n",
    "\n",
    "    n = (NN-2) # QPC sites\n",
    "    m = 2 # Double dot sites\n",
    "    # get density matrix as a sparse array\n",
    "    ρ = np.kron(Psi, np.conj(Psi.T))\n",
    "    # trace out QPC sites and return reduced rho for DD as Quobject\n",
    "    return np.trace(ρ.reshape(n,m,n,m), axis1=0, axis2=2)"
   ]
  },
  {
   "cell_type": "markdown",
   "id": "7d31302d-21a3-46d7-878f-732dfab2b819",
   "metadata": {},
   "source": [
    "# Main"
   ]
  },
  {
   "cell_type": "code",
   "execution_count": 8,
   "id": "f37c629c-3ec9-410a-af63-d6d708b10be2",
   "metadata": {},
   "outputs": [],
   "source": [
    "# build gaussian wavepacket\n",
    "alphas = np.exp(-0.5*(x - centered_at)**2 / (Delta**2)) * np.exp(1j * K0 *(x-centered_at))\n",
    "norm_ = np.linalg.norm(alphas)\n",
    "alphas = alphas/norm_\n",
    "\n",
    "if ddot == \"momentum\":\n",
    "    #this is so we get the same qubit state when the qpc hits the bond\n",
    "    a0, b0 = get_DD_init_for_momentum(K0, af, bf, phi)\n",
    "    \n",
    "elif ddot == \"free\":\n",
    "    a0 = af\n",
    "    b0 = bf\n",
    "elif ddot == \"fixed\":\n",
    "    a0, b0 = get_DD_init_for_fixed_k(K0)\n",
    "\n",
    "else:\n",
    "    print(\"Invalid Initial state for the qubit\")\n",
    "\n",
    "psi_0 = np.kron(alphas, [a0,b0])\n",
    "\n",
    "# build the projection opeartor to the qubit-symmetric sector of the hilbert space\n",
    "Id_qpc = np.eye(L_qpc)\n",
    "plusket = np.asarray([1/np.sqrt(2),1/np.sqrt(2)])\n",
    "p_ketbra = np.outer(plusket,plusket)\n",
    "Psym = np.eye(2*L_qpc) - np.kron(Id_qpc, p_ketbra) # tensor product\n",
    "\n",
    "# build the momentum values for the bands\n",
    "k_single_band = np.arange(1,L_qpc+1)*np.pi/(L_qpc+1)\n"
   ]
  },
  {
   "cell_type": "code",
   "execution_count": 9,
   "id": "82003a79-041f-4a44-9923-135384502b8c",
   "metadata": {},
   "outputs": [],
   "source": [
    "# Build the hamiltonian and diagonalize it\n",
    "H_matrix, Hdeco = create_hamiltonians(L_qpc,t, bond_index)\n",
    "\n",
    "# for the interacting hamiltonian\n",
    "energies, eigen_vecs = np.linalg.eig(H_matrix)\n",
    "# normalize\n",
    "eigen_vecs = eigen_vecs/ np.linalg.norm(eigen_vecs, axis=0)\n",
    "# Calculate the non-interacting energies and eigenvectors\n",
    "free_energies, free_eigen_vecs = np.linalg.eig(Hdeco)\n",
    "# normalize\n",
    "free_eigen_vecs = free_eigen_vecs/ np.linalg.norm(free_eigen_vecs, axis=0)\n",
    "sorted_indices, over_matrix = sort_by_overlap_matrix(energies, free_eigen_vecs,eigen_vecs)"
   ]
  },
  {
   "cell_type": "code",
   "execution_count": 10,
   "id": "08f85519-b4a2-48f8-9508-f18f19930abb",
   "metadata": {},
   "outputs": [],
   "source": [
    "# now sort the freee case into bands according to projection\n",
    "mindices, pindices = sort_by_projection(free_energies,free_eigen_vecs, Psym)\n",
    "\n",
    "free_energies_m, free_states_m, free_energies_p, free_states_p = get_bands(free_energies, free_eigen_vecs, mindices, pindices)\n",
    "# now sort the coupled eigenvectors and values according to max overlaps so they match with the free case\n",
    "sorted_e = energies[sorted_indices]\n",
    "sorted_vecs = eigen_vecs[:,sorted_indices]\n",
    "over_energies_m, over_states_m, over_energies_p, over_states_p = get_bands(sorted_e, sorted_vecs, mindices, pindices)\n"
   ]
  },
  {
   "cell_type": "code",
   "execution_count": 11,
   "id": "7f572b0f-0c54-4bfc-b958-b13d5b955642",
   "metadata": {},
   "outputs": [],
   "source": [
    "time_range = np.linspace(0, maxt_time, N_timepoints)\n",
    "\n",
    "trajectories = np.zeros((L_qpc, len(time_range)))\n",
    "qubit_traj = []\n",
    "rho_list = []\n",
    "St = []\n",
    "\n",
    "i = 0\n",
    "for Tau in time_range:\n",
    "    psi_t = time_evolve(psi_0, Tau,eigen_vecs, energies)\n",
    "    occupations = get_QPC_occupations(psi_t)\n",
    "    qubit_traj.append(get_qubit_occupations(psi_t))\n",
    "    # reduced density matrix \n",
    "    rhot = get_reduced_density_matrix(psi_t,L_qpc+2)\n",
    "    # entropy from schmidt\n",
    "    U, S, Vh = schmidt_qubit_qpc(psi_t)\n",
    "    schmis = S**2\n",
    "    # save in arrays\n",
    "    trajectories[:,i] = occupations\n",
    "    rho_list.append(rhot)\n",
    "    St.append(-1*np.sum(schmis*np.log(schmis+1e-17))) # avoid log(0)\n",
    "    \n",
    "    i += 1"
   ]
  },
  {
   "cell_type": "code",
   "execution_count": 12,
   "id": "692b97b8-6244-444f-8f80-5c3897e9eef1",
   "metadata": {},
   "outputs": [
    {
     "data": {
      "text/plain": [
       "'results_file = h5py.File(data_route+file_name,\\'w\\')\\n# save parameters and maybe other meta data\\ngrp = results_file.create_group(\"metadata\")\\ngrp.create_dataset(\"parameters\", data=json.dumps(param_dict))\\n\\n# save the quantities that we are interested in \\ngrp = results_file.create_group(\"results\")\\ngrp.create_dataset(\"time\", data=time_range )\\ngrp.create_dataset(\"trajectories\", data=trajectories)\\ngrp.create_dataset(\"d0_density\", data=np.asarray(qubit_traj))\\ngrp.create_dataset(\"qubit_rho\", data=rho_list)\\ngrp.create_dataset(\"Entropy\", data=St)\\n\\nresults_file.close()\\ngc.collect()'"
      ]
     },
     "execution_count": 12,
     "metadata": {},
     "output_type": "execute_result"
    }
   ],
   "source": [
    "param_dict = {\"L_qpc\": L_qpc, \"Omega\": Omega, \"t\":t ,\"J\":J[0] ,\"Jp\": J_prime, \"bond_index\" : bond_index, \n",
    "              \"K0\": K0, \"X0\":centered_at, \"Spread\":Delta, \"maxt_time\": maxt_time, \"del_tau\":time_range[1]-time_range[0],\n",
    "             \"qubit_init\":ddot,  \"Re_qubit_0\":np.real(a0), \"Im_qubit_0\":np.imag(a0), \n",
    "              \"Re_qubit_1\":np.real(b0), \"Im_qubit_1\":np.imag(b0), \"phi\":phi }\n",
    "\n",
    "file_name = \"exact_L{}_J{}_t{}_om{}_Del{}_xo{}_k{:.4f}_bindex{}_maxtau{:.3f}_tstep{:.3f}_alpha{:.3f}_beta{:.3f}_phi{}.h5\".format(\n",
    "                                    L_qpc, J_prime, t, Omega, Delta,centered_at , K0, bond_index,maxt_time,\n",
    "                                    time_range[1]-time_range[0], np.abs(a0)**2, np.abs(b0)**2, phi)\n",
    "\n",
    "\"\"\"results_file = h5py.File(data_route+file_name,'w')\n",
    "# save parameters and maybe other meta data\n",
    "grp = results_file.create_group(\"metadata\")\n",
    "grp.create_dataset(\"parameters\", data=json.dumps(param_dict))\n",
    "\n",
    "# save the quantities that we are interested in \n",
    "grp = results_file.create_group(\"results\")\n",
    "grp.create_dataset(\"time\", data=time_range )\n",
    "grp.create_dataset(\"trajectories\", data=trajectories)\n",
    "grp.create_dataset(\"d0_density\", data=np.asarray(qubit_traj))\n",
    "grp.create_dataset(\"qubit_rho\", data=rho_list)\n",
    "grp.create_dataset(\"Entropy\", data=St)\n",
    "\n",
    "results_file.close()\n",
    "gc.collect()\"\"\""
   ]
  },
  {
   "cell_type": "code",
   "execution_count": 13,
   "id": "99a6cf98-ebd2-4931-9d99-9a7ee311feee",
   "metadata": {},
   "outputs": [],
   "source": [
    "theta_list = []\n",
    "phi_list = []\n",
    "purity_list = []\n",
    "for i in range(0,len(rho_list)):\n",
    "    # mixed state bloch sphere representation. Check page 34 of my notes for this \n",
    "    r = rho_list[i]\n",
    "    Cos_theta_p = 2*r[0,0] - 1\n",
    "    theta_p = np.arccos(Cos_theta_p)\n",
    "    Sin_phi_p = (r[1,0] - r[0,1])/(1j*np.sin(theta_p))\n",
    "    # purity\n",
    "    purity_list.append(np.trace(np.matmul(r,r)))\n",
    "    theta_list.append(Cos_theta_p)\n",
    "    phi_list.append(np.arcsin(Sin_phi_p))\n"
   ]
  },
  {
   "cell_type": "code",
   "execution_count": 14,
   "id": "f4182246-41be-4e7c-8341-f57c6f8d66c5",
   "metadata": {},
   "outputs": [
    {
     "data": {
      "text/plain": [
       "[<matplotlib.lines.Line2D at 0x307e91100>]"
      ]
     },
     "execution_count": 14,
     "metadata": {},
     "output_type": "execute_result"
    },
    {
     "data": {
      "image/png": "[encoded data removed]",
      "text/plain": [
       "<Figure size 640x480 with 1 Axes>"
      ]
     },
     "metadata": {},
     "output_type": "display_data"
    }
   ],
   "source": [
    "plt.plot(np.real(phi_list))"
   ]
  },
  {
   "cell_type": "code",
   "execution_count": 15,
   "id": "1407cd15-cf8b-4595-9ca3-cdbf13f623f1",
   "metadata": {},
   "outputs": [
    {
     "ename": "NameError",
     "evalue": "name 'errrrrrr' is not defined",
     "output_type": "error",
     "traceback": [
      "\u001b[0;31m---------------------------------------------------------------------------\u001b[0m",
      "\u001b[0;31mNameError\u001b[0m                                 Traceback (most recent call last)",
      "Cell \u001b[0;32mIn[15], line 1\u001b[0m\n\u001b[0;32m----> 1\u001b[0m \u001b[43merrrrrrr\u001b[49m\n",
      "\u001b[0;31mNameError\u001b[0m: name 'errrrrrr' is not defined"
     ]
    }
   ],
   "source": [
    "errrrrrr"
   ]
  },
  {
   "cell_type": "markdown",
   "id": "b9cf5597-9194-40b5-b492-cfcf46163110",
   "metadata": {},
   "source": [
    "# Comparing with qutip"
   ]
  },
  {
   "cell_type": "code",
   "execution_count": null,
   "id": "f16b2b31-71e0-4f2e-a3db-e919bb6531a7",
   "metadata": {},
   "outputs": [],
   "source": [
    "drold = '../../data/sims/L=21/'\n",
    "file_listold = get_file_names_on([\"om{}_\".format(Omega), \"k1.5708\",\"t0.1\",\"bw2.0\"], drold)\n",
    "\n",
    "file_listold"
   ]
  },
  {
   "cell_type": "code",
   "execution_count": null,
   "id": "116ee60f-ad11-4781-a0cf-fcabd28cee45",
   "metadata": {},
   "outputs": [],
   "source": [
    "file_name = file_listold[0]\n",
    "param_dict, times, n_bond, n_left, n_right, n_d1, n_d2, traject, VN_entropy, purity, dd_theta , dd_phi = load_data(drold,file_name)\n"
   ]
  },
  {
   "cell_type": "code",
   "execution_count": null,
   "id": "9ed92b22-c063-47f0-9477-9f9f9ad5bdd9",
   "metadata": {},
   "outputs": [],
   "source": [
    "τb  = bond_index/(2 * J[0] * np.sin(K0))\n",
    "τb"
   ]
  },
  {
   "cell_type": "code",
   "execution_count": null,
   "id": "21a66e51-c7a4-498b-b962-7e1261c2fb9a",
   "metadata": {},
   "outputs": [],
   "source": [
    "plt.plot(times, n_d1, c=\"salmon\")\n",
    "plt.plot(times, n_d2, c=\"indigo\")\n",
    "\n",
    "plt.plot(time_range, qubit_traj, c = \"red\", label=\"d0\", linestyle=\"dashed\")\n",
    "plt.plot(time_range,1-np.asarray(qubit_traj),c = \"blue\", linestyle=\"dashed\")\n",
    "\n",
    "plt.axvline(τb,c=\"red\", linestyle=\"dotted\")\n",
    "plt.axhline(af**2,c=\"red\", linestyle=\"dotted\")\n",
    "\n",
    "plt.legend()\n"
   ]
  },
  {
   "cell_type": "code",
   "execution_count": null,
   "id": "7482da9b-d42b-4a8f-b2f2-40b2f25e101b",
   "metadata": {},
   "outputs": [],
   "source": [
    "R_new = np.sum(trajectories[:bond_index,:],axis=0)\n",
    "T_new = np.sum(trajectories[bond_index+2:,:],axis=0)\n",
    "B_new = trajectories[bond_index,:] +  trajectories[bond_index+1,:]\n",
    "len(T_new)"
   ]
  },
  {
   "cell_type": "code",
   "execution_count": null,
   "id": "ae277b3b-0e09-4901-ab77-efc66ccc4577",
   "metadata": {},
   "outputs": [],
   "source": [
    "plt.plot(times, n_left)\n",
    "plt.plot(times, n_right)\n",
    "plt.plot(times, n_bond)\n",
    "\n",
    "plt.plot(time_range, R_new, linestyle = \"dashed\")\n",
    "plt.plot(time_range, T_new,linestyle = \"dashed\")\n",
    "plt.plot(time_range, B_new,linestyle = \"dashed\")\n"
   ]
  },
  {
   "cell_type": "code",
   "execution_count": null,
   "id": "3be31422-a064-4f3f-97a7-16d0eb1d18cf",
   "metadata": {},
   "outputs": [],
   "source": [
    "times_coarse = np.linspace(times[0], times[-1], len(VN_entropy))\n",
    "plt.plot(times_coarse, VN_entropy)\n",
    "plt.plot(time_range, St, linestyle=\"dashed\")"
   ]
  },
  {
   "cell_type": "code",
   "execution_count": null,
   "id": "7a80908c-af7c-446b-9200-2aeeedda49d9",
   "metadata": {},
   "outputs": [],
   "source": [
    "plt.plot(times_coarse, purity)\n",
    "plt.plot(time_range, np.real(purity_list),linestyle=\"dashed\")"
   ]
  },
  {
   "cell_type": "code",
   "execution_count": null,
   "id": "257aa1db-5458-44a0-b6b5-a638c926b189",
   "metadata": {},
   "outputs": [],
   "source": [
    "plt.scatter(times_coarse, np.abs(np.arcsin(dd_phi)))\n",
    "plt.plot(time_range[1:], np.abs(phi_list[1:]))"
   ]
  },
  {
   "cell_type": "code",
   "execution_count": null,
   "id": "ee42a760-ac58-46db-9cde-9228ea4a1adf",
   "metadata": {},
   "outputs": [],
   "source": [
    "plt.plot(times_coarse, -np.real(dd_theta))\n",
    "plt.plot(time_range[1:], np.real(theta_list[1:]))"
   ]
  },
  {
   "cell_type": "markdown",
   "id": "78bb4866-57ee-48f9-b860-fa1aadb36818",
   "metadata": {},
   "source": [
    "# Looking at results"
   ]
  },
  {
   "cell_type": "code",
   "execution_count": null,
   "id": "d9ae8707-b79f-4c93-a345-f8c5f936e165",
   "metadata": {},
   "outputs": [],
   "source": [
    "param_dict, times, occupations, d0_density, qubit_rho, entropy = load_exact_diag(data_route, file_name)  "
   ]
  },
  {
   "cell_type": "code",
   "execution_count": null,
   "id": "78983e36-a8e4-457f-afb3-c450e98de455",
   "metadata": {},
   "outputs": [],
   "source": []
  },
  {
   "cell_type": "code",
   "execution_count": null,
   "id": "7a28151e-86eb-4d94-a094-233ba5178344",
   "metadata": {},
   "outputs": [],
   "source": []
  }
 ],
 "metadata": {
  "kernelspec": {
   "display_name": "hoping_chain_tensors",
   "language": "python",
   "name": "hoping_chain_tensors"
  },
  "language_info": {
   "codemirror_mode": {
    "name": "ipython",
    "version": 3
   },
   "file_extension": ".py",
   "mimetype": "text/x-python",
   "name": "python",
   "nbconvert_exporter": "python",
   "pygments_lexer": "ipython3",
   "version": "3.12.7"
  }
 },
 "nbformat": 4,
 "nbformat_minor": 5
}
