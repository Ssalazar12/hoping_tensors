{
 "cells": [
  {
   "cell_type": "markdown",
   "id": "158f9772-e391-4084-bc9c-5f7a6992cb91",
   "metadata": {},
   "source": [
    "This is just exact diagonalization from scratch instead of using qutip. **The difference with qpc_qutip_fermionic is that here we are not including the fermionic, redundant degrees of freedom as in that case.  We are just building the basis for spinless fermion in the computational basis.Meaning our hilbert space is of dimension $2L_{qpc}$**\n",
    "\n",
    "These functions are the same I have on the scattering region analysis notebook"
   ]
  },
  {
   "cell_type": "code",
   "execution_count": 1028,
   "id": "708073c1-3ac9-487c-91e0-ffb17b5f8404",
   "metadata": {},
   "outputs": [],
   "source": [
    "import sys\n",
    "import gc\n",
    "\n",
    "sys.path.append('../scripts') \n",
    "\n",
    "import numpy as np\n",
    "import pandas as pd\n",
    "\"\"\"from scipy.fft import fft, ifft, fftfreq\n",
    "from scipy.integrate import simpson\n",
    "from scipy.interpolate import UnivariateSpline\"\"\"\n",
    "\n",
    "import qutip\n",
    "sys.path.append('../../scripts') \n",
    "from qutip_tools import *\n",
    "\n",
    "import matplotlib.pyplot as plt\n",
    "import matplotlib.gridspec as gridspec\n",
    "import seaborn as sns\n",
    "import h5py\n",
    "import json\n",
    "import matplotlib \n",
    "from mpl_toolkits.axes_grid1 import make_axes_locatable\n",
    "\n",
    "import os\n",
    "import sys  \n",
    "from ast import literal_eval"
   ]
  },
  {
   "cell_type": "code",
   "execution_count": 1029,
   "id": "cb284ea2-8a77-4a5b-9c71-cf183ceebb40",
   "metadata": {},
   "outputs": [],
   "source": [
    "# define basic figure sizes\n",
    "bwidth=7\n",
    "bheight=5\n",
    "base_font = 20\n",
    "\n",
    "matplotlib.rcParams.update({'font.size': base_font,\"legend.fontsize\":base_font-4 ,\"font.family\": \"serif\", \n",
    "                            \"font.serif\": \"CMU Serif, Times New Roman\",\n",
    "                           'text.usetex' : True })\n",
    "\n",
    "sns.set_palette(\"colorblind\")\n"
   ]
  },
  {
   "cell_type": "code",
   "execution_count": 1030,
   "id": "a9916ed7-d4e7-4131-bc9e-e5876753d211",
   "metadata": {},
   "outputs": [],
   "source": [
    "L_qpc = 40\n",
    "L = L_qpc + 2\n",
    "Omega = 0.0\n",
    "t = 0.3\n",
    "J_prime = 1\n",
    "bond_index =  int(L_qpc/2)  # int(L_qpc/2)\n",
    "J = np.ones(L_qpc) # QPC hopping\n",
    "J[bond_index] = J_prime  \n",
    "K0 = np.pi/9\n",
    "centered_at = 5 # initial position of wavepacket\n",
    "Delta = 4.0 # spread of wavepacket\n",
    "maxt_time = L_qpc/(2 * J[0] * np.sin(K0))\n",
    "N_timepoints = 100\n",
    "x = np.arange(0,L_qpc)  # latice sites\n",
    "\n",
    "ddot = \"momentum\" # can be free or momentum which is set by k0 based on af, bf\n",
    "phi = 0 #np.pi/2 # initial phase of the qubit\n",
    "# if its \"free\" af, bf will be the initial conditions\n",
    "af = np.sqrt(0.8) # probability of qubit 0 state\n",
    "bf = np.sqrt(1-af**2)  # probability of qubit 1 state\n",
    "\n",
    "fig_route = \"../../plots/perturbative/\"\n",
    "data_route = \"../../data/exact_diag_new/L={}/\".format(L_qpc)"
   ]
  },
  {
   "cell_type": "markdown",
   "id": "824dbf6b-f4a5-4720-a1da-8e2b3857ea43",
   "metadata": {},
   "source": [
    "# Functions"
   ]
  },
  {
   "cell_type": "code",
   "execution_count": 1018,
   "id": "36d7b711-1b4c-4f5f-8863-0ce4f8e75a68",
   "metadata": {},
   "outputs": [],
   "source": [
    "def create_hamiltonians(L, T, Bond):\n",
    "    # creates the decoupled and interacting hamiltonians \n",
    "    \n",
    "    # L_qpc = qpc lattice sites\n",
    "    # T = qubit hopping\n",
    "    # BOnd = index for bond locatin\n",
    "    H_matrix = np.zeros((2*L,2*L))\n",
    "    # fill in the dd hopping \n",
    "    d_indices= kth_diag_indices(H_matrix,1)\n",
    "    H_matrix[d_indices] = -T\n",
    "    \n",
    "    # fill in the QPC hopping\n",
    "    d_indices= kth_diag_indices(H_matrix,2)\n",
    "    H_matrix[d_indices] = -J[0]\n",
    "    \n",
    "    # when qpc and qubit hop a the same time there is no contribution\n",
    "    d_indices= kth_diag_indices(H_matrix,1)\n",
    "    odd_inds = (d_indices[0][1::2], d_indices[1][1::2])\n",
    "    H_matrix[odd_inds] = 0\n",
    "    \n",
    "    # save the free hamiltonian for later use\n",
    "    Hdeco = H_matrix.copy()\n",
    "    \n",
    "    # Fill in the interaction at the bond\n",
    "    H_matrix[2*Bond,2*(Bond+1)] = H_matrix[2*Bond,2*(Bond+1)]+ Omega\n",
    "    \n",
    "    # Now the elemets below the diagonal\n",
    "    for i in range(0,2*L):\n",
    "        for j in range(i + 1, 2*L):\n",
    "            H_matrix[j, i] = H_matrix[i, j]\n",
    "            Hdeco[j, i] = Hdeco[i, j]\n",
    "            \n",
    "    return H_matrix, Hdeco\n",
    "\n",
    "    \n",
    "def get_DD_init_for_fixed_k(k_prime):\n",
    "    # calculated the initial conditions of the DD such that, when the QPC hits the bond\n",
    "    # its state is the same as that of a DD initialized localized in the first site when \n",
    "    # the QPC for that case hits the bond with an average momentum k0=pi/2\n",
    "    # k_prime: float. The momentum of the qpc particle\n",
    "     \n",
    "    alpha0 = np.cos( (t*bond_index)/(2*J[0])*(1/np.sin(k_prime) - 1) )\n",
    "    beta0 = - 1j*np.sin( (t*bond_index)/(2*J[0])*(1/np.sin(k_prime) - 1) )\n",
    "                        \n",
    "    return alpha0, beta0\n",
    "\n",
    "def get_bands(Eigen_energies, Eigen_vectors, Minus_indices, Plus_indies):\n",
    "    # separates eigenvectors and eigenvalues into plus/minus enegy bands\n",
    "    # and then sorts by enegy magnitude\n",
    "    \n",
    "    # minus band\n",
    "    Energies_m = Eigen_energies[Minus_indices]\n",
    "    States_m = Eigen_vectors[:,Minus_indices]\n",
    "    # sort by magnitude\n",
    "    Energies_m, States_m = mag_sort(Energies_m, States_m)\n",
    "    \n",
    "    # plus band\n",
    "    Energies_p = Eigen_energies[Plus_indies]\n",
    "    States_p = Eigen_vectors[:,Plus_indies]\n",
    "    # sort by magnitude\n",
    "    Energies_p, States_p = mag_sort(Energies_p, States_p)\n",
    "    \n",
    "    return Energies_m, States_m, Energies_p, States_p\n",
    "\n",
    "def time_evolve(Psi0, Tau, states_m, Energies_m, states_p, Energies_p):\n",
    "    # time evolve a state up psi0 to time Tau with eigenstates states_m for anti-band\n",
    "    # and states_p for symmetric band\n",
    "    psi_t = []\n",
    "\n",
    "    # lattice basis\n",
    "    for i in range(0, 2*L_qpc):\n",
    "        aa = np.zeros(2*L_qpc)+ 0*1j\n",
    "        # energy basis\n",
    "        for k in range(0,len(k_single_band)):\n",
    "            aa += np.exp(-1j*Tau*Energies_m[k])*np.conj(states_m[:,k])*states_m[i,k]+ \\\n",
    "                    np.exp(-1j*Tau*Energies_p[k])*np.conj(states_p[:,k])*states_p[i,k]\n",
    "\n",
    "        psi_t.append(np.dot(Psi0,aa))\n",
    "\n",
    "    return np.asarray(psi_t)\n",
    "    \n",
    "def get_DD_init_for_momentum(k_prime, alphaf, betaf, ϕ):\n",
    "    # set initial condtions for a given k_prime such that n_f is always the same\n",
    "    # k_prime: float. The momentum of the qpc particle\n",
    "    # nf: The occupations in the qubit 0 state\n",
    "    \n",
    "    Tau_bond = -(bond_index)/(2*J[0]*np.sin(k_prime))\n",
    "    α0 = alphaf*np.cos(Tau_bond*t) + 1j*np.exp(-1j*ϕ)*betaf*np.sin(Tau_bond*t)\n",
    "    β0 = 1j*np.exp(1j*ϕ)*alphaf*np.sin(Tau_bond*t) + betaf*np.cos(Tau_bond*t)\n",
    "    \n",
    "    # dont forget the normalization and other factors\n",
    "    return α0, β0  \n"
   ]
  },
  {
   "cell_type": "code",
   "execution_count": 1019,
   "id": "475cf066-aa6b-4201-9b58-b58d7f9692a7",
   "metadata": {},
   "outputs": [],
   "source": [
    "\n",
    "def schmidt_qubit_qpc(c_eigs):\n",
    "    # calculates the schmidt decomposition between the QPC and qubit for some stae\n",
    "    # given how we build our hamiltonian, the 0qubit-eigenstates are in the even indices\n",
    "    # while the 1qubit ones are in the odd indices\n",
    "    # c_eigs is the state vector\n",
    "\n",
    "    # arange in MPS form for SVD\n",
    "    col_1 = np.asarray(c_eigs[0::2]).reshape(-1,1)\n",
    "    col_2 =  np.asarray(c_eigs[1::2]).reshape(-1,1)\n",
    "    psi_mat = np.concatenate((col_1, col_2), axis=1)\n",
    "    U, S, Vh = np.linalg.svd(psi_mat)\n",
    "\n",
    "    return U, S, Vh\n",
    "\n",
    "def get_QPC_occupations(Psi):\n",
    "    # apply the density opperator to the full composite Psi and return the\n",
    "    # densities a teach of the QPC sites\n",
    "    occ_list = []\n",
    "\n",
    "    for j in range(0,L_qpc):\n",
    "        basis_j = np.zeros(L_qpc)\n",
    "        basis_j[j] = 1\n",
    "        # create density operator for the jth qoc lattice\n",
    "        ketbra = np.outer(basis_j, np.conj(basis_j))\n",
    "        # tensor with the qubit identity\n",
    "        Nj_op = np.kron(ketbra, np.eye(2))\n",
    "        occ_list.append(np.vdot(Psi, Nj_op @ Psi).real)\n",
    "    return np.asarray(occ_list)\n",
    "\n",
    "def get_qubit_occupations(Psi):\n",
    "    # apply the density opperator to the full composite Psi and return the\n",
    "    # densities a teach of the QPC sites\n",
    "    occ_list = []\n",
    "\n",
    "    # create density operator for the 0th qubit state \n",
    "    ketbra = np.outer([1,0], np.conj([1,0]))\n",
    "    # tensor with the qubit identity\n",
    "    Nj_op = np.kron(np.eye(L_qpc), ketbra)\n",
    "    return np.vdot(Psi, Nj_op @ Psi).real\n",
    "\n",
    "\n",
    "def get_reduced_density_matrix(Psi,NN):\n",
    "    # calcualtes the partial trace from a STATEVECTOR Psi\n",
    "    # NOT from the density matrix\n",
    "    # Psi: array with the wavefunction\n",
    "    # NN: integer with the total size of the lattice\n",
    "\n",
    "    n = (NN-2) # QPC sites\n",
    "    m = 2 # Double dot sites\n",
    "    # get density matrix as a sparse array\n",
    "    ρ = np.outer(Psi, np.conj(Psi))\n",
    "    # trace out QPC sites and return reduced rho for DD as Quobject\n",
    "    return np.trace(ρ.reshape(n,m,n,m), axis1=0, axis2=2)\n"
   ]
  },
  {
   "cell_type": "markdown",
   "id": "7d31302d-21a3-46d7-878f-732dfab2b819",
   "metadata": {},
   "source": [
    "# Main"
   ]
  },
  {
   "cell_type": "code",
   "execution_count": 1020,
   "id": "f37c629c-3ec9-410a-af63-d6d708b10be2",
   "metadata": {},
   "outputs": [],
   "source": [
    "# build gaussian wavepacket\n",
    "alphas = np.exp(-0.5*(x - centered_at)**2 / (Delta**2)) * np.exp(1j * K0 *(x-centered_at))\n",
    "norm_ = np.linalg.norm(alphas)\n",
    "alphas = alphas/norm_\n",
    "\n",
    "if ddot == \"momentum\":\n",
    "    #this is so we get the same qubit state when the qpc hits the bond\n",
    "    a0, b0 = get_DD_init_for_momentum(K0, af, bf, phi)\n",
    "    \n",
    "elif ddot == \"free\":\n",
    "    a0 = af\n",
    "    b0 = bf\n",
    "elif ddot == \"fixed\":\n",
    "    a0, b0 = get_DD_init_for_fixed_k(K0)\n",
    "\n",
    "else:\n",
    "    print(\"Invalid Initial state for the qubit\")\n",
    "\n",
    "psi_0 = np.kron(alphas, [a0,b0])\n",
    "\n",
    "# build the projection opeartor to the qubit-symmetric sector of the hilbert space\n",
    "Id_qpc = np.eye(L_qpc)\n",
    "plusket = np.asarray([1/np.sqrt(2),1/np.sqrt(2)])\n",
    "p_ketbra = np.outer(plusket,plusket)\n",
    "Psym = np.eye(2*L_qpc) - np.kron(Id_qpc, p_ketbra) # tensor product\n",
    "\n",
    "# build the momentum values for the bands\n",
    "k_single_band = np.arange(1,L_qpc+1)*np.pi/(L_qpc+1)\n"
   ]
  },
  {
   "cell_type": "code",
   "execution_count": 1021,
   "id": "82003a79-041f-4a44-9923-135384502b8c",
   "metadata": {},
   "outputs": [],
   "source": [
    "# Build the hamiltonian and diagonalize it\n",
    "H_matrix, Hdeco = create_hamiltonians(L_qpc,t, bond_index)\n",
    "\n",
    "# for the interacting hamiltonian\n",
    "energies, eigen_vecs = np.linalg.eig(H_matrix)\n",
    "# normalize\n",
    "eigen_vecs = eigen_vecs/ np.linalg.norm(eigen_vecs, axis=0)\n",
    "# Calculate the non-interacting energies and eigenvectors\n",
    "free_energies, free_eigen_vecs = np.linalg.eig(Hdeco)\n",
    "# normalize\n",
    "free_eigen_vecs = free_eigen_vecs/ np.linalg.norm(free_eigen_vecs, axis=0)\n",
    "sorted_indices, over_matrix = sort_by_overlap_matrix(energies, free_eigen_vecs,eigen_vecs)"
   ]
  },
  {
   "cell_type": "code",
   "execution_count": 1022,
   "id": "08f85519-b4a2-48f8-9508-f18f19930abb",
   "metadata": {},
   "outputs": [],
   "source": [
    "# now sort the freee case into bands according to projection\n",
    "mindices, pindices = sort_by_projection(free_energies,free_eigen_vecs, Psym)\n",
    "\n",
    "free_energies_m, free_states_m, free_energies_p, free_states_p = get_bands(free_energies, free_eigen_vecs, mindices, pindices)\n",
    "# now sort the coupled eigenvectors and values according to max overlaps so they match with the free case\n",
    "sorted_e = energies[sorted_indices]\n",
    "sorted_vecs = eigen_vecs[:,sorted_indices]\n",
    "over_energies_m, over_states_m, over_energies_p, over_states_p = get_bands(sorted_e, sorted_vecs, mindices, pindices)\n"
   ]
  },
  {
   "cell_type": "code",
   "execution_count": 1023,
   "id": "7b63957c-c940-402a-a65d-8503c8fcf6aa",
   "metadata": {},
   "outputs": [],
   "source": [
    "time_range = np.linspace(0, maxt_time, N_timepoints)\n",
    "\n",
    "trajectories = np.zeros((L_qpc, len(time_range)))\n",
    "qubit_traj = []\n",
    "rho_list = []\n",
    "St = []\n",
    "\n",
    "i = 0\n",
    "for Tau in time_range:\n",
    "    psi_t = time_evolve(psi_0, Tau,over_states_m, over_energies_m, over_states_p, over_energies_p)\n",
    "    occupations = get_QPC_occupations(psi_t)\n",
    "    qubit_traj.append(get_qubit_occupations(psi_t))\n",
    "    # reduced density matrix \n",
    "    rhot = get_reduced_density_matrix(psi_t,L_qpc+2)\n",
    "    # entropy from schmidt\n",
    "    U, S, Vh = schmidt_qubit_qpc(psi_t)\n",
    "    schmis = S**2\n",
    "    # save in arrays\n",
    "    trajectories[:,i] = occupations\n",
    "    rho_list.append(rhot)\n",
    "    St.append(-1*np.sum(schmis*np.log(schmis+1e-17))) # avoid log(0)\n",
    "    \n",
    "    i += 1\n"
   ]
  },
  {
   "cell_type": "code",
   "execution_count": 1025,
   "id": "692b97b8-6244-444f-8f80-5c3897e9eef1",
   "metadata": {},
   "outputs": [
    {
     "data": {
      "text/plain": [
       "{'L_qpc': 40,\n",
       " 'Omega': 0.0,\n",
       " 't': 0.3,\n",
       " 'J': 1.0,\n",
       " 'Jp': 1,\n",
       " 'bond_index': 20,\n",
       " 'K0': 0.3490658503988659,\n",
       " 'X0': 5,\n",
       " 'Spread': 4.0,\n",
       " 'maxt_time': 58.47608800326175,\n",
       " 'del_tau': 0.5906675555885025,\n",
       " 'qubit_init': 'momentum',\n",
       " 'Re_qubit_0': -0.710213639951678,\n",
       " 'Im_qubit_0': -0.2718439743798768,\n",
       " 'Re_qubit_1': -0.3551068199758391,\n",
       " 'Im_qubit_1': -0.5436879487597535,\n",
       " 'phi': 0}"
      ]
     },
     "execution_count": 1025,
     "metadata": {},
     "output_type": "execute_result"
    }
   ],
   "source": [
    "param_dict = {\"L_qpc\": L_qpc, \"Omega\": Omega, \"t\":t ,\"J\":J[0] ,\"Jp\": J_prime, \"bond_index\" : bond_index, \n",
    "              \"K0\": K0, \"X0\":centered_at, \"Spread\":Delta, \"maxt_time\": maxt_time, \"del_tau\":time_range[1]-time_range[0],\n",
    "             \"qubit_init\":ddot,  \"Re_qubit_0\":np.real(a0), \"Im_qubit_0\":np.imag(a0), \n",
    "              \"Re_qubit_1\":np.real(b0), \"Im_qubit_1\":np.imag(b0), \"phi\":phi }\n",
    "\n",
    "file_name = \"exact_L{}_J{}_t{}_om{}_Del{}_xo{}_k{:.4f}_bindex{}_maxtau{:.3f}_tstep{:.3f}_alpha{:.3f}_beta{:.3f}_phi{}.h5\".format(\n",
    "                                    L_qpc, J_prime, t, Omega, Delta,centered_at , K0, bond_index,maxt_time,\n",
    "                                    time_range[1]-time_range[0], np.abs(a0)**2, np.abs(b0)**2, phi)\n",
    "\n",
    "param_dict"
   ]
  },
  {
   "cell_type": "code",
   "execution_count": 1013,
   "id": "b71c3bb1-40aa-4d1c-89a7-d951226c72a3",
   "metadata": {},
   "outputs": [
    {
     "data": {
      "text/plain": [
       "740"
      ]
     },
     "execution_count": 1013,
     "metadata": {},
     "output_type": "execute_result"
    }
   ],
   "source": [
    "results_file = h5py.File(data_route+file_name,'w')\n",
    "# save parameters and maybe other meta data\n",
    "grp = results_file.create_group(\"metadata\")\n",
    "grp.create_dataset(\"parameters\", data=json.dumps(param_dict))\n",
    "\n",
    "# save the quantities that we are interested in \n",
    "grp = results_file.create_group(\"results\")\n",
    "grp.create_dataset(\"time\", data=time_range )\n",
    "grp.create_dataset(\"trajectories\", data=trajectories)\n",
    "grp.create_dataset(\"d0_density\", data=np.asarray(qubit_traj))\n",
    "grp.create_dataset(\"qubit_rho\", data=rho_list)\n",
    "grp.create_dataset(\"Entropy\", data=St)\n",
    "\n",
    "results_file.close()\n",
    "gc.collect()"
   ]
  },
  {
   "cell_type": "code",
   "execution_count": 1026,
   "id": "f11a7ea2-f596-49d2-8d35-b97b043343ab",
   "metadata": {},
   "outputs": [
    {
     "data": {
      "text/plain": [
       "(40, 100)"
      ]
     },
     "execution_count": 1026,
     "metadata": {},
     "output_type": "execute_result"
    }
   ],
   "source": [
    "np.shape(trajectories)"
   ]
  },
  {
   "cell_type": "code",
   "execution_count": 1027,
   "id": "d9ae8707-b79f-4c93-a345-f8c5f936e165",
   "metadata": {},
   "outputs": [
    {
     "ename": "OSError",
     "evalue": "Unable to open file (unable to open file: name = '../../data/exact_diag_new/L=40/exact_L40_J1_t0.3_om0.0_Del4.0_xo5_k0.3491_bindex20_maxtau58.476_tstep0.591_alpha0.578_beta0.422_phi0.h5', errno = 2, error message = 'No such file or directory', flags = 0, o_flags = 0)",
     "output_type": "error",
     "traceback": [
      "\u001b[0;31m---------------------------------------------------------------------------\u001b[0m",
      "\u001b[0;31mOSError\u001b[0m                                   Traceback (most recent call last)",
      "\u001b[0;32m/var/folders/0k/k5cgw5hd6js31gjfdv_v8h7m0000gr/T/ipykernel_3024/324112951.py\u001b[0m in \u001b[0;36m<module>\u001b[0;34m\u001b[0m\n\u001b[1;32m     21\u001b[0m \u001b[0;34m\u001b[0m\u001b[0m\n\u001b[1;32m     22\u001b[0m \u001b[0;34m\u001b[0m\u001b[0m\n\u001b[0;32m---> 23\u001b[0;31m \u001b[0mload_exact_diag\u001b[0m\u001b[0;34m(\u001b[0m\u001b[0mdata_route\u001b[0m\u001b[0;34m,\u001b[0m \u001b[0mfile_name\u001b[0m\u001b[0;34m)\u001b[0m\u001b[0;34m\u001b[0m\u001b[0;34m\u001b[0m\u001b[0m\n\u001b[0m",
      "\u001b[0;32m/var/folders/0k/k5cgw5hd6js31gjfdv_v8h7m0000gr/T/ipykernel_3024/324112951.py\u001b[0m in \u001b[0;36mload_exact_diag\u001b[0;34m(dir_route, file)\u001b[0m\n\u001b[1;32m      1\u001b[0m \u001b[0;32mdef\u001b[0m \u001b[0mload_exact_diag\u001b[0m\u001b[0;34m(\u001b[0m\u001b[0mdir_route\u001b[0m\u001b[0;34m,\u001b[0m \u001b[0mfile\u001b[0m\u001b[0;34m)\u001b[0m\u001b[0;34m:\u001b[0m\u001b[0;34m\u001b[0m\u001b[0;34m\u001b[0m\u001b[0m\n\u001b[1;32m      2\u001b[0m     \u001b[0;31m# loads the data from the new_exact diag algorithm not the one from qutip\u001b[0m\u001b[0;34m\u001b[0m\u001b[0;34m\u001b[0m\u001b[0m\n\u001b[0;32m----> 3\u001b[0;31m     \u001b[0;32mwith\u001b[0m \u001b[0mh5py\u001b[0m\u001b[0;34m.\u001b[0m\u001b[0mFile\u001b[0m\u001b[0;34m(\u001b[0m\u001b[0mdir_route\u001b[0m\u001b[0;34m+\u001b[0m\u001b[0mfile\u001b[0m\u001b[0;34m,\u001b[0m \u001b[0;34m'r'\u001b[0m\u001b[0;34m)\u001b[0m \u001b[0;32mas\u001b[0m \u001b[0mres_h5\u001b[0m\u001b[0;34m:\u001b[0m\u001b[0;34m\u001b[0m\u001b[0;34m\u001b[0m\u001b[0m\n\u001b[0m\u001b[1;32m      4\u001b[0m         \u001b[0mParam_dict\u001b[0m \u001b[0;34m=\u001b[0m \u001b[0mjson\u001b[0m\u001b[0;34m.\u001b[0m\u001b[0mloads\u001b[0m\u001b[0;34m(\u001b[0m\u001b[0mres_h5\u001b[0m\u001b[0;34m[\u001b[0m\u001b[0;34m'metadata/parameters'\u001b[0m\u001b[0;34m]\u001b[0m\u001b[0;34m[\u001b[0m\u001b[0;34m(\u001b[0m\u001b[0;34m)\u001b[0m\u001b[0;34m]\u001b[0m\u001b[0;34m)\u001b[0m\u001b[0;34m\u001b[0m\u001b[0;34m\u001b[0m\u001b[0m\n\u001b[1;32m      5\u001b[0m         \u001b[0mprint\u001b[0m\u001b[0;34m(\u001b[0m\u001b[0mfile_name\u001b[0m\u001b[0;34m)\u001b[0m\u001b[0;34m\u001b[0m\u001b[0;34m\u001b[0m\u001b[0m\n",
      "\u001b[0;32m~/opt/anaconda3/lib/python3.9/site-packages/h5py/_hl/files.py\u001b[0m in \u001b[0;36m__init__\u001b[0;34m(self, name, mode, driver, libver, userblock_size, swmr, rdcc_nslots, rdcc_nbytes, rdcc_w0, track_order, **kwds)\u001b[0m\n\u001b[1;32m    404\u001b[0m             \u001b[0;32mwith\u001b[0m \u001b[0mphil\u001b[0m\u001b[0;34m:\u001b[0m\u001b[0;34m\u001b[0m\u001b[0;34m\u001b[0m\u001b[0m\n\u001b[1;32m    405\u001b[0m                 \u001b[0mfapl\u001b[0m \u001b[0;34m=\u001b[0m \u001b[0mmake_fapl\u001b[0m\u001b[0;34m(\u001b[0m\u001b[0mdriver\u001b[0m\u001b[0;34m,\u001b[0m \u001b[0mlibver\u001b[0m\u001b[0;34m,\u001b[0m \u001b[0mrdcc_nslots\u001b[0m\u001b[0;34m,\u001b[0m \u001b[0mrdcc_nbytes\u001b[0m\u001b[0;34m,\u001b[0m \u001b[0mrdcc_w0\u001b[0m\u001b[0;34m,\u001b[0m \u001b[0;34m**\u001b[0m\u001b[0mkwds\u001b[0m\u001b[0;34m)\u001b[0m\u001b[0;34m\u001b[0m\u001b[0;34m\u001b[0m\u001b[0m\n\u001b[0;32m--> 406\u001b[0;31m                 fid = make_fid(name, mode, userblock_size,\n\u001b[0m\u001b[1;32m    407\u001b[0m                                \u001b[0mfapl\u001b[0m\u001b[0;34m,\u001b[0m \u001b[0mfcpl\u001b[0m\u001b[0;34m=\u001b[0m\u001b[0mmake_fcpl\u001b[0m\u001b[0;34m(\u001b[0m\u001b[0mtrack_order\u001b[0m\u001b[0;34m=\u001b[0m\u001b[0mtrack_order\u001b[0m\u001b[0;34m)\u001b[0m\u001b[0;34m,\u001b[0m\u001b[0;34m\u001b[0m\u001b[0;34m\u001b[0m\u001b[0m\n\u001b[1;32m    408\u001b[0m                                swmr=swmr)\n",
      "\u001b[0;32m~/opt/anaconda3/lib/python3.9/site-packages/h5py/_hl/files.py\u001b[0m in \u001b[0;36mmake_fid\u001b[0;34m(name, mode, userblock_size, fapl, fcpl, swmr)\u001b[0m\n\u001b[1;32m    171\u001b[0m         \u001b[0;32mif\u001b[0m \u001b[0mswmr\u001b[0m \u001b[0;32mand\u001b[0m \u001b[0mswmr_support\u001b[0m\u001b[0;34m:\u001b[0m\u001b[0;34m\u001b[0m\u001b[0;34m\u001b[0m\u001b[0m\n\u001b[1;32m    172\u001b[0m             \u001b[0mflags\u001b[0m \u001b[0;34m|=\u001b[0m \u001b[0mh5f\u001b[0m\u001b[0;34m.\u001b[0m\u001b[0mACC_SWMR_READ\u001b[0m\u001b[0;34m\u001b[0m\u001b[0;34m\u001b[0m\u001b[0m\n\u001b[0;32m--> 173\u001b[0;31m         \u001b[0mfid\u001b[0m \u001b[0;34m=\u001b[0m \u001b[0mh5f\u001b[0m\u001b[0;34m.\u001b[0m\u001b[0mopen\u001b[0m\u001b[0;34m(\u001b[0m\u001b[0mname\u001b[0m\u001b[0;34m,\u001b[0m \u001b[0mflags\u001b[0m\u001b[0;34m,\u001b[0m \u001b[0mfapl\u001b[0m\u001b[0;34m=\u001b[0m\u001b[0mfapl\u001b[0m\u001b[0;34m)\u001b[0m\u001b[0;34m\u001b[0m\u001b[0;34m\u001b[0m\u001b[0m\n\u001b[0m\u001b[1;32m    174\u001b[0m     \u001b[0;32melif\u001b[0m \u001b[0mmode\u001b[0m \u001b[0;34m==\u001b[0m \u001b[0;34m'r+'\u001b[0m\u001b[0;34m:\u001b[0m\u001b[0;34m\u001b[0m\u001b[0;34m\u001b[0m\u001b[0m\n\u001b[1;32m    175\u001b[0m         \u001b[0mfid\u001b[0m \u001b[0;34m=\u001b[0m \u001b[0mh5f\u001b[0m\u001b[0;34m.\u001b[0m\u001b[0mopen\u001b[0m\u001b[0;34m(\u001b[0m\u001b[0mname\u001b[0m\u001b[0;34m,\u001b[0m \u001b[0mh5f\u001b[0m\u001b[0;34m.\u001b[0m\u001b[0mACC_RDWR\u001b[0m\u001b[0;34m,\u001b[0m \u001b[0mfapl\u001b[0m\u001b[0;34m=\u001b[0m\u001b[0mfapl\u001b[0m\u001b[0;34m)\u001b[0m\u001b[0;34m\u001b[0m\u001b[0;34m\u001b[0m\u001b[0m\n",
      "\u001b[0;32mh5py/_objects.pyx\u001b[0m in \u001b[0;36mh5py._objects.with_phil.wrapper\u001b[0;34m()\u001b[0m\n",
      "\u001b[0;32mh5py/_objects.pyx\u001b[0m in \u001b[0;36mh5py._objects.with_phil.wrapper\u001b[0;34m()\u001b[0m\n",
      "\u001b[0;32mh5py/h5f.pyx\u001b[0m in \u001b[0;36mh5py.h5f.open\u001b[0;34m()\u001b[0m\n",
      "\u001b[0;31mOSError\u001b[0m: Unable to open file (unable to open file: name = '../../data/exact_diag_new/L=40/exact_L40_J1_t0.3_om0.0_Del4.0_xo5_k0.3491_bindex20_maxtau58.476_tstep0.591_alpha0.578_beta0.422_phi0.h5', errno = 2, error message = 'No such file or directory', flags = 0, o_flags = 0)"
     ]
    }
   ],
   "source": [
    "def load_exact_diag(dir_route, file):\n",
    "    # loads the data from the new_exact diag algorithm not the one from qutip\n",
    "    with h5py.File(dir_route+file, 'r') as res_h5:\n",
    "        Param_dict = json.loads(res_h5['metadata/parameters'][()])\n",
    "        print(file_name)\n",
    "        # Here we definide t=infty when the free QPC particle would hit the bond\n",
    "        # which is calculated using Ehrenfest Therem\n",
    "        vg = 2 * J * np.sin(Param_dict[\"K0\"])\n",
    "        tau_free = Param_dict[\"L_qpc\"]/ vg\n",
    "        \n",
    "        # truncate to the time the free particle hits the far wall\n",
    "        Times = res_h5[\"results/time\"][:]\n",
    "        last_t_index = find_nearest_index(Times, tau_free)\n",
    "        Times = Times[:last_t_index]\n",
    "        Trajectories = res_h5[\"results/trajectories\"][:,:last_t_index]\n",
    "        D0_density = res_h5[\"results/d0_density\"][:last_t_index]\n",
    "        Qubit_rho = res_h5[\"results/qubit_rho\"][:last_t_index]\n",
    "        Entropy = res_h5[\"results/Entropy\"][:last_t_index]\n",
    "        \n",
    "    res_h5.close()\n",
    "\n",
    "\n",
    "load_exact_diag(data_route, file_name)  "
   ]
  },
  {
   "cell_type": "code",
   "execution_count": 1003,
   "id": "e9e28565-77c7-4d84-8d47-3de51f9bdcce",
   "metadata": {},
   "outputs": [],
   "source": [
    "with h5py.File(data_route+file_name, 'r') as res_h5:\n",
    "        # we ALWAYS set J=1\n",
    "        J=1\n",
    "        Param_dict = json.loads(res_h5['metadata/parameters'][()])\n",
    "        # time range\n",
    "        Times = res_h5[\"results/time\"][:]\n",
    "res_h5.close()"
   ]
  },
  {
   "cell_type": "markdown",
   "id": "ba6853d7-1132-4b7d-8b89-6899d0b272c5",
   "metadata": {},
   "source": [
    "# Bloch sphere "
   ]
  },
  {
   "cell_type": "code",
   "execution_count": 985,
   "id": "087c2947-4ec2-42e7-884c-12d2f82154ca",
   "metadata": {},
   "outputs": [],
   "source": [
    "theta_list = []\n",
    "phi_list = []\n",
    "purity_list = []\n",
    "for i in range(0,len(rho_list)):\n",
    "    # mixed state bloch sphere representation. Check page 34 of my notes for this \n",
    "    r = rho_list[i]\n",
    "    Cos_theta_p = 2*r[0,0] - 1\n",
    "    theta_p = np.arccos(Cos_theta_p)\n",
    "    Sin_phi_p = (r[1,0] - r[0,1])/(1j*np.sin(theta_p))\n",
    "    # purity\n",
    "    purity_list.append(np.trace(r**2))\n",
    "    theta_list.append(Cos_theta_p)\n",
    "    phi_list.append(Sin_phi_p)"
   ]
  },
  {
   "cell_type": "markdown",
   "id": "b9cf5597-9194-40b5-b492-cfcf46163110",
   "metadata": {},
   "source": [
    "# Comparing with qutip"
   ]
  },
  {
   "cell_type": "code",
   "execution_count": 989,
   "id": "649c1bbd-b8b6-432e-bbe3-9f68a1e4e190",
   "metadata": {},
   "outputs": [
    {
     "data": {
      "text/plain": [
       "['res_L21_maxtim18.0_bw2.0_k1.5708_jp1.0_t0.3_om0.0_dd0fixed.hdf5']"
      ]
     },
     "execution_count": 989,
     "metadata": {},
     "output_type": "execute_result"
    }
   ],
   "source": [
    "file_list = get_file_names_on([\"bw2.0\",\"om{}_\".format(Omega),\"dd0fixed\", \"k1.5708\", \"t{}\".format(t)], data_route)\n",
    "file_list"
   ]
  },
  {
   "cell_type": "code",
   "execution_count": 990,
   "id": "116ee60f-ad11-4781-a0cf-fcabd28cee45",
   "metadata": {},
   "outputs": [],
   "source": [
    "file_name = file_list[0]\n",
    "param_dict, times, n_bond, n_left, n_right, n_d1, n_d2, traject, VN_entropy, purity, c , dd_phi = load_data(data_route,file_name)\n"
   ]
  },
  {
   "cell_type": "code",
   "execution_count": 991,
   "id": "9ed92b22-c063-47f0-9477-9f9f9ad5bdd9",
   "metadata": {},
   "outputs": [
    {
     "data": {
      "text/plain": [
       "29.238044001630875"
      ]
     },
     "execution_count": 991,
     "metadata": {},
     "output_type": "execute_result"
    }
   ],
   "source": [
    "τb  = bond_index/(2 * J[0] * np.sin(K0))\n",
    "τb"
   ]
  },
  {
   "cell_type": "code",
   "execution_count": 992,
   "id": "21a66e51-c7a4-498b-b962-7e1261c2fb9a",
   "metadata": {},
   "outputs": [
    {
     "data": {
      "text/plain": [
       "<matplotlib.legend.Legend at 0x7fc03dc7f370>"
      ]
     },
     "execution_count": 992,
     "metadata": {},
     "output_type": "execute_result"
    },
    {
     "data": {
      "image/png": "[encoded data removed]",
      "text/plain": [
       "<Figure size 432x288 with 1 Axes>"
      ]
     },
     "metadata": {
      "needs_background": "light"
     },
     "output_type": "display_data"
    }
   ],
   "source": [
    "# plt.plot(times, n_d1, c=\"salmon\")\n",
    "# plt.plot(times, n_d2, c=\"indigo\")\n",
    "\n",
    "plt.plot(time_range, qubit_traj, c = \"red\", label=\"d0\", linestyle=\"dashed\")\n",
    "plt.plot(time_range,1-np.asarray(qubit_traj),c = \"blue\", linestyle=\"dashed\")\n",
    "plt.axvline(τb,c=\"red\", linestyle=\"dotted\")\n",
    "plt.axhline(af**2,c=\"red\", linestyle=\"dotted\")\n",
    "\n",
    "plt.legend()\n"
   ]
  },
  {
   "cell_type": "code",
   "execution_count": 993,
   "id": "7482da9b-d42b-4a8f-b2f2-40b2f25e101b",
   "metadata": {},
   "outputs": [
    {
     "data": {
      "text/plain": [
       "100"
      ]
     },
     "execution_count": 993,
     "metadata": {},
     "output_type": "execute_result"
    }
   ],
   "source": [
    "R_new = np.sum(trajectories[:bond_index,:],axis=0)\n",
    "T_new = np.sum(trajectories[bond_index+2:,:],axis=0)\n",
    "B_new = trajectories[bond_index,:] +  trajectories[bond_index+1,:]\n",
    "len(T_new)"
   ]
  },
  {
   "cell_type": "code",
   "execution_count": 754,
   "id": "ae277b3b-0e09-4901-ab77-efc66ccc4577",
   "metadata": {},
   "outputs": [
    {
     "data": {
      "text/plain": [
       "[<matplotlib.lines.Line2D at 0x7fc018ffb550>]"
      ]
     },
     "execution_count": 754,
     "metadata": {},
     "output_type": "execute_result"
    },
    {
     "data": {
      "image/png": "[encoded data removed]",
      "text/plain": [
       "<Figure size 432x288 with 1 Axes>"
      ]
     },
     "metadata": {
      "needs_background": "light"
     },
     "output_type": "display_data"
    }
   ],
   "source": [
    "plt.plot(times, n_left)\n",
    "plt.plot(times, n_right)\n",
    "plt.plot(times, n_bond)\n",
    "\n",
    "plt.plot(time_range, R_new, linestyle = \"dashed\")\n",
    "plt.plot(time_range, T_new,linestyle = \"dashed\")\n",
    "plt.plot(time_range, B_new,linestyle = \"dashed\")\n"
   ]
  },
  {
   "cell_type": "code",
   "execution_count": 755,
   "id": "3be31422-a064-4f3f-97a7-16d0eb1d18cf",
   "metadata": {},
   "outputs": [
    {
     "data": {
      "text/plain": [
       "[<matplotlib.lines.Line2D at 0x7fc03d731b50>]"
      ]
     },
     "execution_count": 755,
     "metadata": {},
     "output_type": "execute_result"
    },
    {
     "data": {
      "image/png": "[encoded data removed]",
      "text/plain": [
       "<Figure size 432x288 with 1 Axes>"
      ]
     },
     "metadata": {
      "needs_background": "light"
     },
     "output_type": "display_data"
    }
   ],
   "source": [
    "times_coarse = np.linspace(times[0], times[-1], len(VN_entropy))\n",
    "plt.plot(times_coarse, VN_entropy)\n",
    "plt.plot(time_range, St, linestyle=\"dashed\")"
   ]
  },
  {
   "cell_type": "code",
   "execution_count": null,
   "id": "78983e36-a8e4-457f-afb3-c450e98de455",
   "metadata": {},
   "outputs": [],
   "source": []
  },
  {
   "cell_type": "code",
   "execution_count": null,
   "id": "7a28151e-86eb-4d94-a094-233ba5178344",
   "metadata": {},
   "outputs": [],
   "source": []
  }
 ],
 "metadata": {
  "kernelspec": {
   "display_name": "Python 3 (ipykernel)",
   "language": "python",
   "name": "python3"
  },
  "language_info": {
   "codemirror_mode": {
    "name": "ipython",
    "version": 3
   },
   "file_extension": ".py",
   "mimetype": "text/x-python",
   "name": "python",
   "nbconvert_exporter": "python",
   "pygments_lexer": "ipython3",
   "version": "3.9.7"
  }
 },
 "nbformat": 4,
 "nbformat_minor": 5
}
