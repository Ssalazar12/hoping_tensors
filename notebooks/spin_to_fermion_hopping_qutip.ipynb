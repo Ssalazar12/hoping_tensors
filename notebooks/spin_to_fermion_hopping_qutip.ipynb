{
 "cells": [
  {
   "cell_type": "markdown",
   "id": "7f790933",
   "metadata": {},
   "source": [
    "# Spin Chain to Fermion Hopping\n",
    "\n",
    "So here we do the opposite of what we did in lindblad_hopping_qtip: We start with a chain of spins and we want to use the JW tranformation to express it as a chain of hopping fermions. Why do we want this? Because Qutip is built for **spins**, and we eventually want to work with **fermions with spins**. For that we need to be able to express Spin sites in terms of fermions while including the spin degrees of freedom.\n",
    "\n",
    "For the case of a single particle, it makes no difference whether we have spinfull or spinless fermions, but since we want to consider more particles and more complex systems we need to build up to it like this"
   ]
  },
  {
   "cell_type": "code",
   "execution_count": 1,
   "id": "c9fb4a4d",
   "metadata": {},
   "outputs": [
    {
     "name": "stderr",
     "output_type": "stream",
     "text": [
      "<frozen importlib._bootstrap>:228: RuntimeWarning: scipy._lib.messagestream.MessageStream size changed, may indicate binary incompatibility. Expected 56 from C header, got 64 from PyObject\n"
     ]
    }
   ],
   "source": [
    "import numpy as np\n",
    "import matplotlib.pyplot as plt\n",
    "import itertools\n",
    "\n",
    "from qutip import  *"
   ]
  },
  {
   "cell_type": "code",
   "execution_count": 2,
   "id": "ec359cf6",
   "metadata": {},
   "outputs": [],
   "source": [
    "L = 4 # Num of sites\n",
    "D = 2 # local hilbert space\n",
    "J = 1 # interaction\n",
    "gamma = 0.2 # the dephasing term for the collapse operators\n",
    "max_t = 40 # maximum time\n",
    "tsteps = 1000 # number of time steps\n",
    "\n",
    "Sup =  sigmap() # creation\n",
    "Sdown = sigmam() # annihilation\n",
    "num_op = Sup*Sdown \n",
    "\n",
    "colapse_operator = np.sqrt(gamma)*num_op \n",
    "# colapse_operator = Sdown\n",
    "expect_operator = num_op # for the expectation value tracking\n",
    "\n",
    "initial_conditions = np.zeros(L**2) # initial conditions of the density matrix\n",
    "initial_conditions[0] = 1.0\n"
   ]
  },
  {
   "cell_type": "code",
   "execution_count": 3,
   "id": "b0f94e73",
   "metadata": {},
   "outputs": [
    {
     "data": {
      "text/latex": [
       "Quantum object: dims=[[2, 2, 2, 2], [2, 2, 2, 2]], shape=(16, 16), type='oper', dtype=Dense, isherm=True$$\\left(\\begin{array}{cc}0 & 0 & 0 & 0 & 0 & \\cdots & 0 & 0 & 0 & 0 & 0\\\\0 & 0 & -0.500 & 0 & 0 & \\cdots & 0 & 0 & 0 & 0 & 0\\\\0 & -0.500 & 0 & 0 & -0.500 & \\cdots & 0 & 0 & 0 & 0 & 0\\\\0 & 0 & 0 & 0 & 0 & \\cdots & 0 & 0 & 0 & 0 & 0\\\\0 & 0 & -0.500 & 0 & 0 & \\cdots & 0 & 0 & 0 & 0 & 0\\\\\\vdots & \\vdots & \\vdots & \\vdots & \\vdots & \\ddots & \\vdots & \\vdots & \\vdots & \\vdots & \\vdots\\\\0 & 0 & 0 & 0 & 0 & \\cdots & 0 & 0 & -0.500 & 0 & 0\\\\0 & 0 & 0 & 0 & 0 & \\cdots & 0 & 0 & 0 & 0 & 0\\\\0 & 0 & 0 & 0 & 0 & \\cdots & -0.500 & 0 & 0 & -0.500 & 0\\\\0 & 0 & 0 & 0 & 0 & \\cdots & 0 & 0 & -0.500 & 0 & 0\\\\0 & 0 & 0 & 0 & 0 & \\cdots & 0 & 0 & 0 & 0 & 0\\end{array}\\right)$$"
      ],
      "text/plain": [
       "Quantum object: dims=[[2, 2, 2, 2], [2, 2, 2, 2]], shape=(16, 16), type='oper', dtype=Dense, isherm=True\n",
       "Qobj data =\n",
       "[[ 0.   0.   0.   0.   0.   0.   0.   0.   0.   0.   0.   0.   0.   0.\n",
       "   0.   0. ]\n",
       " [ 0.   0.  -0.5  0.   0.   0.   0.   0.   0.   0.   0.   0.   0.   0.\n",
       "   0.   0. ]\n",
       " [ 0.  -0.5  0.   0.  -0.5  0.   0.   0.   0.   0.   0.   0.   0.   0.\n",
       "   0.   0. ]\n",
       " [ 0.   0.   0.   0.   0.  -0.5  0.   0.   0.   0.   0.   0.   0.   0.\n",
       "   0.   0. ]\n",
       " [ 0.   0.  -0.5  0.   0.   0.   0.   0.  -0.5  0.   0.   0.   0.   0.\n",
       "   0.   0. ]\n",
       " [ 0.   0.   0.  -0.5  0.   0.  -0.5  0.   0.  -0.5  0.   0.   0.   0.\n",
       "   0.   0. ]\n",
       " [ 0.   0.   0.   0.   0.  -0.5  0.   0.   0.   0.  -0.5  0.   0.   0.\n",
       "   0.   0. ]\n",
       " [ 0.   0.   0.   0.   0.   0.   0.   0.   0.   0.   0.  -0.5  0.   0.\n",
       "   0.   0. ]\n",
       " [ 0.   0.   0.   0.  -0.5  0.   0.   0.   0.   0.   0.   0.   0.   0.\n",
       "   0.   0. ]\n",
       " [ 0.   0.   0.   0.   0.  -0.5  0.   0.   0.   0.  -0.5  0.   0.   0.\n",
       "   0.   0. ]\n",
       " [ 0.   0.   0.   0.   0.   0.  -0.5  0.   0.  -0.5  0.   0.  -0.5  0.\n",
       "   0.   0. ]\n",
       " [ 0.   0.   0.   0.   0.   0.   0.  -0.5  0.   0.   0.   0.   0.  -0.5\n",
       "   0.   0. ]\n",
       " [ 0.   0.   0.   0.   0.   0.   0.   0.   0.   0.  -0.5  0.   0.   0.\n",
       "   0.   0. ]\n",
       " [ 0.   0.   0.   0.   0.   0.   0.   0.   0.   0.   0.  -0.5  0.   0.\n",
       "  -0.5  0. ]\n",
       " [ 0.   0.   0.   0.   0.   0.   0.   0.   0.   0.   0.   0.   0.  -0.5\n",
       "   0.   0. ]\n",
       " [ 0.   0.   0.   0.   0.   0.   0.   0.   0.   0.   0.   0.   0.   0.\n",
       "   0.   0. ]]"
      ]
     },
     "execution_count": 3,
     "metadata": {},
     "output_type": "execute_result"
    }
   ],
   "source": [
    "# create the hamiltonian as a tensor product\n",
    "ident_tensor = tensor([identity(D)]*L) \n",
    "H = 0*ident_tensor\n",
    "# define the exponential operators for the JW string\n",
    "expo_minus = (-1j*np.pi*num_op).expm()\n",
    "expo_plus = (1j*np.pi*num_op).expm()\n",
    "    \n",
    "for site_j in range(0,L-1):\n",
    "    # create the jordan-wigner for aj^dagger aj+1 \n",
    "    Spin_j = Sup # site j\n",
    "    Spin_jp1 = Sdown # site j+1\n",
    "\n",
    "    JW = [identity(2)]*L\n",
    "    # list slicing does not work that well with these things so ill just do it with a loop\n",
    "    for lop in range(0,site_j):\n",
    "        JW[lop] = expo_minus*expo_plus\n",
    "    JW[site_j] = Spin_j*expo_plus\n",
    "    JW[site_j+1] = Spin_jp1\n",
    "\n",
    "    # now the hermitian conjugate of this aj aj+1^dagger\n",
    "    Spin_j = Sdown # site j\n",
    "    Spin_jp1 = Sup # site j+1\n",
    "\n",
    "    JW_conj = [identity(2)]*L\n",
    "    for lop in range(0,site_j):\n",
    "        JW_conj[lop] = expo_minus*expo_plus\n",
    "    JW_conj[site_j] = expo_minus*Spin_j\n",
    "    JW_conj[site_j+1] = Spin_jp1\n",
    "    \n",
    "    # add the new term to the hamiltonian\n",
    "    H+= -0.5*J*( tensor(JW)+ tensor(JW_conj))\n",
    "\n",
    "H"
   ]
  },
  {
   "cell_type": "code",
   "execution_count": 4,
   "id": "4d25f17f",
   "metadata": {},
   "outputs": [
    {
     "data": {
      "text/latex": [
       "Quantum object: dims=[[2, 2, 2, 2], [2, 2, 2, 2]], shape=(16, 16), type='oper', dtype=Dense, isherm=True$$\\left(\\begin{array}{cc}0 & 0 & 0 & 0 & 0 & \\cdots & 0 & 0 & 0 & 0 & 0\\\\0 & 0 & 0 & 0 & 0 & \\cdots & 0 & 0 & 0 & 0 & 0\\\\0 & 0 & 0 & 0 & 0 & \\cdots & 0 & 0 & 0 & 0 & 0\\\\0 & 0 & 0 & 0 & 0 & \\cdots & 0 & 0 & 0 & 0 & 0\\\\0 & 0 & 0 & 0 & 0 & \\cdots & 0 & 0 & 0 & 0 & 0\\\\\\vdots & \\vdots & \\vdots & \\vdots & \\vdots & \\ddots & \\vdots & \\vdots & \\vdots & \\vdots & \\vdots\\\\0 & 0 & 0 & 0 & 0 & \\cdots & 0 & 0 & 0 & 0 & 0\\\\0 & 0 & 0 & 0 & 0 & \\cdots & 0 & 0 & 0 & 0 & 0\\\\0 & 0 & 0 & 0 & 0 & \\cdots & 0 & 0 & 0 & 0 & 0\\\\0 & 0 & 0 & 0 & 0 & \\cdots & 0 & 0 & 0 & 0 & 0\\\\0 & 0 & 0 & 0 & 0 & \\cdots & 0 & 0 & 0 & 0 & 0\\end{array}\\right)$$"
      ],
      "text/plain": [
       "Quantum object: dims=[[2, 2, 2, 2], [2, 2, 2, 2]], shape=(16, 16), type='oper', dtype=Dense, isherm=True\n",
       "Qobj data =\n",
       "[[0. 0. 0. 0. 0. 0. 0. 0. 0. 0. 0. 0. 0. 0. 0. 0.]\n",
       " [0. 0. 0. 0. 0. 0. 0. 0. 0. 0. 0. 0. 0. 0. 0. 0.]\n",
       " [0. 0. 0. 0. 0. 0. 0. 0. 0. 0. 0. 0. 0. 0. 0. 0.]\n",
       " [0. 0. 0. 0. 0. 0. 0. 0. 0. 0. 0. 0. 0. 0. 0. 0.]\n",
       " [0. 0. 0. 0. 0. 0. 0. 0. 0. 0. 0. 0. 0. 0. 0. 0.]\n",
       " [0. 0. 0. 0. 0. 0. 0. 0. 0. 0. 0. 0. 0. 0. 0. 0.]\n",
       " [0. 0. 0. 0. 0. 0. 0. 0. 0. 0. 0. 0. 0. 0. 0. 0.]\n",
       " [0. 0. 0. 0. 0. 0. 0. 1. 0. 0. 0. 0. 0. 0. 0. 0.]\n",
       " [0. 0. 0. 0. 0. 0. 0. 0. 0. 0. 0. 0. 0. 0. 0. 0.]\n",
       " [0. 0. 0. 0. 0. 0. 0. 0. 0. 0. 0. 0. 0. 0. 0. 0.]\n",
       " [0. 0. 0. 0. 0. 0. 0. 0. 0. 0. 0. 0. 0. 0. 0. 0.]\n",
       " [0. 0. 0. 0. 0. 0. 0. 0. 0. 0. 0. 0. 0. 0. 0. 0.]\n",
       " [0. 0. 0. 0. 0. 0. 0. 0. 0. 0. 0. 0. 0. 0. 0. 0.]\n",
       " [0. 0. 0. 0. 0. 0. 0. 0. 0. 0. 0. 0. 0. 0. 0. 0.]\n",
       " [0. 0. 0. 0. 0. 0. 0. 0. 0. 0. 0. 0. 0. 0. 0. 0.]\n",
       " [0. 0. 0. 0. 0. 0. 0. 0. 0. 0. 0. 0. 0. 0. 0. 0.]]"
      ]
     },
     "execution_count": 4,
     "metadata": {},
     "output_type": "execute_result"
    }
   ],
   "source": [
    "basis(D,0) # this is spin up \n",
    "basis(D,1) # this is spin down\n",
    "basis_list = []\n",
    "\n",
    "# Create the basis vectors, for this case there is a !!single!! spin up\n",
    "for site in range(0,L):\n",
    "    # initialize everything in down state\n",
    "    single_state_list = [basis(D,1)]*L\n",
    "    # flip the spin up the spin in site\n",
    "    single_state_list[site] = basis(D,0)\n",
    "    # notice how there is only one spin up (one particle states)\n",
    "    ket = tensor(single_state_list)\n",
    "    basis_list.append(ket)\n",
    "\n",
    "# initialize the density matrix\n",
    "# make all possible 2 elemet combinations where order matters so we can get the density matrix\n",
    "combination_list = list(itertools.product(basis_list, basis_list))\n",
    "\n",
    "# initialize a density matrix object that is full of zeros\n",
    "rho = 0*combination_list[0][0]*combination_list[0][1].dag()\n",
    "\n",
    "# build the density matrix\n",
    "for i in range(0,len(combination_list)):\n",
    "    rho += initial_conditions[i]*combination_list[i][0]*combination_list[i][1].dag()\n",
    "    \n",
    "rho"
   ]
  },
  {
   "cell_type": "code",
   "execution_count": 5,
   "id": "6f283a94",
   "metadata": {},
   "outputs": [],
   "source": [
    "# create the collapse operators. Can be densities or ladder local operators\n",
    "# also creates the operators to track the relevant expectation values, mostyle densities\n",
    "collapse_ops = []\n",
    "expect_ops = []\n",
    "\n",
    "for j in range(0,L):\n",
    "    # for collapse operators\n",
    "    op_list = [identity(D)]*L\n",
    "    op_list[j] = colapse_operator\n",
    "    nj = tensor(op_list)\n",
    "    collapse_ops.append(nj)\n",
    "    \n",
    "    # for the expectation values\n",
    "    op_list = [identity(D)]*L\n",
    "    op_list[j] = expect_operator\n",
    "    nj = tensor(op_list)\n",
    "    expect_ops.append(nj)"
   ]
  },
  {
   "cell_type": "code",
   "execution_count": 6,
   "id": "194dc1d1",
   "metadata": {},
   "outputs": [
    {
     "data": {
      "text/plain": [
       "<Result\n",
       "  Solver: mesolve\n",
       "  Solver stats:\n",
       "    method: 'scipy zvode adams'\n",
       "    init time: 0.00013589859008789062\n",
       "    preparation time: 0.0002219676971435547\n",
       "    run time: 0.15782499313354492\n",
       "    solver: 'Master Equation Evolution'\n",
       "    num_collapse: 4\n",
       "  Time interval: [0.0, 40.0] (1000 steps)\n",
       "  Number of e_ops: 4\n",
       "  State not saved.\n",
       ">"
      ]
     },
     "execution_count": 6,
     "metadata": {},
     "output_type": "execute_result"
    }
   ],
   "source": [
    "times = np.linspace(0.0, max_t, tsteps)\n",
    "\n",
    "result = mesolve(H, rho, times, c_ops=collapse_ops , e_ops=expect_ops)\n",
    "\n",
    "result"
   ]
  },
  {
   "cell_type": "code",
   "execution_count": 7,
   "id": "d7c5d176",
   "metadata": {},
   "outputs": [
    {
     "data": {
      "text/plain": [
       "Text(0, 0.5, 'local densities')"
      ]
     },
     "execution_count": 7,
     "metadata": {},
     "output_type": "execute_result"
    },
    {
     "data": {
      "image/png": "[encoded data removed]",
      "text/plain": [
       "<Figure size 504x360 with 1 Axes>"
      ]
     },
     "metadata": {
      "needs_background": "light"
     },
     "output_type": "display_data"
    }
   ],
   "source": [
    "fig, ax = plt.subplots(1,1, figsize=(7,5))\n",
    "\n",
    "# plot\n",
    "for i in range(0,len(result.expect)):\n",
    "    ax.plot(times, result.expect[i], linewidth=2.0)\n",
    "    \n",
    "# get the total particle number\n",
    "# get the sum of the local densities\n",
    "n_tot = np.sum(result.expect, axis=0)\n",
    "ax.plot(times, n_tot, c='black', linewidth=2.0)\n",
    "\n",
    "ax.set_xlabel(\"times\")\n",
    "ax.set_ylabel(\"local densities\")\n"
   ]
  },
  {
   "cell_type": "code",
   "execution_count": null,
   "id": "6983cb66",
   "metadata": {},
   "outputs": [],
   "source": []
  }
 ],
 "metadata": {
  "kernelspec": {
   "display_name": "hopping",
   "language": "python",
   "name": "hopping"
  },
  "language_info": {
   "codemirror_mode": {
    "name": "ipython",
    "version": 3
   },
   "file_extension": ".py",
   "mimetype": "text/x-python",
   "name": "python",
   "nbconvert_exporter": "python",
   "pygments_lexer": "ipython3",
   "version": "3.9.7"
  }
 },
 "nbformat": 4,
 "nbformat_minor": 5
}
