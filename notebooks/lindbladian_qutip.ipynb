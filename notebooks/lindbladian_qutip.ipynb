{
 "cells": [
  {
   "cell_type": "code",
   "execution_count": 1,
   "id": "7642fe9e",
   "metadata": {},
   "outputs": [],
   "source": [
    "import numpy as np\n",
    "import matplotlib.pyplot as plt\n",
    "from qutip import  *"
   ]
  },
  {
   "cell_type": "code",
   "execution_count": 2,
   "id": "3732eb96",
   "metadata": {},
   "outputs": [
    {
     "name": "stdout",
     "output_type": "stream",
     "text": [
      "Quantum object: dims=[[2], [1]], shape=(2, 1), type='ket', dtype=Dense\n",
      "Qobj data =\n",
      "[[1.]\n",
      " [0.]]\n",
      "Quantum object: dims=[[2], [2]], shape=(2, 2), type='oper', dtype=Dia, isherm=False\n",
      "Qobj data =\n",
      "[[0. 1.]\n",
      " [0. 0.]]\n"
     ]
    },
    {
     "data": {
      "text/latex": [
       "Quantum object: dims=[[2], [1]], shape=(2, 1), type='ket', dtype=Dense$$\\left(\\begin{array}{cc}0\\\\1\\end{array}\\right)$$"
      ],
      "text/plain": [
       "Quantum object: dims=[[2], [1]], shape=(2, 1), type='ket', dtype=Dense\n",
       "Qobj data =\n",
       "[[0.]\n",
       " [1.]]"
      ]
     },
     "execution_count": 2,
     "metadata": {},
     "output_type": "execute_result"
    }
   ],
   "source": [
    "n = 2\n",
    "vac = basis(n, 0) # vacuum state in Fock space for a two-leve spin case (1/2)\n",
    "a = destroy(n)\n",
    "ad = create(n)\n",
    "print(vac)\n",
    "print(a)\n",
    "\n",
    "ad*vac"
   ]
  },
  {
   "cell_type": "code",
   "execution_count": 3,
   "id": "f71357a3",
   "metadata": {},
   "outputs": [
    {
     "data": {
      "text/latex": [
       "Quantum object: dims=[[2], [2]], shape=(2, 2), type='oper', dtype=CSR, isherm=True$$\\left(\\begin{array}{cc}10 & 0\\\\0 & -10\\end{array}\\right)$$"
      ],
      "text/plain": [
       "Quantum object: dims=[[2], [2]], shape=(2, 2), type='oper', dtype=CSR, isherm=True\n",
       "Qobj data =\n",
       "[[ 10.   0.]\n",
       " [  0. -10.]]"
      ]
     },
     "execution_count": 3,
     "metadata": {},
     "output_type": "execute_result"
    }
   ],
   "source": [
    "10 * sigmaz()"
   ]
  },
  {
   "cell_type": "markdown",
   "id": "878bd6ba",
   "metadata": {},
   "source": [
    "# Exact Diagonalization for Open 1D chain\n",
    "\n",
    "Here we have transforme the fermion occupation basis representation to a Spin one in order to better use quspin"
   ]
  },
  {
   "cell_type": "markdown",
   "id": "d627a890",
   "metadata": {},
   "source": [
    "## Two sites"
   ]
  },
  {
   "cell_type": "code",
   "execution_count": 178,
   "id": "5b33056b",
   "metadata": {},
   "outputs": [],
   "source": [
    "L = 2 # Num of sites\n",
    "J = 1 # interaction\n",
    "gamma = 0.1\n",
    "a0= 0.25\n",
    "b0=0.25\n",
    "c0 = 0.25\n",
    "d0=0.25\n",
    "spin_1  = basis(L,0) # spin up\n",
    "Sup =  sigmap() \n",
    "Sdown = sigmam()\n"
   ]
  },
  {
   "cell_type": "code",
   "execution_count": 179,
   "id": "8b5cf42c",
   "metadata": {},
   "outputs": [
    {
     "data": {
      "text/latex": [
       "Quantum object: dims=[[2, 2], [2, 2]], shape=(4, 4), type='oper', dtype=Dense, isherm=True$$\\left(\\begin{array}{cc}0 & 0 & 0 & 0\\\\0 & 0.250 & 0.250 & 0\\\\0 & 0.250 & 0.250 & 0\\\\0 & 0 & 0 & 0\\end{array}\\right)$$"
      ],
      "text/plain": [
       "Quantum object: dims=[[2, 2], [2, 2]], shape=(4, 4), type='oper', dtype=Dense, isherm=True\n",
       "Qobj data =\n",
       "[[0.   0.   0.   0.  ]\n",
       " [0.   0.25 0.25 0.  ]\n",
       " [0.   0.25 0.25 0.  ]\n",
       " [0.   0.   0.   0.  ]]"
      ]
     },
     "execution_count": 179,
     "metadata": {},
     "output_type": "execute_result"
    }
   ],
   "source": [
    "# create the initial state\n",
    "ket1 = tensor(basis(L,0) , basis(L,1)) \n",
    "ket2 = tensor(basis(L,1) , basis(L,0)) \n",
    "\n",
    "# density matrix\n",
    "rho = a0*ket1*ket1.dag() + b0*ket1*ket2.dag() + c0*ket2*ket1.dag() + d0*ket2*ket2.dag()\n",
    "rho"
   ]
  },
  {
   "cell_type": "code",
   "execution_count": 180,
   "id": "7edfe7ab",
   "metadata": {},
   "outputs": [
    {
     "data": {
      "text/latex": [
       "Quantum object: dims=[[2, 2], [2, 2]], shape=(4, 4), type='oper', dtype=CSR, isherm=True$$\\left(\\begin{array}{cc}0 & 0 & 0 & 0\\\\0 & 0 & 1 & 0\\\\0 & 1 & 0 & 0\\\\0 & 0 & 0 & 0\\end{array}\\right)$$"
      ],
      "text/plain": [
       "Quantum object: dims=[[2, 2], [2, 2]], shape=(4, 4), type='oper', dtype=CSR, isherm=True\n",
       "Qobj data =\n",
       "[[0. 0. 0. 0.]\n",
       " [0. 0. 1. 0.]\n",
       " [0. 1. 0. 0.]\n",
       " [0. 0. 0. 0.]]"
      ]
     },
     "execution_count": 180,
     "metadata": {},
     "output_type": "execute_result"
    }
   ],
   "source": [
    "# Create the composite hamiltonian\n",
    "H = tensor(Sup,Sdown) + tensor(Sdown,Sup)\n",
    "# now the number operators\n",
    "n1 = tensor(Sup*Sdown,identity(2))\n",
    "n2 = tensor(identity(2),Sup*Sdown)\n",
    "\n",
    "H"
   ]
  },
  {
   "cell_type": "code",
   "execution_count": 181,
   "id": "2b4c6024",
   "metadata": {},
   "outputs": [
    {
     "data": {
      "text/plain": [
       "<Result\n",
       "  Solver: mesolve\n",
       "  Solver stats:\n",
       "    method: 'scipy zvode adams'\n",
       "    init time: 0.00014495849609375\n",
       "    preparation time: 0.00033783912658691406\n",
       "    run time: 0.009570121765136719\n",
       "    solver: 'Master Equation Evolution'\n",
       "    num_collapse: 2\n",
       "  Time interval: [0.0, 10.0] (100 steps)\n",
       "  Number of e_ops: 1\n",
       "  State not saved.\n",
       ">"
      ]
     },
     "execution_count": 181,
     "metadata": {},
     "output_type": "execute_result"
    }
   ],
   "source": [
    "times = np.linspace(0.0, 10.0, 100)\n",
    "\n",
    "result = mesolve(H, ket, times, c_ops=[np.sqrt(gamma)*n1,np.sqrt(gamma)*n2],e_ops=H )\n",
    "#result = mesolve(H, ket, times,e_ops=H )\n",
    "result\n"
   ]
  },
  {
   "cell_type": "code",
   "execution_count": 182,
   "id": "d93796ab",
   "metadata": {},
   "outputs": [
    {
     "data": {
      "text/plain": [
       "array([0.5       , 0.49497514, 0.49000038, 0.48507575, 0.48020066,\n",
       "       0.47537457, 0.47059698, 0.46586741, 0.46118537, 0.45655039,\n",
       "       0.451962  , 0.44741974, 0.44292313, 0.43847172, 0.43406502,\n",
       "       0.42970261, 0.42538406, 0.42110892, 0.41687676, 0.41268712,\n",
       "       0.40853956, 0.40443367, 0.40036904, 0.39634526, 0.39236192,\n",
       "       0.38841861, 0.38451493, 0.38065049, 0.37682488, 0.37303773,\n",
       "       0.36928863, 0.36557721, 0.36190309, 0.3582659 , 0.35466526,\n",
       "       0.35110081, 0.34757218, 0.34407902, 0.34062096, 0.33719765,\n",
       "       0.33380875, 0.3304539 , 0.32713277, 0.32384503, 0.32059032,\n",
       "       0.31736833, 0.31417872, 0.31102116, 0.30789534, 0.30480093,\n",
       "       0.30173762, 0.2987051 , 0.29570306, 0.29273119, 0.28978918,\n",
       "       0.28687674, 0.28399357, 0.28113938, 0.27831387, 0.27551676,\n",
       "       0.27274777, 0.27000661, 0.26729299, 0.26460665, 0.26194731,\n",
       "       0.25931469, 0.25670853, 0.25412857, 0.25157453, 0.24904617,\n",
       "       0.24654321, 0.24406541, 0.24161252, 0.23918427, 0.23678043,\n",
       "       0.23440075, 0.23204499, 0.2297129 , 0.22740425, 0.2251188 ,\n",
       "       0.22285633, 0.22061659, 0.21839936, 0.21620442, 0.21403153,\n",
       "       0.21188049, 0.20975106, 0.20764303, 0.20555618, 0.20349031,\n",
       "       0.20144521, 0.19942065, 0.19741645, 0.19543239, 0.19346827,\n",
       "       0.19152388, 0.18959904, 0.18769355, 0.1858072 , 0.18393982])"
      ]
     },
     "execution_count": 182,
     "metadata": {},
     "output_type": "execute_result"
    }
   ],
   "source": [
    "result.expect[0]"
   ]
  },
  {
   "cell_type": "code",
   "execution_count": 189,
   "id": "06fbe982",
   "metadata": {},
   "outputs": [
    {
     "data": {
      "text/latex": [
       "Quantum object: dims=[[[2, 2], [2, 2]], [[2, 2], [2, 2]]], shape=(16, 16), type='super', dtype=CSR, isherm=False$$\\left(\\begin{array}{cc}0 & 0 & 0 & 0 & 0 & \\cdots & 0 & 0 & 0 & 0 & 0\\\\0 & 0 & -1j & 0 & 0 & \\cdots & 0 & 0 & 0 & 0 & 0\\\\0 & -1j & -0.050 & 0 & 0 & \\cdots & 0 & 0 & 0 & 0 & 0\\\\0 & 0 & 0 & -0.050 & 0 & \\cdots & 0 & 0 & 0 & 0 & 0\\\\0 & 0 & 0 & 0 & 0 & \\cdots & 0 & 0 & 0 & 0 & 0\\\\\\vdots & \\vdots & \\vdots & \\vdots & \\vdots & \\ddots & \\vdots & \\vdots & \\vdots & \\vdots & \\vdots\\\\0 & 0 & 0 & 0 & 0 & \\cdots & 0 & 0 & 0 & 0 & 0\\\\0 & 0 & 0 & 0 & 0 & \\cdots & 0 & -0.050 & 0 & 0 & 0\\\\0 & 0 & 0 & 0 & 0 & \\cdots & 0 & 0 & -0.050 & -1j & 0\\\\0 & 0 & 0 & 0 & 0 & \\cdots & 0 & 0 & -1j & 0 & 0\\\\0 & 0 & 0 & 0 & 0 & \\cdots & 0 & 0 & 0 & 0 & 0\\end{array}\\right)$$"
      ],
      "text/plain": [
       "Quantum object: dims=[[[2, 2], [2, 2]], [[2, 2], [2, 2]]], shape=(16, 16), type='super', dtype=CSR, isherm=False\n",
       "Qobj data =\n",
       "[[ 0.  +0.j  0.  +0.j  0.  +0.j  0.  +0.j  0.  +0.j  0.  +0.j  0.  +0.j\n",
       "   0.  +0.j  0.  +0.j  0.  +0.j  0.  +0.j  0.  +0.j  0.  +0.j  0.  +0.j\n",
       "   0.  +0.j  0.  +0.j]\n",
       " [ 0.  +0.j  0.  +0.j  0.  -1.j  0.  +0.j  0.  +0.j  0.  +0.j  0.  +0.j\n",
       "   0.  +0.j  0.  +0.j  0.  +0.j  0.  +0.j  0.  +0.j  0.  +0.j  0.  +0.j\n",
       "   0.  +0.j  0.  +0.j]\n",
       " [ 0.  +0.j  0.  -1.j -0.05+0.j  0.  +0.j  0.  +0.j  0.  +0.j  0.  +0.j\n",
       "   0.  +0.j  0.  +0.j  0.  +0.j  0.  +0.j  0.  +0.j  0.  +0.j  0.  +0.j\n",
       "   0.  +0.j  0.  +0.j]\n",
       " [ 0.  +0.j  0.  +0.j  0.  +0.j -0.05+0.j  0.  +0.j  0.  +0.j  0.  +0.j\n",
       "   0.  +0.j  0.  +0.j  0.  +0.j  0.  +0.j  0.  +0.j  0.  +0.j  0.  +0.j\n",
       "   0.  +0.j  0.  +0.j]\n",
       " [ 0.  +0.j  0.  +0.j  0.  +0.j  0.  +0.j  0.  +0.j  0.  +0.j  0.  +0.j\n",
       "   0.  +0.j  0.  +1.j  0.  +0.j  0.  +0.j  0.  +0.j  0.  +0.j  0.  +0.j\n",
       "   0.  +0.j  0.  +0.j]\n",
       " [ 0.  +0.j  0.  +0.j  0.  +0.j  0.  +0.j  0.  +0.j  0.  +0.j  0.  -1.j\n",
       "   0.  +0.j  0.  +0.j  0.  +1.j  0.  +0.j  0.  +0.j  0.  +0.j  0.  +0.j\n",
       "   0.  +0.j  0.  +0.j]\n",
       " [ 0.  +0.j  0.  +0.j  0.  +0.j  0.  +0.j  0.  +0.j  0.  -1.j -0.05+0.j\n",
       "   0.  +0.j  0.  +0.j  0.  +0.j  0.  +1.j  0.  +0.j  0.  +0.j  0.  +0.j\n",
       "   0.  +0.j  0.  +0.j]\n",
       " [ 0.  +0.j  0.  +0.j  0.  +0.j  0.  +0.j  0.  +0.j  0.  +0.j  0.  +0.j\n",
       "  -0.05+0.j  0.  +0.j  0.  +0.j  0.  +0.j  0.  +1.j  0.  +0.j  0.  +0.j\n",
       "   0.  +0.j  0.  +0.j]\n",
       " [ 0.  +0.j  0.  +0.j  0.  +0.j  0.  +0.j  0.  +1.j  0.  +0.j  0.  +0.j\n",
       "   0.  +0.j -0.05+0.j  0.  +0.j  0.  +0.j  0.  +0.j  0.  +0.j  0.  +0.j\n",
       "   0.  +0.j  0.  +0.j]\n",
       " [ 0.  +0.j  0.  +0.j  0.  +0.j  0.  +0.j  0.  +0.j  0.  +1.j  0.  +0.j\n",
       "   0.  +0.j  0.  +0.j -0.05+0.j  0.  -1.j  0.  +0.j  0.  +0.j  0.  +0.j\n",
       "   0.  +0.j  0.  +0.j]\n",
       " [ 0.  +0.j  0.  +0.j  0.  +0.j  0.  +0.j  0.  +0.j  0.  +0.j  0.  +1.j\n",
       "   0.  +0.j  0.  +0.j  0.  -1.j  0.  +0.j  0.  +0.j  0.  +0.j  0.  +0.j\n",
       "   0.  +0.j  0.  +0.j]\n",
       " [ 0.  +0.j  0.  +0.j  0.  +0.j  0.  +0.j  0.  +0.j  0.  +0.j  0.  +0.j\n",
       "   0.  +1.j  0.  +0.j  0.  +0.j  0.  +0.j  0.  +0.j  0.  +0.j  0.  +0.j\n",
       "   0.  +0.j  0.  +0.j]\n",
       " [ 0.  +0.j  0.  +0.j  0.  +0.j  0.  +0.j  0.  +0.j  0.  +0.j  0.  +0.j\n",
       "   0.  +0.j  0.  +0.j  0.  +0.j  0.  +0.j  0.  +0.j -0.05+0.j  0.  +0.j\n",
       "   0.  +0.j  0.  +0.j]\n",
       " [ 0.  +0.j  0.  +0.j  0.  +0.j  0.  +0.j  0.  +0.j  0.  +0.j  0.  +0.j\n",
       "   0.  +0.j  0.  +0.j  0.  +0.j  0.  +0.j  0.  +0.j  0.  +0.j -0.05+0.j\n",
       "   0.  -1.j  0.  +0.j]\n",
       " [ 0.  +0.j  0.  +0.j  0.  +0.j  0.  +0.j  0.  +0.j  0.  +0.j  0.  +0.j\n",
       "   0.  +0.j  0.  +0.j  0.  +0.j  0.  +0.j  0.  +0.j  0.  +0.j  0.  -1.j\n",
       "   0.  +0.j  0.  +0.j]\n",
       " [ 0.  +0.j  0.  +0.j  0.  +0.j  0.  +0.j  0.  +0.j  0.  +0.j  0.  +0.j\n",
       "   0.  +0.j  0.  +0.j  0.  +0.j  0.  +0.j  0.  +0.j  0.  +0.j  0.  +0.j\n",
       "   0.  +0.j  0.  +0.j]]"
      ]
     },
     "execution_count": 189,
     "metadata": {},
     "output_type": "execute_result"
    }
   ],
   "source": [
    "L = liouvillian(H, [np.sqrt(gamma)*n1])\n",
    "L"
   ]
  },
  {
   "cell_type": "code",
   "execution_count": 171,
   "id": "def95cf6",
   "metadata": {},
   "outputs": [],
   "source": [
    "# the analytic solution of the eignebalues of the lindbladdian is\n",
    "at = a0\n",
    "bt=b0*np.exp(-gamma*times)\n",
    "ct=c0*np.exp(0.25*(-gamma-np.sqrt(-4+gamma**2+0*1j) )*times) # J is assumed to be 1\n",
    "dt=d0*np.exp(0.25*(-gamma+np.sqrt(-4+gamma**2+0*1j))*times)"
   ]
  },
  {
   "cell_type": "code",
   "execution_count": 173,
   "id": "6883762d",
   "metadata": {},
   "outputs": [
    {
     "data": {
      "text/plain": [
       "[<matplotlib.lines.Line2D at 0x7f7cb8d74070>]"
      ]
     },
     "execution_count": 173,
     "metadata": {},
     "output_type": "execute_result"
    },
    {
     "data": {
      "image/png": "[encoded data removed]",
      "text/plain": [
       "<Figure size 640x480 with 1 Axes>"
      ]
     },
     "metadata": {},
     "output_type": "display_data"
    }
   ],
   "source": [
    "plt.plot(dt.real)\n",
    "plt.plot(dt.imag)\n",
    "plt.plot(bt)\n",
    "plt.plot(result.expect[0])"
   ]
  },
  {
   "cell_type": "code",
   "execution_count": 192,
   "id": "9ad5e210",
   "metadata": {},
   "outputs": [
    {
     "name": "stdout",
     "output_type": "stream",
     "text": [
      "zgstrf info 14\n"
     ]
    },
    {
     "ename": "ValueError",
     "evalue": "Matrix is singular",
     "output_type": "error",
     "traceback": [
      "\u001b[0;31m---------------------------------------------------------------------------\u001b[0m",
      "\u001b[0;31mMatrixRankWarning\u001b[0m                         Traceback (most recent call last)",
      "File \u001b[0;32m~/Desktop/Uni/PhD/hoping_chain_tensors/lib/python3.9/site-packages/qutip/core/data/solve.py:92\u001b[0m, in \u001b[0;36msolve_csr_dense\u001b[0;34m(matrix, target, method, options)\u001b[0m\n\u001b[1;32m     91\u001b[0m \u001b[38;5;28;01mtry\u001b[39;00m:\n\u001b[0;32m---> 92\u001b[0m     out \u001b[38;5;241m=\u001b[39m \u001b[43msolver\u001b[49m\u001b[43m(\u001b[49m\u001b[43mM\u001b[49m\u001b[43m,\u001b[49m\u001b[43m \u001b[49m\u001b[43mb\u001b[49m\u001b[43m,\u001b[49m\u001b[43m \u001b[49m\u001b[38;5;241;43m*\u001b[39;49m\u001b[38;5;241;43m*\u001b[39;49m\u001b[43moptions\u001b[49m\u001b[43m)\u001b[49m\n\u001b[1;32m     93\u001b[0m \u001b[38;5;28;01mexcept\u001b[39;00m splinalg\u001b[38;5;241m.\u001b[39mMatrixRankWarning:\n",
      "File \u001b[0;32m~/Desktop/Uni/PhD/hoping_chain_tensors/lib/python3.9/site-packages/scipy/sparse/linalg/_dsolve/linsolve.py:296\u001b[0m, in \u001b[0;36mspsolve\u001b[0;34m(A, b, permc_spec, use_umfpack)\u001b[0m\n\u001b[1;32m    295\u001b[0m \u001b[38;5;28;01mif\u001b[39;00m info \u001b[38;5;241m!=\u001b[39m \u001b[38;5;241m0\u001b[39m:\n\u001b[0;32m--> 296\u001b[0m     \u001b[43mwarn\u001b[49m\u001b[43m(\u001b[49m\u001b[38;5;124;43m\"\u001b[39;49m\u001b[38;5;124;43mMatrix is exactly singular\u001b[39;49m\u001b[38;5;124;43m\"\u001b[39;49m\u001b[43m,\u001b[49m\u001b[43m \u001b[49m\u001b[43mMatrixRankWarning\u001b[49m\u001b[43m,\u001b[49m\u001b[43m \u001b[49m\u001b[43mstacklevel\u001b[49m\u001b[38;5;241;43m=\u001b[39;49m\u001b[38;5;241;43m2\u001b[39;49m\u001b[43m)\u001b[49m\n\u001b[1;32m    297\u001b[0m     x\u001b[38;5;241m.\u001b[39mfill(np\u001b[38;5;241m.\u001b[39mnan)\n",
      "\u001b[0;31mMatrixRankWarning\u001b[0m: Matrix is exactly singular",
      "\nDuring handling of the above exception, another exception occurred:\n",
      "\u001b[0;31mValueError\u001b[0m                                Traceback (most recent call last)",
      "Cell \u001b[0;32mIn[192], line 1\u001b[0m\n\u001b[0;32m----> 1\u001b[0m rho_ss \u001b[38;5;241m=\u001b[39m \u001b[43msteadystate\u001b[49m\u001b[43m(\u001b[49m\u001b[43mH\u001b[49m\u001b[43m,\u001b[49m\u001b[43m \u001b[49m\u001b[43mc_ops\u001b[49m\u001b[38;5;241;43m=\u001b[39;49m\u001b[43m[\u001b[49m\u001b[43mnp\u001b[49m\u001b[38;5;241;43m.\u001b[39;49m\u001b[43msqrt\u001b[49m\u001b[43m(\u001b[49m\u001b[43mgamma\u001b[49m\u001b[43m)\u001b[49m\u001b[38;5;241;43m*\u001b[39;49m\u001b[43mn1\u001b[49m\u001b[43m,\u001b[49m\u001b[43mnp\u001b[49m\u001b[38;5;241;43m.\u001b[39;49m\u001b[43msqrt\u001b[49m\u001b[43m(\u001b[49m\u001b[43mgamma\u001b[49m\u001b[43m)\u001b[49m\u001b[38;5;241;43m*\u001b[39;49m\u001b[43mn2\u001b[49m\u001b[43m]\u001b[49m\u001b[43m)\u001b[49m\n",
      "File \u001b[0;32m~/Desktop/Uni/PhD/hoping_chain_tensors/lib/python3.9/site-packages/qutip/solver/steadystate.py:179\u001b[0m, in \u001b[0;36msteadystate\u001b[0;34m(A, c_ops, method, solver, **kwargs)\u001b[0m\n\u001b[1;32m    177\u001b[0m     kwargs\u001b[38;5;241m.\u001b[39mpop(\u001b[38;5;124m\"\u001b[39m\u001b[38;5;124mpower_eps\u001b[39m\u001b[38;5;124m\"\u001b[39m, \u001b[38;5;241m0\u001b[39m)\n\u001b[1;32m    178\u001b[0m     kwargs\u001b[38;5;241m.\u001b[39mpop(\u001b[38;5;124m\"\u001b[39m\u001b[38;5;124msparse\u001b[39m\u001b[38;5;124m\"\u001b[39m, \u001b[38;5;241m0\u001b[39m)\n\u001b[0;32m--> 179\u001b[0m     \u001b[38;5;28;01mreturn\u001b[39;00m \u001b[43m_steadystate_direct\u001b[49m\u001b[43m(\u001b[49m\u001b[43mA\u001b[49m\u001b[43m,\u001b[49m\u001b[43m \u001b[49m\u001b[43mkwargs\u001b[49m\u001b[38;5;241;43m.\u001b[39;49m\u001b[43mpop\u001b[49m\u001b[43m(\u001b[49m\u001b[38;5;124;43m\"\u001b[39;49m\u001b[38;5;124;43mweight\u001b[39;49m\u001b[38;5;124;43m\"\u001b[39;49m\u001b[43m,\u001b[49m\u001b[43m \u001b[49m\u001b[38;5;241;43m0\u001b[39;49m\u001b[43m)\u001b[49m\u001b[43m,\u001b[49m\n\u001b[1;32m    180\u001b[0m \u001b[43m                               \u001b[49m\u001b[43mmethod\u001b[49m\u001b[38;5;241;43m=\u001b[39;49m\u001b[43msolver\u001b[49m\u001b[43m,\u001b[49m\u001b[43m \u001b[49m\u001b[38;5;241;43m*\u001b[39;49m\u001b[38;5;241;43m*\u001b[39;49m\u001b[43mkwargs\u001b[49m\u001b[43m)\u001b[49m\n\u001b[1;32m    182\u001b[0m \u001b[38;5;28;01melif\u001b[39;00m method \u001b[38;5;241m==\u001b[39m \u001b[38;5;124m\"\u001b[39m\u001b[38;5;124mpower\u001b[39m\u001b[38;5;124m\"\u001b[39m:\n\u001b[1;32m    183\u001b[0m     \u001b[38;5;66;03m# Remove unused kwargs, so only used and pass-through ones are included\u001b[39;00m\n\u001b[1;32m    184\u001b[0m     kwargs\u001b[38;5;241m.\u001b[39mpop(\u001b[38;5;124m\"\u001b[39m\u001b[38;5;124mweight\u001b[39m\u001b[38;5;124m\"\u001b[39m, \u001b[38;5;241m0\u001b[39m)\n",
      "File \u001b[0;32m~/Desktop/Uni/PhD/hoping_chain_tensors/lib/python3.9/site-packages/qutip/solver/steadystate.py:239\u001b[0m, in \u001b[0;36m_steadystate_direct\u001b[0;34m(A, weight, **kw)\u001b[0m\n\u001b[1;32m    236\u001b[0m         warn(\u001b[38;5;124m\"\u001b[39m\u001b[38;5;124mOnly sparse solver use preconditioners.\u001b[39m\u001b[38;5;124m\"\u001b[39m, \u001b[38;5;167;01mRuntimeWarning\u001b[39;00m)\n\u001b[1;32m    238\u001b[0m method \u001b[38;5;241m=\u001b[39m kw\u001b[38;5;241m.\u001b[39mpop(\u001b[38;5;124m\"\u001b[39m\u001b[38;5;124mmethod\u001b[39m\u001b[38;5;124m\"\u001b[39m, \u001b[38;5;28;01mNone\u001b[39;00m)\n\u001b[0;32m--> 239\u001b[0m steadystate \u001b[38;5;241m=\u001b[39m \u001b[43m_data\u001b[49m\u001b[38;5;241;43m.\u001b[39;49m\u001b[43msolve\u001b[49m\u001b[43m(\u001b[49m\u001b[43mL\u001b[49m\u001b[43m,\u001b[49m\u001b[43m \u001b[49m\u001b[43mb\u001b[49m\u001b[43m,\u001b[49m\u001b[43m \u001b[49m\u001b[43mmethod\u001b[49m\u001b[43m,\u001b[49m\u001b[43m \u001b[49m\u001b[43moptions\u001b[49m\u001b[38;5;241;43m=\u001b[39;49m\u001b[43mkw\u001b[49m\u001b[43m)\u001b[49m\n\u001b[1;32m    241\u001b[0m \u001b[38;5;28;01mif\u001b[39;00m use_rcm:\n\u001b[1;32m    242\u001b[0m     steadystate \u001b[38;5;241m=\u001b[39m _reverse_rcm(steadystate, perm)\n",
      "File \u001b[0;32m~/Desktop/Uni/PhD/hoping_chain_tensors/lib/python3.9/site-packages/qutip/core/data/dispatch.pyx:392\u001b[0m, in \u001b[0;36mqutip.core.data.dispatch.Dispatcher.__call__\u001b[0;34m()\u001b[0m\n",
      "File \u001b[0;32m~/Desktop/Uni/PhD/hoping_chain_tensors/lib/python3.9/site-packages/qutip/core/data/dispatch.pyx:90\u001b[0m, in \u001b[0;36mqutip.core.data.dispatch._constructed_specialisation.__call__\u001b[0;34m()\u001b[0m\n",
      "File \u001b[0;32m~/Desktop/Uni/PhD/hoping_chain_tensors/lib/python3.9/site-packages/qutip/core/data/solve.py:94\u001b[0m, in \u001b[0;36msolve_csr_dense\u001b[0;34m(matrix, target, method, options)\u001b[0m\n\u001b[1;32m     92\u001b[0m         out \u001b[38;5;241m=\u001b[39m solver(M, b, \u001b[38;5;241m*\u001b[39m\u001b[38;5;241m*\u001b[39moptions)\n\u001b[1;32m     93\u001b[0m     \u001b[38;5;28;01mexcept\u001b[39;00m splinalg\u001b[38;5;241m.\u001b[39mMatrixRankWarning:\n\u001b[0;32m---> 94\u001b[0m         \u001b[38;5;28;01mraise\u001b[39;00m \u001b[38;5;167;01mValueError\u001b[39;00m(\u001b[38;5;124m\"\u001b[39m\u001b[38;5;124mMatrix is singular\u001b[39m\u001b[38;5;124m\"\u001b[39m)\n\u001b[1;32m     96\u001b[0m \u001b[38;5;28;01mif\u001b[39;00m \u001b[38;5;28misinstance\u001b[39m(out, \u001b[38;5;28mtuple\u001b[39m) \u001b[38;5;129;01mand\u001b[39;00m \u001b[38;5;28mlen\u001b[39m(out) \u001b[38;5;241m==\u001b[39m \u001b[38;5;241m2\u001b[39m:\n\u001b[1;32m     97\u001b[0m     \u001b[38;5;66;03m# iterative method return a success flag\u001b[39;00m\n\u001b[1;32m     98\u001b[0m     out, check \u001b[38;5;241m=\u001b[39m out\n",
      "\u001b[0;31mValueError\u001b[0m: Matrix is singular"
     ]
    }
   ],
   "source": [
    "rho_ss = steadystate(H, c_ops=[np.sqrt(gamma)*n1,np.sqrt(gamma)*n2])"
   ]
  },
  {
   "cell_type": "code",
   "execution_count": null,
   "id": "c274a9b0",
   "metadata": {},
   "outputs": [],
   "source": []
  }
 ],
 "metadata": {
  "kernelspec": {
   "display_name": "hopping",
   "language": "python",
   "name": "hopping"
  },
  "language_info": {
   "codemirror_mode": {
    "name": "ipython",
    "version": 3
   },
   "file_extension": ".py",
   "mimetype": "text/x-python",
   "name": "python",
   "nbconvert_exporter": "python",
   "pygments_lexer": "ipython3",
   "version": "3.9.7"
  }
 },
 "nbformat": 4,
 "nbformat_minor": 5
}
