{
 "cells": [
  {
   "cell_type": "code",
   "execution_count": 1,
   "id": "7642fe9e",
   "metadata": {},
   "outputs": [],
   "source": [
    "import numpy as np\n",
    "import matplotlib.pyplot as plt\n",
    "from qutip import  *"
   ]
  },
  {
   "cell_type": "code",
   "execution_count": 31,
   "id": "3732eb96",
   "metadata": {},
   "outputs": [
    {
     "name": "stdout",
     "output_type": "stream",
     "text": [
      "Quantum object: dims=[[2], [1]], shape=(2, 1), type='ket', dtype=Dense\n",
      "Qobj data =\n",
      "[[1.]\n",
      " [0.]]\n",
      "Quantum object: dims=[[2], [2]], shape=(2, 2), type='oper', dtype=Dia, isherm=False\n",
      "Qobj data =\n",
      "[[0. 1.]\n",
      " [0. 0.]]\n"
     ]
    },
    {
     "data": {
      "text/latex": [
       "Quantum object: dims=[[2], [1]], shape=(2, 1), type='ket', dtype=Dense$$\\left(\\begin{array}{cc}0\\\\1\\end{array}\\right)$$"
      ],
      "text/plain": [
       "Quantum object: dims=[[2], [1]], shape=(2, 1), type='ket', dtype=Dense\n",
       "Qobj data =\n",
       "[[0.]\n",
       " [1.]]"
      ]
     },
     "execution_count": 31,
     "metadata": {},
     "output_type": "execute_result"
    }
   ],
   "source": [
    "n = 2\n",
    "vac = basis(n, 0) # vacuum state in Fock space for a two-leve spin case (1/2)\n",
    "a = destroy(n)\n",
    "ad = create(n)\n",
    "print(vac)\n",
    "print(a)\n",
    "\n",
    "ad*vac"
   ]
  },
  {
   "cell_type": "code",
   "execution_count": 32,
   "id": "f71357a3",
   "metadata": {},
   "outputs": [
    {
     "data": {
      "text/latex": [
       "Quantum object: dims=[[2], [2]], shape=(2, 2), type='oper', dtype=CSR, isherm=True$$\\left(\\begin{array}{cc}10 & 0\\\\0 & -10\\end{array}\\right)$$"
      ],
      "text/plain": [
       "Quantum object: dims=[[2], [2]], shape=(2, 2), type='oper', dtype=CSR, isherm=True\n",
       "Qobj data =\n",
       "[[ 10.   0.]\n",
       " [  0. -10.]]"
      ]
     },
     "execution_count": 32,
     "metadata": {},
     "output_type": "execute_result"
    }
   ],
   "source": [
    "10 * sigmaz()"
   ]
  },
  {
   "cell_type": "code",
   "execution_count": null,
   "id": "4b51d975",
   "metadata": {},
   "outputs": [],
   "source": []
  }
 ],
 "metadata": {
  "kernelspec": {
   "display_name": "hopping",
   "language": "python",
   "name": "hopping"
  },
  "language_info": {
   "codemirror_mode": {
    "name": "ipython",
    "version": 3
   },
   "file_extension": ".py",
   "mimetype": "text/x-python",
   "name": "python",
   "nbconvert_exporter": "python",
   "pygments_lexer": "ipython3",
   "version": "3.9.7"
  }
 },
 "nbformat": 4,
 "nbformat_minor": 5
}
