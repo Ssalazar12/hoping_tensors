{
 "cells": [
  {
   "cell_type": "code",
   "execution_count": 25,
   "id": "7250cbfe",
   "metadata": {},
   "outputs": [
    {
     "name": "stderr",
     "output_type": "stream",
     "text": [
      "\u001b[36m\u001b[1m[ \u001b[22m\u001b[39m\u001b[36m\u001b[1mInfo: \u001b[22m\u001b[39mPrecompiling ITensorMPS [0d1a4710-d33b-49a5-8f18-73bdf49b47e2]\n"
     ]
    }
   ],
   "source": [
    "using DrWatson\n",
    "using ITensors, ITensorMPS\n",
    "import ITensors.hasinds\n",
    "using HDF5\n",
    "\n",
    "@quickactivate \"hoping_chain_tensors\""
   ]
  },
  {
   "cell_type": "markdown",
   "id": "0302cf17",
   "metadata": {},
   "source": [
    "# DMRG example\n",
    "\n",
    "From https://itensor.github.io/ITensors.jl/dev/#Singular-Value-Decomposition-(SVD)-of-a-Matrix for reference.\n"
   ]
  },
  {
   "cell_type": "code",
   "execution_count": 27,
   "id": "ee2be57b",
   "metadata": {},
   "outputs": [
    {
     "name": "stdout",
     "output_type": "stream",
     "text": [
      "After sweep 1 energy=-138.83629108206335  maxlinkdim=10 maxerr=1.51E-02 time=0.101\n",
      "After sweep 2 energy=-138.93731849509896  maxlinkdim=20 maxerr=4.71E-06 time=0.198\n",
      "After sweep 3 energy=-138.94008430176675  maxlinkdim=90 maxerr=1.00E-10 time=1.173\n",
      "After sweep 4 energy=-138.940086054326  maxlinkdim=99 maxerr=9.99E-11 time=3.573\n",
      "After sweep 5 energy=-138.94008605321278  maxlinkdim=95 maxerr=9.98E-11 time=3.067\n",
      "Final energy = -138.94008605321278\n"
     ]
    }
   ],
   "source": [
    "let\n",
    "    # Create 100 spin-one indices\n",
    "    N = 100\n",
    "    # makes an array of 100 site-indices which have the properties of S=1 spins (i.e three values -1,0,1)\n",
    "    sites = siteinds(\"S=1\",N) # Tag is \"S=1\"\n",
    "\n",
    "    # Here we will define the parts of the hamiltonian in a bit of an abstract way\n",
    "    os = OpSum() # Accumulates hamiltonian terms so they can be later summed  into an MPO \n",
    "    # iterate over sites\n",
    "    for j=1:N-1\n",
    "        os += \"Sz\",j,\"Sz\",j+1\n",
    "        os += 0.5,\"S+\",j,\"S-\",j+1\n",
    "        os += 0.5,\"S-\",j,\"S+\",j+1\n",
    "    end\n",
    "    H = MPO(os,sites) # construct hamiltonian in MPO format\n",
    "\n",
    "    # Create an initial random matrix product state\n",
    "    # the initial wavefunction guess has indices \"sites\" and bond dimension (linkdims) = 10\n",
    "    # random_mps means that it is constructed from a MPS random quantum circuit.\n",
    "    # Helps avoid getting stuck in local minima\n",
    "    psi0 = random_mps(sites, linkdims=10)\n",
    "\n",
    "    # Do 10 DMR sweeps\n",
    "    nsweeps = 5\n",
    "    # Set the maximum bond dimension for each of the 5 sweeps\n",
    "    maxdim = [10,20,100,100,200]\n",
    "    # Truncation error goal. Can be one for each sweep\n",
    "    # or just the same for all of them\n",
    "    cutoff = 1E-10\n",
    "\n",
    "    # Run the DMRG algorithm, returning energy\n",
    "    # (dominant eigenvalue) and optimized MPS\n",
    "    energy, psi = dmrg(H,psi0; nsweeps, maxdim, cutoff)\n",
    "    # After the dmrg function returns, you can take the returned MPS psi and \n",
    "    # do further calculations with it, such as measuring local operators or \n",
    "    # computing entanglement entropy\n",
    "    println(\"Final energy = $energy\")\n",
    "\n",
    "    nothing\n",
    "end\n"
   ]
  },
  {
   "cell_type": "markdown",
   "id": "56fcd580",
   "metadata": {},
   "source": [
    "# Thight Binding Periodic Boundaries"
   ]
  },
  {
   "cell_type": "code",
   "execution_count": null,
   "id": "aec1d035",
   "metadata": {},
   "outputs": [],
   "source": []
  }
 ],
 "metadata": {
  "kernelspec": {
   "display_name": "hopping",
   "language": "python",
   "name": "hopping"
  },
  "language_info": {
   "codemirror_mode": {
    "name": "ipython",
    "version": 3
   },
   "file_extension": ".py",
   "mimetype": "text/x-python",
   "name": "python",
   "nbconvert_exporter": "python",
   "pygments_lexer": "ipython3",
   "version": "3.9.7"
  }
 },
 "nbformat": 4,
 "nbformat_minor": 5
}
