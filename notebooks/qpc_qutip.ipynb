{
 "cells": [
  {
   "cell_type": "markdown",
   "id": "72bb741a",
   "metadata": {},
   "source": [
    "\n",
    "\n",
    "In this notebook we build upon fermion_spin_hopping_qutip to try and build a QPC meassuring a single/double dot system. Here, we model the QPC as a thighbinding model with equal hopping everywhere except where its is hooked up to the double dot system via a quartic interaction. \n",
    "\n",
    "**This chain should be long enough that the wave packet does not bounce back before we see events in the double dot system**.\n",
    "\n",
    "The double dot is isolated and we are also not considering dephasing anywhere. For this reason, **it may be better to use some Schrödinger equation solver rather than the full Lindbladian**. \n"
   ]
  },
  {
   "cell_type": "code",
   "execution_count": 1,
   "id": "4dade6a7",
   "metadata": {},
   "outputs": [],
   "source": [
    "import numpy as np\n",
    "\n",
    "from scipy.fft import fft, fftfreq, fftshift\n",
    "from scipy.integrate import simpson\n",
    "from scipy import sparse\n",
    "\n",
    "import matplotlib.pyplot as plt\n",
    "import seaborn as sns\n",
    "from qutip import  *\n",
    "import os\n",
    "import sys\n",
    "import h5py\n",
    "import json\n",
    "\n",
    "import matplotlib\n",
    "\n",
    "# add path to project dir so we can include custom modules from src\n",
    "path = os.getcwd()\n",
    "parent_path = os.path.abspath(os.path.join(path, os.pardir))\n",
    "\n",
    "sys.path.insert(0, parent_path)\n",
    "\n",
    "from scripts.qutip_tools import *\n"
   ]
  },
  {
   "cell_type": "code",
   "execution_count": 2,
   "id": "94818b3b",
   "metadata": {},
   "outputs": [],
   "source": [
    "# define basic figure sizes\n",
    "bwidth=7\n",
    "bheight=5\n",
    "base_font = 18\n",
    "\n",
    "matplotlib.rcParams.update({'font.size': base_font,\"legend.fontsize\":base_font-4 ,\"font.family\": \"serif\", \n",
    "                            \"font.serif\": \"CMU Serif, Times New Roman\",\n",
    "                           'text.usetex' : True })\n",
    "\n",
    "sns.set_palette(\"colorblind\")\n",
    "\n",
    "fig_route = \"../plots/QPC_double_dot/\"\n"
   ]
  },
  {
   "cell_type": "code",
   "execution_count": 3,
   "id": "45494692",
   "metadata": {},
   "outputs": [],
   "source": [
    "def gen_gauss_init(l0, sigma, Nsites, k0=0):\n",
    "    # creates a gaussian initial condition centerd on l0 with bandwidth sigma for Nsites\n",
    "    # and initial velocity k0\n",
    "\n",
    "    x = np.asarray(range(0,Nsites))\n",
    "    coefs = ((np.sqrt(np.pi)*sigma)**(-0.5))*np.exp(-0.5*(x-l0)**2/(sigma**2) )*np.exp(1j*k0*(x-l0))\n",
    "    \n",
    "    # normalize\n",
    "    mag = np.dot(np.conjugate(coefs),coefs)\n",
    "    coefs = coefs/np.sqrt(mag)\n",
    "    \n",
    "    return coefs   \n",
    "\n"
   ]
  },
  {
   "cell_type": "code",
   "execution_count": 4,
   "id": "296d8086",
   "metadata": {},
   "outputs": [],
   "source": [
    "def get_qpc_H(op_list, Nsites, Nqpc,jcouple):\n",
    "    # create the Hamiltonian for the QPC where Nsites includes the double dot\n",
    "    # and Nqpc only has the qpc site\n",
    "    ident_tensor = tensor([identity(2)]*(Nsites)) \n",
    "    H = 0*ident_tensor\n",
    "\n",
    "    for site_j in range(0,Nqpc-1):\n",
    "        H += -jcouple[site_j]*(op_list[site_j].dag()*op_list[site_j+1]+\n",
    "                                   op_list[site_j+1].dag()*op_list[site_j])\n",
    "    return H \n",
    "    \n",
    "def gen_QPC_dot_basis(L_QPC, Center_index, Band_w, Kinit, DD0):\n",
    "    # Combines the 1particle bassi of the QPC and the dot to get the full psi\n",
    "\n",
    "    # L_QPC: integer, length of qpc lattice\n",
    "    # Center_index: integer, indicates the lattice site where QPC is initialized\n",
    "    # Band_w: float, band width of the gaussian qave packet in the qpc\n",
    "    # Kinit: float, group velocity of the gaussian wave packet\n",
    "    # DD0: string, tells dot initial condition either \"first\" or \"second\"\n",
    "\n",
    "    # create the 1 particle basis and the coeficients for the initial state\n",
    "    str_list, basis_list = get_1p_basis(L_QPC)\n",
    "  \n",
    "    # build the initial condition for the QPC\n",
    "    qpc_init = gen_gauss_init(Center_index, Band_w, L_QPC, Kinit)\n",
    "\n",
    "    psi_qpc = [qpc_init[j]*basis_list[j] for j in range(0,len(qpc_init))]\n",
    "    \n",
    "    # make sure these stay as sparse matrices\n",
    "    b1 = basis(2,0)\n",
    "    b1.data = data.to(data.CSR, b1.data)\n",
    "    \n",
    "    b2 = basis(2,1)\n",
    "    b2.data = data.to(data.CSR, b2.data)\n",
    "    \n",
    "    # create the dot basis\n",
    "    dot_basis = [tensor(b1,b2), tensor(b2,b1)]\n",
    "    \n",
    "    # build the initial condition for the dot\n",
    "    if DD0 == \"first\": \n",
    "        dot_init = [1.0, 0.0]\n",
    "    elif DD0 == \"second\": \n",
    "        dot_init = [0.0, 1.0]\n",
    "    elif DD0 == \"fixed\":\n",
    "        a0, b0 = get_DD_init_for_fixed_k(Kinit)\n",
    "        dot_init = [a0,b0]\n",
    "    else:\n",
    "        print(\"Invalid initial condition for the double dot\")\n",
    "\n",
    "    psi_dot = [dot_basis[j]*dot_init[j] for j in range(0,len(dot_basis))]\n",
    "    # assume dot initial state completely independent from QPC init state so we can factorize the probas\n",
    "    full_basis = []\n",
    "    # combine them \n",
    "    for i in range(0,len(basis_list)):\n",
    "        for j in range(0, len(dot_basis)):\n",
    "            full_basis.append(tensor([psi_qpc[i], psi_dot[j]]))\n",
    "\n",
    "    # state correspond to particle in qpc all the way to the left and particle on left dot\n",
    "    Psi0 = np.sum(full_basis)\n",
    "    Psi0 = Psi0.unit()   \n",
    "    # Psi0.data = data.to(data.CSR, Psi0.data)\n",
    "    return Psi0, qpc_init\n",
    "    \n",
    "def get_partial_trace(Psi,NN):\n",
    "    # calcualtes the partial trace from a STATEVECTOR Psi\n",
    "    # NOT from the density matrix\n",
    "    # Psi: Quobject from Qutip representing the wavefunction\n",
    "    # NN: integer with the total size of the lattice\n",
    "\n",
    "    n = 2**(NN-2) # QPC sites\n",
    "    m = 2**2 # Double dot sites\n",
    "    # get density matrix as a sparse array\n",
    "    ps = sparse.csr_matrix(Psi.full())\n",
    "    A = sparse.kron(ps, np.conj(ps.T))\n",
    "    # convert to normal array for partial trace operation\n",
    "    Adense = A.toarray()\n",
    "    # trace out QPC sites and return reduced rho for DD as Quobject\n",
    "    return Qobj(np.trace(Adense.reshape(n,m,n,m), axis1=0, axis2=2))\n",
    "\n",
    "\n",
    "def get_DD_init_for_fixed_k(k_prime):\n",
    "    # calculated the initial conditions of the DD such that, when the QPC hits the bond\n",
    "    # its state is the same as that of a DD initialized localized in the first site when \n",
    "    # the QPC for that case hits the bond with an average momentum k0=pi/2\n",
    "    # k_prime: float. The momentum of the qpc particle\n",
    "     \n",
    "    alpha0 = np.cos( (t*bond_index)/(2*J[0])*(1/np.sin(k_prime) - 1) )\n",
    "    beta0 = - 1j*np.sin( (t*bond_index)/(2*J[0])*(1/np.sin(k_prime) - 1) )\n",
    "                        \n",
    "    return alpha0, beta0\n",
    "    "
   ]
  },
  {
   "cell_type": "code",
   "execution_count": 5,
   "id": "c9d87b90",
   "metadata": {},
   "outputs": [],
   "source": [
    "# location where the raw data is saved\n",
    "data_route = \"../data/sims/\"\n",
    "fig_route = \"../plots/QPC_double_dot/\"\n",
    "\n",
    "L_qpc = 16  # lenth of the QPC chain\n",
    "L = L_qpc+2 # QPC times double dot \n",
    "max_t = 9 # maximum time\n",
    "tsteps = 300 # number of time steps\n",
    "bond_index = int(L_qpc/2) # dangling bond between bond_index and bond_index+1\n",
    "centered_at = 0 # initial QPC position of wavepacket\n",
    "band_width = 2.0 # width of the gaussian wave packet larger bandwidth means less lattice localizaiton\n",
    "K0 = np.pi/2 # averga momentum of the wavepacket\n",
    "J_prime = 1.0 # contact to double dot\n",
    "t = 0.2 # hopping between quantum dots \n",
    "Omega = 0.0 # coupling between dot 1 and QPC\n",
    "ddot = \"fixed\" # can be first (localized in 1st site), second (loc in 2nd) or fixed (fixed by K0)\n",
    "gamma=0\n",
    "# dot energies not yet implemented\n",
    "E1 = 0.0\n",
    "E2 = 0.0\n",
    "epsilon = np.zeros(L_qpc) # energies of the QPC chains \n",
    "\n",
    "epsilon[:bond_index] = 0.0 # source energies\n",
    "epsilon[bond_index:] = 0.0 # drain energies\n",
    "J = np.ones(L_qpc) # QPC hopping\n",
    "# this means that I am putting the dangling bond between sites int(L_qpc/2) and int(L_qpc/2)+1\n",
    "# where the interaction to the double dot is also located\n",
    "J[bond_index] = J_prime  \n"
   ]
  },
  {
   "cell_type": "markdown",
   "id": "71be1f42",
   "metadata": {},
   "source": [
    "## Initial conditions"
   ]
  },
  {
   "cell_type": "code",
   "execution_count": 6,
   "id": "d5e04a9a",
   "metadata": {},
   "outputs": [
    {
     "data": {
      "text/plain": [
       "<matplotlib.lines.Line2D at 0x7fa155813610>"
      ]
     },
     "execution_count": 6,
     "metadata": {},
     "output_type": "execute_result"
    },
    {
     "data": {
      "image/png": "[encoded data removed]",
      "text/plain": [
       "<Figure size 400x400 with 1 Axes>"
      ]
     },
     "metadata": {},
     "output_type": "display_data"
    },
    {
     "data": {
      "image/png": "[encoded data removed]",
      "text/plain": [
       "<Figure size 400x400 with 1 Axes>"
      ]
     },
     "metadata": {},
     "output_type": "display_data"
    }
   ],
   "source": [
    "psi0, qpc_init = gen_QPC_dot_basis(L_qpc, centered_at, band_width, K0, ddot)\n",
    "# create the fermion operator list\n",
    "c_list = [fdestroy(L,i) for i in range(0,L)]\n",
    "\n",
    "# we can also calcualte the fourier transform of the initial gaussian to see\n",
    "# the momentum distribution\n",
    "k_arr = np.linspace(-20,20,500)\n",
    "Psi0k = (band_width**2/np.pi)**(1/4)*np.exp(-(0.5*band_width**2)*(k_arr-K0)**2 + 1j*k_arr*centered_at)\n",
    "\n",
    "# visualize the initial condition of the qpc\n",
    "fig, ax = plt.subplots(1,1,figsize=(4,4))\n",
    "\n",
    "ax.plot(range(0,L_qpc),np.abs(qpc_init)**2, linestyle = \"dashed\")\n",
    "\n",
    "fig, ax = plt.subplots(1,1,figsize=(4,4))\n",
    "\n",
    "ax.plot(k_arr,np.abs(Psi0k)**2, linestyle = \"solid\", linewidth=2)\n",
    "ax.axvline(K0,c='black')"
   ]
  },
  {
   "cell_type": "markdown",
   "id": "e19a53e4",
   "metadata": {},
   "source": [
    "## Solution"
   ]
  },
  {
   "cell_type": "code",
   "execution_count": null,
   "id": "a93e1947",
   "metadata": {},
   "outputs": [
    {
     "name": "stdout",
     "output_type": "stream",
     "text": [
      "True True True True\n"
     ]
    },
    {
     "name": "stderr",
     "output_type": "stream",
     "text": [
      "Traceback (most recent call last):\n",
      "capi_return is NULL\n",
      "Call-back cb_f_in_zvode__user__routines failed.\n",
      "  File \"/Users/rasputin/Desktop/Uni/PhD/hoping_chain_tensors/lib/python3.9/site-packages/qutip/solver/integrator/scipy_integrator.py\", line 69, in _mul_np_vec\n",
      "Fatal Python error: F2PySwapThreadLocalCallbackPtr: F2PySwapThreadLocalCallbackPtr: PyLong_AsVoidPtr failed\n",
      "Python runtime state: initialized\n",
      "    out = self.system.matmul_data(t, state)\n",
      "KeyboardInterrupt\n"
     ]
    }
   ],
   "source": [
    "# create the hamiltonian start with qpc\n",
    "H_QC = get_qpc_H(c_list, L ,L_qpc,J)\n",
    "\n",
    "# double dot H\n",
    "Hdot = -t*(c_list[-1].dag()*c_list[-2] + c_list[-2].dag()*c_list[-1])\n",
    "\n",
    "# interaction H\n",
    "Hint =  Omega*c_list[-2].dag()*c_list[-2]*( c_list[bond_index].dag()*c_list[bond_index+1] +\n",
    "                                          c_list[bond_index+1].dag()*c_list[bond_index])\n",
    "\n",
    "H = H_QC + Hdot  + Hint\n",
    "\n",
    "print(H_QC.isherm, Hdot.isherm, Hint.isherm, H.isherm)\n",
    "\n",
    "# get the operators needed for lindbladian \n",
    "# hrtr we don't really want dephasing but just put it there for now\n",
    "collapse_ops, expect_ops = create_lindblad_op(L, c_list, gamma)\n",
    "# add the energy to also track it\n",
    "expect_ops.append(H)\n",
    "\n",
    "times = np.linspace(0.0, max_t, tsteps)\n",
    "# solve for operators\n",
    "result = sesolve(H, psi0, times, e_ops=expect_ops,options={\"store_states\": True})\n",
    "# solve for state\n",
    "# result_psi = sesolve(H, psi0, times)\n",
    "\n",
    "print(result)\n",
    "\n"
   ]
  },
  {
   "cell_type": "code",
   "execution_count": null,
   "id": "dd3918ec",
   "metadata": {},
   "outputs": [],
   "source": [
    "\"\"\"# for plotting SMALL Hamiltonians\n",
    "fig, ax = hinton(H)\n",
    "ax.tick_params(axis='both', which='major', labelsize = 7)\n",
    "ax.tick_params(axis='x', rotation=90)\"\"\"\n"
   ]
  },
  {
   "cell_type": "code",
   "execution_count": null,
   "id": "e512b62b",
   "metadata": {},
   "outputs": [],
   "source": [
    "# exclude the sites at Lp/2 and Lp/2 +1 where the bond is located\n",
    "n_left = np.sum(result.expect[:bond_index], axis=0)\n",
    "# the minus 3 is because we  leave out the energy and dot occupations\n",
    "n_right = np.sum(result.expect[bond_index+2:-3], axis=0)\n",
    "# occupation in the bond\n",
    "n_bond = result.expect[int(bond_index)] + result.expect[bond_index+1] \n"
   ]
  },
  {
   "cell_type": "code",
   "execution_count": null,
   "id": "294c2492",
   "metadata": {},
   "outputs": [],
   "source": [
    "# plot the occupations as a heatmap with lattice site in the y axis and time on the x\n",
    "ax = sns.heatmap(result.expect[:-1],)\n",
    "ax.set_xlabel(\"Time\")\n",
    "ax.set_ylabel(\"Densities\")\n",
    "\n",
    "# plot time or arrival in index coordinates\n",
    "delta_tau = times[1]- times[0]\n",
    "\n",
    "#ax.axhspan(param_dict[\"bond_index\"], param_dict[\"bond_index\"], alpha=0.5)\n",
    "\n",
    "# lattice ticks\n",
    "site_ticks = list(range(0,L_qpc)) + [r\"$d_1$\",r\"$d_2$\"]\n",
    "tick_posy = np.asarray(range(0,len(site_ticks))) + 0.5\n",
    "ax.set_yticks(tick_posy,site_ticks);\n",
    "\n",
    "# time ticks\n",
    "tick_posx = np.arange(0,len(times),20)\n",
    "xtick_label = np.around(tick_posx*(delta_tau),decimals=1)\n",
    "ax.set_xticks(tick_posx,xtick_label);\n",
    "\n",
    "plt.tight_layout()"
   ]
  },
  {
   "cell_type": "markdown",
   "id": "2bd7957c",
   "metadata": {},
   "source": [
    "# Comparisson with the decoupled case"
   ]
  },
  {
   "cell_type": "markdown",
   "id": "2c243d2b",
   "metadata": {},
   "source": [
    "##  Exact $\\psi$ in the QPC\n",
    "\n",
    "Taken from: https://physics.stackexchange.com/questions/709973/open-boundary-condition-in-hubbard-model\n",
    "\n",
    "The eigenbasis of the tight binding QPC Hamiltonian with the double dot interaction is in k-space\n"
   ]
  },
  {
   "cell_type": "code",
   "execution_count": null,
   "id": "8d08c36c",
   "metadata": {},
   "outputs": [],
   "source": [
    "k_arr = (np.pi/(L_qpc+1))*np.arange(1,L_qpc+1)\n",
    "Ek_arr = -2*np.cos(k_arr) # eigenenergies\n",
    "vk_arr = np.zeros((L_qpc, len(k_arr)))# eigenvalues \n",
    "# create the eigenvectors:\n",
    "for k in range(0,len(k_arr)):\n",
    "    # first index is lattice site second index are k-momenta\n",
    "    vk = np.sin(k_arr[k]*np.arange(1,L_qpc+1))\n",
    "    # normalize \n",
    "    mag2 = np.dot(vk,vk)\n",
    "    vk_arr[:,k] = vk/np.sqrt(mag2)\n",
    "\n",
    "# express the time evolution of the occupation psi in terms of the eigenvectors by changing basis\n",
    "psi_t = np.zeros((L_qpc, len(times)),dtype=complex) # first index is lattice site, second is time\n",
    "psi_t[:,0] = qpc_init\n",
    "\n",
    "# time evolution\n",
    "for t_index in range(1,len(times)):\n",
    "    # basis change\n",
    "    for k_index in range(0,len(k_arr)):\n",
    "        tt = times[t_index]\n",
    "        psi_t[:,t_index] += np.dot(qpc_init,vk_arr[:,k_index])*np.exp(-1j*tt*Ek_arr[k_index])*vk_arr[:,k_index]\n",
    "   \n",
    "psi_probas = np.abs(psi_t)**2\n"
   ]
  },
  {
   "cell_type": "markdown",
   "id": "f58e7790",
   "metadata": {},
   "source": [
    "## Trajectories"
   ]
  },
  {
   "cell_type": "code",
   "execution_count": null,
   "id": "c725b084",
   "metadata": {},
   "outputs": [],
   "source": [
    "fig, ax = plt.subplots(1,2,figsize=(10,4))\n",
    "sns.heatmap(psi_probas, ax=ax[0])\n",
    "\n",
    "# ANALYTICAL RESULT\n",
    "ax[0].set_title(\"Analytic\")\n",
    "ax[0].set_xlabel(\"Time\")\n",
    "ax[0].set_ylabel(r\"$\\psi (x,t)$\");\n",
    "\n",
    "# lattice ticks\n",
    "site_ticks = list(range(0,L_qpc))\n",
    "tick_posy = np.asarray(range(0,len(site_ticks))) + 0.5\n",
    "ax[0].set_yticks(tick_posy,site_ticks);\n",
    "\n",
    "# time ticks\n",
    "delta_tau = times[1]- times[0]\n",
    "tick_posx = np.arange(0,len(times),20)\n",
    "xtick_label = np.around(tick_posx*(delta_tau),decimals=1)\n",
    "ax[0].set_xticks(tick_posx,xtick_label);\n",
    "ax[1].set_xticks(tick_posx,xtick_label);\n",
    "\n",
    "# NUMERICAL RESULT\n",
    "sns.heatmap(result.expect[:-3], ax=ax[1])\n",
    "\n",
    "ax[1].set_title(\"Numeric\")\n",
    "ax[1].set_xlabel(\"Time\")\n",
    "ax[1].set_ylabel(r\"$n(x,t)$\");\n",
    "\n",
    "plt.tight_layout()\n",
    "#plt.savefig(fig_route+\"decoupled_trajectories_analytic_comp.png\")\n"
   ]
  },
  {
   "cell_type": "code",
   "execution_count": null,
   "id": "dbed5467",
   "metadata": {},
   "outputs": [],
   "source": [
    "# exclude the sites at Lp/2 and Lp/2 +1 where the bond is located\n",
    "n_left = np.sum(result.expect[:bond_index], axis=0)\n",
    "# the minus 3 is because we  leave out the energy and dot occupations\n",
    "n_right = np.sum(result.expect[bond_index+2:-3], axis=0)\n",
    "# occupation in the bond\n",
    "n_bond = result.expect[int(bond_index)] + result.expect[bond_index+1] \n",
    "\n",
    "fig, ax = plt.subplots(1,2,figsize=(12,4))\n",
    "\n",
    "ax[0].plot(times, n_left, label=\"Left\", c='blue', linewidth=2)\n",
    "ax[0].plot(times,n_right,label=\"Right\", c='green',linewidth=2)\n",
    "ax[0].plot(times,n_bond,label=\"Bond\", linestyle=\"dashed\", c='red',linewidth=2)\n",
    "ax[0].plot(times,result.expect[-4],label=\"last site\", linestyle=\"dotted\",linewidth=2)\n",
    "ax[0].plot(times,n_left+n_right+n_bond, c = 'black',linewidth=2)\n",
    "ax[0].set_xlabel(\"time\")\n",
    "ax[0].set_ylabel(\"Numeric Densities\")\n",
    "ax[0].legend()\n",
    "\n",
    "# now we do the same but for the analytical results\n",
    "\n",
    "n_left = np.sum(psi_probas[:bond_index,:], axis=0)\n",
    "n_right = np.sum(psi_probas[bond_index+2:,:], axis=0)\n",
    "n_bond = psi_probas[bond_index,:] + psi_probas[bond_index+1,:] \n",
    "\n",
    "ax[1].plot(times, n_left, label=\"Left\", c='blue', linewidth=2)\n",
    "ax[1].plot(times,n_right,label=\"Right\", c='green',linewidth=2)\n",
    "ax[1].plot(times,n_bond,label=\"Bond\", linestyle=\"dashed\", c='red',linewidth=2)\n",
    "ax[1].plot(times,result.expect[-4],label=\"last site\", linestyle=\"dotted\",linewidth=2)\n",
    "ax[1].plot(times,n_left+n_right+n_bond, c = 'black',linewidth=2)\n",
    "ax[1].set_xlabel(\"time\")\n",
    "ax[1].set_ylabel(r\"$\\rm{Analytical } \\psi(t) $\")\n"
   ]
  },
  {
   "cell_type": "markdown",
   "id": "a5241cf3",
   "metadata": {},
   "source": [
    "## Rabi Oscillations in the double dot"
   ]
  },
  {
   "cell_type": "code",
   "execution_count": null,
   "id": "07ee689c",
   "metadata": {},
   "outputs": [],
   "source": [
    "fig, ax = plt.subplots(1,1, figsize=(6,3),sharex=True)\n",
    "wr = t\n",
    "rabi_osc = np.sin(wr*times)**2\n",
    "\n",
    "# in dot\n",
    "ax.plot(times, rabi_osc, linewidth=2.0, alpha=1.0, c='black' ,label=\"Rabi\")\n",
    "ax.plot(times, result.expect[-2], linewidth=2.0, alpha=1.0, linestyle=\"dashed\" ,\n",
    "        label=\"Numeric d2\")\n",
    "\n",
    "ax.plot(times, result.expect[-3], linewidth=2.0, alpha=1.0, linestyle=\"dashed\" ,\n",
    "        label=\"Numeric d1\")\n",
    "\n",
    "ax.plot(times, result.expect[-2]+result.expect[-3])\n",
    "\n",
    "plt.ylabel(\"Dot Occupation\")\n",
    "plt.xlabel(\"Time\")\n",
    "\n",
    "plt.legend()\n",
    "plt.tight_layout()\n",
    "#plt.savefig(fig_route+\"decoupled_rabi_analytic_comp.png\")\n",
    "\n"
   ]
  },
  {
   "cell_type": "markdown",
   "id": "7aea21e5",
   "metadata": {},
   "source": [
    "# Entanglement Meassures"
   ]
  },
  {
   "cell_type": "code",
   "execution_count": null,
   "id": "2ddd345e",
   "metadata": {},
   "outputs": [],
   "source": [
    "purity_list = []\n",
    "entropy_list = []\n",
    "rho_list = []\n",
    "# skip some times otherwise its too heavy\n",
    "tskip=20\n",
    "state_arr = result.states[0::tskip]\n",
    "\n",
    "for ti in range(0,len(state_arr)):\n",
    "    # DD reduced density matrix\n",
    "    # rho_DD = get_partial_trace(state_arr[ti], L_qpc+2)\n",
    "    # transform to sparse\n",
    "    state_spa = state_arr[ti]\n",
    "    state_spa.data = data.to(data.CSR, state_spa.data)\n",
    "    rho = state_spa*state_spa.dag()\n",
    "    rho_DD = rho.ptrace(sel=[L-2,L-1])\n",
    "    # purity\n",
    "    purity_list.append((rho_DD**2).tr())\n",
    "    entropy_list.append(entropy_vn(rho_DD, sparse=True))\n",
    "    rho_list.append(rho_DD)"
   ]
  },
  {
   "cell_type": "code",
   "execution_count": null,
   "id": "8f83ef0b",
   "metadata": {},
   "outputs": [],
   "source": [
    "plt.plot(times[0::tskip],entropy_list)"
   ]
  },
  {
   "cell_type": "markdown",
   "id": "526ae6ae",
   "metadata": {},
   "source": [
    "# Bloch Sphere\n",
    "\n",
    "two ideas: either trace out dot 2 or just isolate the block corresponding to the actual two state system. Remember that here the density matrix of the double dot is not sxs but 4x4 beacuse in each lattice there is an occupied and unoccupied state. For the spinless case this measn that there are surplus degrees of freedom but this will be useul for spin cases."
   ]
  },
  {
   "cell_type": "code",
   "execution_count": null,
   "id": "5e324927",
   "metadata": {},
   "outputs": [],
   "source": [
    "bs = Bloch()\n",
    "\n",
    "corr_purity_list = []\n",
    "corr_rho_list = []\n",
    "theta_list = []\n",
    "phi_list = []\n",
    "\n",
    "for i in range(0,len(rho_list)):\n",
    "     # extract the relevant 2x2 block as a qubit state from the 4x4 double dot density matrix\n",
    "    r = Qobj(rho_list[i][1:-1,1:-1])\n",
    "    corr_rho_list.append(r)\n",
    "    corr_purity_list.append((r**2).tr())\n",
    "    # we can also find the blocj sphere angles from the numeric rho from the\n",
    "    # mixed state bloch sphere representation. Check page 34 of my notes for this \n",
    "    Sig_matrix = 2*r - identity(2)\n",
    "    theta_p = np.arccos(Sig_matrix[0,0])\n",
    "    phi_p = -np.arccos( 0.5*(Sig_matrix[1,0]+Sig_matrix[0,1])/np.sin(theta_p) )\n",
    "    \n",
    "    theta_list.append(theta_p)\n",
    "    phi_list.append(phi_p)\n",
    "\n",
    "theta_list = np.asarray(theta_list)\n",
    "phi_list = np.asarray(phi_list)\n",
    "\n",
    "# now generate the expected free oscillations\n",
    "w = t\n",
    "theta_free = 2*w*times\n",
    "phi_free = -0.5*np.pi\n",
    "\n",
    "# writting out free case solution in spherical coordinates\n",
    "x_ = np.sin(theta_free+np.pi)*np.cos(phi_free)\n",
    "y_ = np.sin(theta_free+np.pi)*np.sin(phi_free)\n",
    "z_ = np.cos(theta_free+np.pi)\n",
    "# the + pi in the angle is because we start the system in the 1 state instead of the 0 \n",
    "\n",
    "psi_points = [x_, y_, z_]\n",
    "    \n",
    "bs.vector_color = [\"royalblue\"]*len(corr_rho_list) \n",
    "\n",
    "bs.add_points(psi_points)\n",
    "bs.add_states(corr_rho_list)\n",
    "\n",
    "bs.show()\n"
   ]
  },
  {
   "cell_type": "code",
   "execution_count": null,
   "id": "aa5d3c36",
   "metadata": {},
   "outputs": [],
   "source": [
    "plt.plot(times, theta_free, c='royalblue', linewidth=3, label=r\"$\\theta$\")\n",
    "plt.axhline(phi_free, c = \"salmon\",linewidth=3, label=r\"$\\phi$\")\n",
    "plt.plot(times[::tskip], theta_list.real, c='blue', linestyle=\"dashed\", linewidth=3)\n",
    "\n",
    "plt.plot(times[::tskip], phi_list.real, c='red', linestyle=\"dashed\", linewidth=3)\n",
    "plt.legend()\n",
    "plt.xlabel(r\"Time\")\n",
    "plt.ylabel(r\"Bloch Angles\")\n",
    "\n",
    "plt.figure()\n",
    "plt.plot(corr_purity_list)"
   ]
  },
  {
   "cell_type": "code",
   "execution_count": null,
   "id": "a5ec17ad",
   "metadata": {},
   "outputs": [],
   "source": []
  }
 ],
 "metadata": {
  "kernelspec": {
   "display_name": "hopping",
   "language": "python",
   "name": "hopping"
  },
  "language_info": {
   "codemirror_mode": {
    "name": "ipython",
    "version": 3
   },
   "file_extension": ".py",
   "mimetype": "text/x-python",
   "name": "python",
   "nbconvert_exporter": "python",
   "pygments_lexer": "ipython3",
   "version": "3.9.7"
  }
 },
 "nbformat": 4,
 "nbformat_minor": 5
}
