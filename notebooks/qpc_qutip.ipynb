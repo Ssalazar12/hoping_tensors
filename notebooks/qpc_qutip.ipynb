{
 "cells": [
  {
   "cell_type": "markdown",
   "id": "72bb741a",
   "metadata": {},
   "source": [
    "# THIS is an old debugging notebook the most up to date version is found at qpc_dd_sim\n",
    "\n",
    "In this notebook we build upon fermion_spin_hopping_qutip to try and build a QPC meassuring a single/double dot system. Here, we model the QPC as a thighbinding model with equal hopping everywhere except where its is hooked up to the double dot system via a quartic interaction. \n",
    "\n",
    "**This chain should be long enough that the wave packet does not bounce back before we see events in the double dot system**.\n",
    "\n",
    "The double dot is isolated and we are also not considering dephasing anywhere. For this reason, **it may be better to use some Schrödinger equation solver rather than the full Lindbladian**. \n",
    "\n",
    "\n",
    "## What we could do here is write a cluster script that runs this like 100 times such that at each simulation we have an independent electron interacting with the double dot. We could then average over that "
   ]
  },
  {
   "cell_type": "code",
   "execution_count": 1,
   "id": "4dade6a7",
   "metadata": {},
   "outputs": [],
   "source": [
    "import numpy as np\n",
    "\n",
    "from scipy.fft import fft, fftfreq, fftshift\n",
    "from scipy.integrate import simpson\n",
    "from scipy import sparse\n",
    "\n",
    "import matplotlib.pyplot as plt\n",
    "import seaborn as sns\n",
    "from qutip import  *\n",
    "import os\n",
    "import sys\n",
    "import h5py\n",
    "import json\n",
    "\n",
    "import matplotlib\n",
    "\n",
    "# add path to project dir so we can include custom modules from src\n",
    "path = os.getcwd()\n",
    "parent_path = os.path.abspath(os.path.join(path, os.pardir))\n",
    "\n",
    "sys.path.insert(0, parent_path)\n",
    "\n",
    "from src.qutip_tools import *\n"
   ]
  },
  {
   "cell_type": "code",
   "execution_count": 2,
   "id": "94818b3b",
   "metadata": {},
   "outputs": [],
   "source": [
    "# define basic figure sizes\n",
    "bwidth=7\n",
    "bheight=5\n",
    "base_font = 18\n",
    "\n",
    "matplotlib.rcParams.update({'font.size': base_font,\"legend.fontsize\":base_font-4 ,\"font.family\": \"serif\", \n",
    "                            \"font.serif\": \"CMU Serif, Times New Roman\",\n",
    "                           'text.usetex' : True })\n",
    "\n",
    "sns.set_palette(\"colorblind\")\n",
    "\n",
    "fig_route = \"../plots/QPC_double_dot/\"\n"
   ]
  },
  {
   "cell_type": "code",
   "execution_count": 3,
   "id": "45494692",
   "metadata": {},
   "outputs": [],
   "source": [
    "def gen_gauss_init(l0, sigma, Nsites, k0=0):\n",
    "    # creates a gaussian initial condition centerd on l0 with bandwidth sigma for Nsites\n",
    "    # and initial velocity k0\n",
    "\n",
    "    x = np.asarray(range(0,Nsites))\n",
    "    coefs = ((np.sqrt(np.pi)*sigma)**(-0.5))*np.exp(-0.5*(x-l0)**2/(sigma**2) )*np.exp(1j*k0*(x-l0))\n",
    "    \n",
    "    # normalize\n",
    "    mag = np.dot(np.conjugate(coefs),coefs)\n",
    "    coefs = coefs/np.sqrt(mag)\n",
    "    \n",
    "    return coefs    "
   ]
  },
  {
   "cell_type": "code",
   "execution_count": 4,
   "id": "296d8086",
   "metadata": {},
   "outputs": [],
   "source": [
    "def get_qpc_H(op_list, Nsites, Nqpc,jcouple):\n",
    "    # create the Hamiltonian for the QPC where Nsites includes the double dot\n",
    "    # and Nqpc only has the qpc site\n",
    "    ident_tensor = tensor([identity(2)]*(Nsites)) \n",
    "    H = 0*ident_tensor\n",
    "\n",
    "    for site_j in range(0,Nqpc-1):\n",
    "        H += -jcouple[site_j]*(op_list[site_j].dag()*op_list[site_j+1]+\n",
    "                                   op_list[site_j+1].dag()*op_list[site_j])\n",
    "    return H \n",
    "    \n",
    "def gen_QPC_dot_basis(L_QPC, Center_index, Band_w, Kinit):\n",
    "    # Combines the 1particle bassi of the QPC and the dot to get the full psi\n",
    "\n",
    "    # L_QPC: integer, length of qpc lattice\n",
    "    # Center_index: integer, indicates the lattice site where QPC is initialized\n",
    "    # Band_w: float, band width of the gaussian qave packet in the qpc\n",
    "    # Kinit: float, group velocity of the gaussian wave packet\n",
    "\n",
    "    # create the 1 particle basis and the coeficients for the initial state\n",
    "    str_list, basis_list = get_1p_basis(L_QPC)\n",
    "    # build the initial condition for the QPC\n",
    "    qpc_init = gen_gauss_init(Center_index, Band_w, L_QPC, k0=Kinit)\n",
    "\n",
    "    psi_qpc = [qpc_init[j]*basis_list[j] for j in range(0,len(qpc_init))]\n",
    "\n",
    "    # create the dot basis\n",
    "    dot_basis = [tensor(basis(2,0),basis(2,1)), tensor(basis(2,1),basis(2,0))]\n",
    "    # build the initial condition for the dot\n",
    "    dot_init = [0.0, 1.0]\n",
    "    psi_dot = [dot_basis[j]*dot_init[j] for j in range(0,len(dot_basis))]\n",
    "\n",
    "    # assume dot initial state completely independent from QPC init state so we can factorize the probas\n",
    "    full_basis = []\n",
    "    # combine them \n",
    "    for i in range(0,len(basis_list)):\n",
    "        for j in range(0, len(dot_basis)):\n",
    "            full_basis.append(tensor([psi_qpc[i], psi_dot[j]]))\n",
    "\n",
    "    # state correspond to particle in qpc all the way to the left and particle on left dot\n",
    "    Psi0 = np.sum(full_basis)\n",
    "    Psi0 = Psi0.unit()   \n",
    "    \n",
    "    return Psi0, qpc_init\n",
    "    \n",
    "def get_partial_trace(Psi,NN):\n",
    "    # calcualtes the partial trace from a STATEVECTOR Psi\n",
    "    # NOT from the density matrix\n",
    "    # Psi: Quobject from Qutip representing the wavefunction\n",
    "    # NN: integer with the total size of the lattice\n",
    "\n",
    "    n = 2**(NN-2) # QPC sites\n",
    "    m = 2**2 # Double dot sites\n",
    "    # get density matrix as a sparse array\n",
    "    ps = sparse.csr_matrix(Psi.full())\n",
    "    A = sparse.kron(ps, np.conj(ps.T))\n",
    "    # convert to normal array for partial trace operation\n",
    "    Adense = A.toarray()\n",
    "    # trace out QPC sites and return reduced rho for DD as Quobject\n",
    "    return Qobj(np.trace(Adense.reshape(n,m,n,m), axis1=0, axis2=2))\n"
   ]
  },
  {
   "cell_type": "code",
   "execution_count": 5,
   "id": "c9d87b90",
   "metadata": {},
   "outputs": [],
   "source": [
    "# location where the raw data is saved\n",
    "data_route = \"../data/sims/\"\n",
    "fig_route = \"../plots/QPC_double_dot/\"\n",
    "\n",
    "L_qpc = 18  # lenth of the QPC chain\n",
    "L = L_qpc+2 # QPC times double dot \n",
    "max_t = 10 # maximum time\n",
    "tsteps = 300 # number of time steps\n",
    "bond_index = int(L_qpc/2) # dangling bond between bond_index and bond_index+1\n",
    "gamma = 0.0\n",
    "centered_at = 0 # initial QPC position of wavepacket\n",
    "band_width = 2.0 # width of the gaussian wave packet larger bandwidth means less lattice localizaiton\n",
    "K0 = 1.0 # Initial velocity of the wavepacket\n",
    "J_prime = 1.0 # contact to double dot\n",
    "t = 0.2 # hopping between quantum dots \n",
    "Omega = 0.5 # coupling between dot 1 and QPC\n",
    "\n",
    "# dot energies not yet implemented\n",
    "E1 = 0.0\n",
    "E2 = 0.0\n",
    "epsilon = np.zeros(L_qpc) # energies of the QPC chains \n",
    "\n",
    "epsilon[:bond_index] = 0.0 # source energies\n",
    "epsilon[bond_index:] = 0.0 # drain energies\n",
    "J = np.ones(L_qpc) # QPC hopping\n",
    "# this means that I am putting the dangling bond between sites int(L_qpc/2) and int(L_qpc/2)+1\n",
    "# where the interaction to the double dot is also located\n",
    "J[bond_index] = J_prime  \n"
   ]
  },
  {
   "cell_type": "markdown",
   "id": "71be1f42",
   "metadata": {},
   "source": [
    "## Initial conditions"
   ]
  },
  {
   "cell_type": "code",
   "execution_count": 6,
   "id": "d5e04a9a",
   "metadata": {},
   "outputs": [
    {
     "data": {
      "text/plain": [
       "<matplotlib.lines.Line2D at 0x7fc212becd00>"
      ]
     },
     "execution_count": 6,
     "metadata": {},
     "output_type": "execute_result"
    },
    {
     "data": {
      "image/png": "[encoded data removed]",
      "text/plain": [
       "<Figure size 400x400 with 1 Axes>"
      ]
     },
     "metadata": {},
     "output_type": "display_data"
    },
    {
     "data": {
      "image/png": "[encoded data removed]",
      "text/plain": [
       "<Figure size 400x400 with 1 Axes>"
      ]
     },
     "metadata": {},
     "output_type": "display_data"
    }
   ],
   "source": [
    "psi0, qpc_init = gen_QPC_dot_basis(L_qpc, centered_at, band_width, K0)\n",
    "# create the fermion operator list\n",
    "c_list = [fdestroy(L,i) for i in range(0,L)]\n",
    "\n",
    "# we can also calcualte the fourier transform of the initial gaussian to see\n",
    "# the momentum distribution\n",
    "k_arr = np.linspace(-20,20,500)\n",
    "Psi0k = (band_width**2/np.pi)**(1/4)*np.exp(-(0.5*band_width**2)*(k_arr-K0)**2 + 1j*k_arr*centered_at)\n",
    "\n",
    "# visualize the initial condition of the qpc\n",
    "fig, ax = plt.subplots(1,1,figsize=(4,4))\n",
    "\n",
    "ax.plot(range(0,L_qpc),np.abs(qpc_init)**2, linestyle = \"dashed\")\n",
    "\n",
    "fig, ax = plt.subplots(1,1,figsize=(4,4))\n",
    "\n",
    "ax.plot(k_arr,np.abs(Psi0k)**2, linestyle = \"solid\", linewidth=2)\n",
    "ax.axvline(K0,c='black')"
   ]
  },
  {
   "cell_type": "markdown",
   "id": "e19a53e4",
   "metadata": {},
   "source": [
    "## Solution"
   ]
  },
  {
   "cell_type": "code",
   "execution_count": null,
   "id": "a93e1947",
   "metadata": {},
   "outputs": [
    {
     "name": "stdout",
     "output_type": "stream",
     "text": [
      "True True True True\n"
     ]
    }
   ],
   "source": [
    "# create the hamiltonian start with qpc\n",
    "H_QC = get_qpc_H(c_list, L ,L_qpc,J)\n",
    "\n",
    "# double dot H\n",
    "Hdot = -t*(c_list[-1].dag()*c_list[-2] + c_list[-2].dag()*c_list[-1])\n",
    "\n",
    "# interaction H\n",
    "Hint =  Omega*c_list[-2].dag()*c_list[-2]*( c_list[bond_index].dag()*c_list[bond_index+1] +\n",
    "                                          c_list[bond_index+1].dag()*c_list[bond_index])\n",
    "\n",
    "H = H_QC + Hdot  + Hint\n",
    "\n",
    "print(H_QC.isherm, Hdot.isherm, Hint.isherm, H.isherm)\n",
    "\n",
    "# get the operators needed for lindbladian \n",
    "# hrtr we don't really want dephasing but just put it there for now\n",
    "collapse_ops, expect_ops = create_lindblad_op(L, c_list, gamma)\n",
    "# add the energy to also track it\n",
    "expect_ops.append(H)\n",
    "\n",
    "\n",
    "times = np.linspace(0.0, max_t, tsteps)\n",
    "# solve for operators\n",
    "result = sesolve(H, psi0, times, e_ops=expect_ops,options={\"store_states\": True})\n",
    "# solve for state\n",
    "# result_psi = sesolve(H, psi0, times)\n",
    "\n",
    "print(result)\n",
    "\n"
   ]
  },
  {
   "cell_type": "code",
   "execution_count": null,
   "id": "dd3918ec",
   "metadata": {},
   "outputs": [],
   "source": [
    "\"\"\"# for plotting SMALL Hamiltonians\n",
    "fig, ax = hinton(H)\n",
    "ax.tick_params(axis='both', which='major', labelsize = 7)\n",
    "ax.tick_params(axis='x', rotation=90)\"\"\"\n"
   ]
  },
  {
   "cell_type": "code",
   "execution_count": null,
   "id": "e512b62b",
   "metadata": {},
   "outputs": [],
   "source": [
    "# exclude the sites at Lp/2 and Lp/2 +1 where the bond is located\n",
    "n_left = np.sum(result.expect[:bond_index], axis=0)\n",
    "# the minus 3 is because we  leave out the energy and dot occupations\n",
    "n_right = np.sum(result.expect[bond_index+2:-3], axis=0)\n",
    "# occupation in the bond\n",
    "n_bond = result.expect[int(bond_index)] + result.expect[bond_index+1] \n"
   ]
  },
  {
   "cell_type": "markdown",
   "id": "2bd7957c",
   "metadata": {},
   "source": [
    "# Comparisson with the decoupled case"
   ]
  },
  {
   "cell_type": "markdown",
   "id": "2c243d2b",
   "metadata": {},
   "source": [
    "##  Exact $\\psi$ in the QPC\n",
    "\n",
    "Taken from: https://physics.stackexchange.com/questions/709973/open-boundary-condition-in-hubbard-model\n",
    "\n",
    "The eigenbasis of the tight binding QPC Hamiltonian with the double dot interaction is in k-space\n"
   ]
  },
  {
   "cell_type": "code",
   "execution_count": null,
   "id": "8d08c36c",
   "metadata": {},
   "outputs": [],
   "source": [
    "k_arr = (np.pi/(L_qpc+1))*np.arange(1,L_qpc+1)\n",
    "Ek_arr = -2*np.cos(k_arr) # eigenenergies\n",
    "vk_arr = np.zeros((L_qpc, len(k_arr)))# eigenvalues \n",
    "# create the eigenvectors:\n",
    "for k in range(0,len(k_arr)):\n",
    "    # first index is lattice site second index are k-momenta\n",
    "    vk = np.sin(k_arr[k]*np.arange(1,L_qpc+1))\n",
    "    # normalize \n",
    "    mag2 = np.dot(vk,vk)\n",
    "    vk_arr[:,k] = vk/np.sqrt(mag2)\n",
    "\n",
    "# express the time evolution of the occupation psi in terms of the eigenvectors by changing basis\n",
    "psi_t = np.zeros((L_qpc, len(times)),dtype=complex) # first index is lattice site, second is time\n",
    "psi_t[:,0] = qpc_init\n",
    "\n",
    "# time evolution\n",
    "for t_index in range(1,len(times)):\n",
    "    # basis change\n",
    "    for k_index in range(0,len(k_arr)):\n",
    "        tt = times[t_index]\n",
    "        psi_t[:,t_index] += np.dot(qpc_init,vk_arr[:,k_index])*np.exp(-1j*tt*Ek_arr[k_index])*vk_arr[:,k_index]\n",
    "   \n",
    "psi_probas = np.abs(psi_t)**2\n"
   ]
  },
  {
   "cell_type": "markdown",
   "id": "f58e7790",
   "metadata": {},
   "source": [
    "## Trajectories"
   ]
  },
  {
   "cell_type": "code",
   "execution_count": null,
   "id": "c725b084",
   "metadata": {},
   "outputs": [],
   "source": [
    "fig, ax = plt.subplots(1,2,figsize=(10,4))\n",
    "sns.heatmap(psi_probas, ax=ax[0])\n",
    "\n",
    "# ANALYTICAL RESULT\n",
    "ax[0].set_title(\"Analytic\")\n",
    "ax[0].set_xlabel(\"Time\")\n",
    "ax[0].set_ylabel(r\"$\\psi (x,t)$\");\n",
    "\n",
    "# lattice ticks\n",
    "site_ticks = list(range(0,L_qpc))\n",
    "tick_posy = np.asarray(range(0,len(site_ticks))) + 0.5\n",
    "ax[0].set_yticks(tick_posy,site_ticks);\n",
    "\n",
    "# time ticks\n",
    "delta_tau = times[1]- times[0]\n",
    "tick_posx = np.arange(0,len(times),20)\n",
    "xtick_label = np.around(tick_posx*(delta_tau),decimals=1)\n",
    "ax[0].set_xticks(tick_posx,xtick_label);\n",
    "ax[1].set_xticks(tick_posx,xtick_label);\n",
    "\n",
    "# NUMERICAL RESULT\n",
    "sns.heatmap(result.expect[:-3], ax=ax[1])\n",
    "\n",
    "ax[1].set_title(\"Numeric\")\n",
    "ax[1].set_xlabel(\"Time\")\n",
    "ax[1].set_ylabel(r\"$n(x,t)$\");\n",
    "\n",
    "plt.tight_layout()\n",
    "#plt.savefig(fig_route+\"decoupled_trajectories_analytic_comp.png\")\n"
   ]
  },
  {
   "cell_type": "code",
   "execution_count": null,
   "id": "dbed5467",
   "metadata": {},
   "outputs": [],
   "source": [
    "# exclude the sites at Lp/2 and Lp/2 +1 where the bond is located\n",
    "n_left = np.sum(result.expect[:bond_index], axis=0)\n",
    "# the minus 3 is because we  leave out the energy and dot occupations\n",
    "n_right = np.sum(result.expect[bond_index+2:-3], axis=0)\n",
    "# occupation in the bond\n",
    "n_bond = result.expect[int(bond_index)] + result.expect[bond_index+1] \n",
    "\n",
    "fig, ax = plt.subplots(1,2,figsize=(12,4))\n",
    "\n",
    "ax[0].plot(times, n_left, label=\"Left\", c='blue', linewidth=2)\n",
    "ax[0].plot(times,n_right,label=\"Right\", c='green',linewidth=2)\n",
    "ax[0].plot(times,n_bond,label=\"Bond\", linestyle=\"dashed\", c='red',linewidth=2)\n",
    "ax[0].plot(times,result.expect[-4],label=\"last site\", linestyle=\"dotted\",linewidth=2)\n",
    "ax[0].plot(times,n_left+n_right+n_bond, c = 'black',linewidth=2)\n",
    "ax[0].set_xlabel(\"time\")\n",
    "ax[0].set_ylabel(\"Numeric Densities\")\n",
    "ax[0].legend()\n",
    "\n",
    "# now we do the same but for the analytical results\n",
    "\n",
    "n_left = np.sum(psi_probas[:bond_index,:], axis=0)\n",
    "n_right = np.sum(psi_probas[bond_index+2:,:], axis=0)\n",
    "n_bond = psi_probas[bond_index,:] + psi_probas[bond_index+1,:] \n",
    "\n",
    "ax[1].plot(times, n_left, label=\"Left\", c='blue', linewidth=2)\n",
    "ax[1].plot(times,n_right,label=\"Right\", c='green',linewidth=2)\n",
    "ax[1].plot(times,n_bond,label=\"Bond\", linestyle=\"dashed\", c='red',linewidth=2)\n",
    "ax[1].plot(times,result.expect[-4],label=\"last site\", linestyle=\"dotted\",linewidth=2)\n",
    "ax[1].plot(times,n_left+n_right+n_bond, c = 'black',linewidth=2)\n",
    "ax[1].set_xlabel(\"time\")\n",
    "ax[1].set_ylabel(r\"$\\rm{Analytical } \\psi(t) $\")\n"
   ]
  },
  {
   "cell_type": "markdown",
   "id": "a5241cf3",
   "metadata": {},
   "source": [
    "## Rabi Oscillations in the double dot"
   ]
  },
  {
   "cell_type": "code",
   "execution_count": null,
   "id": "07ee689c",
   "metadata": {},
   "outputs": [],
   "source": [
    "fig, ax = plt.subplots(1,1, figsize=(6,3),sharex=True)\n",
    "wr = t\n",
    "rabi_osc = np.sin(wr*times)**2\n",
    "\n",
    "# in dot\n",
    "ax.plot(times, rabi_osc, linewidth=2.0, alpha=1.0, c='black' ,label=\"Rabi\")\n",
    "ax.plot(times, result.expect[-2], linewidth=2.0, alpha=1.0, linestyle=\"dashed\" ,\n",
    "        label=\"Numeric d2\")\n",
    "\n",
    "ax.plot(times, result.expect[-3], linewidth=2.0, alpha=1.0, linestyle=\"dashed\" ,\n",
    "        label=\"Numeric d1\")\n",
    "\n",
    "plt.ylabel(\"Dot Occupation\")\n",
    "plt.xlabel(\"Time\")\n",
    "\n",
    "plt.legend()\n",
    "plt.tight_layout()\n",
    "#plt.savefig(fig_route+\"decoupled_rabi_analytic_comp.png\")\n",
    "\n"
   ]
  },
  {
   "cell_type": "markdown",
   "id": "7aea21e5",
   "metadata": {},
   "source": [
    "# Entanglement Meassures"
   ]
  },
  {
   "cell_type": "code",
   "execution_count": null,
   "id": "2ddd345e",
   "metadata": {},
   "outputs": [],
   "source": [
    "purity_list = []\n",
    "entropy_list = []\n",
    "# skip some times otherwise its too heavy\n",
    "tskip=5\n",
    "state_arr = result.states[0::tskip]\n",
    "for ti in range(0,len(state_arr)):\n",
    "    # DD reduced density matrix\n",
    "    rho_DD = get_partial_trace(result.states[ti], L)\n",
    "    # purity\n",
    "    purity_list.append((rho_DD**2).tr())\n",
    "    entropy_list.append(entropy_vn(rho_DD, sparse=False))"
   ]
  },
  {
   "cell_type": "code",
   "execution_count": null,
   "id": "f04c6a87",
   "metadata": {},
   "outputs": [],
   "source": [
    "plt.plot(times[0::tskip],purity_list)"
   ]
  },
  {
   "cell_type": "code",
   "execution_count": null,
   "id": "8f83ef0b",
   "metadata": {},
   "outputs": [],
   "source": [
    "plt.plot(times[0::tskip],entropy_list)"
   ]
  },
  {
   "cell_type": "code",
   "execution_count": null,
   "id": "4bc5052e",
   "metadata": {},
   "outputs": [],
   "source": []
  },
  {
   "cell_type": "code",
   "execution_count": null,
   "id": "1b117f97",
   "metadata": {},
   "outputs": [],
   "source": [
    "aa = qload(\"mok\")"
   ]
  },
  {
   "cell_type": "code",
   "execution_count": null,
   "id": "edea42ab",
   "metadata": {},
   "outputs": [],
   "source": []
  }
 ],
 "metadata": {
  "kernelspec": {
   "display_name": "hopping",
   "language": "python",
   "name": "hopping"
  },
  "language_info": {
   "codemirror_mode": {
    "name": "ipython",
    "version": 3
   },
   "file_extension": ".py",
   "mimetype": "text/x-python",
   "name": "python",
   "nbconvert_exporter": "python",
   "pygments_lexer": "ipython3",
   "version": "3.9.7"
  }
 },
 "nbformat": 4,
 "nbformat_minor": 5
}
